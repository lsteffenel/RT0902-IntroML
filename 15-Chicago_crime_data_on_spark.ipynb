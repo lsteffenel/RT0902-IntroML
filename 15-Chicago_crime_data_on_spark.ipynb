{
  "cells": [
    {
      "cell_type": "markdown",
      "metadata": {
        "id": "view-in-github",
        "colab_type": "text"
      },
      "source": [
        "<a href=\"https://colab.research.google.com/github/lsteffenel/RT0902-IntroML/blob/main/15-Chicago_crime_data_on_spark.ipynb\" target=\"_parent\"><img src=\"https://colab.research.google.com/assets/colab-badge.svg\" alt=\"Open In Colab\"/></a>"
      ]
    },
    {
      "cell_type": "markdown",
      "metadata": {
        "id": "l5NGFmN8B11c"
      },
      "source": [
        "# Chicago crime dataset analysis\n",
        "---\n",
        "\n",
        "Ce notebook permet d'appliquer un peu de vos connaissances à la découverte d'un vrai dataset.\n",
        "\n",
        "Vous allez effectuer :\n",
        " * Lecture, transformation et requêtage avec Apache Spark.\n",
        " * Parfois, transformer les données en Pandas pour une meilleure visualisation.\n"
      ]
    },
    {
      "cell_type": "markdown",
      "metadata": {
        "id": "orsg3O-SB11e"
      },
      "source": [
        "---\n",
        "\n",
        "## Quelques Import\n",
        "\n"
      ]
    },
    {
      "cell_type": "markdown",
      "metadata": {
        "id": "1zbNyaRuB11f"
      },
      "source": [
        "Import de Pandas et Matplotlib"
      ]
    },
    {
      "cell_type": "code",
      "execution_count": 1,
      "metadata": {
        "id": "DQft1Nw1B11g"
      },
      "outputs": [],
      "source": [
        "## standard imports\n",
        "import pandas as pnd\n",
        "import matplotlib.pyplot as plt"
      ]
    },
    {
      "cell_type": "markdown",
      "metadata": {
        "id": "ZWzoN7XpB11e"
      },
      "source": [
        "Spark imports"
      ]
    },
    {
      "cell_type": "code",
      "execution_count": 2,
      "metadata": {
        "id": "pG1K0VaslXFL"
      },
      "outputs": [],
      "source": [
        "import os\n",
        "memory = '8g'\n",
        "pyspark_submit_args = ' --driver-memory ' + memory + ' pyspark-shell'\n",
        "os.environ[\"PYSPARK_SUBMIT_ARGS\"] = pyspark_submit_args"
      ]
    },
    {
      "cell_type": "code",
      "execution_count": 3,
      "metadata": {
        "id": "ewSQBpTqB11f"
      },
      "outputs": [],
      "source": [
        "## spark imports\n",
        "from pyspark.sql import Row, SparkSession\n",
        "import pyspark.sql.functions as pyf\n",
        "\n",
        "spark = SparkSession.builder.master(\"local[1]\").appName(\"RT0902\").getOrCreate()"
      ]
    },
    {
      "cell_type": "markdown",
      "metadata": {
        "id": "TkJN_E5AB11h"
      },
      "source": [
        "---\n",
        "## Dataset\n",
        "Les données originales viennent de Kaggle (https://www.kaggle.com/djonafegnem/chicago-crime-data-analysis)\n",
        "\n",
        "On trouve une liste de crimes registrés par le département de police de Chicago.\n",
        "\n",
        "Le dataset \"réel\" contient 4 fichiers pour des crimes allant de 2001 à 2017.\n",
        "Comme le traitement de ces fichiers est long et demandeur en ressources, vous allez d'abord travailler avec un fichier réduit, qui ne contient que des données de 2001.\n",
        "\n",
        "Une fois votre code \"validé\", vous pouvez l'utiliser sur le cloud pour traiter l'ensemble de fichiers de la police.\n",
        "\n",
        "Ci-dessous vous trovez une description des différents champs des fichiers"
      ]
    },
    {
      "cell_type": "code",
      "execution_count": 4,
      "metadata": {
        "id": "j2F-rS7vB11h"
      },
      "outputs": [],
      "source": [
        "content_cols = '''\n",
        "ID - Unique identifier for the record.\n",
        "Case Number - The Chicago Police Department RD Number (Records Division Number), which is unique to the incident.\n",
        "Date - Date when the incident occurred. this is sometimes a best estimate.\n",
        "Block - The partially redacted address where the incident occurred, placing it on the same block as the actual address.\n",
        "IUCR - The Illinois Unifrom Crime Reporting code. This is directly linked to the Primary Type and Description. See the list of IUCR codes at https://data.cityofchicago.org/d/c7ck-438e.\n",
        "Primary Type - The primary description of the IUCR code.\n",
        "Description - The secondary description of the IUCR code, a subcategory of the primary description.\n",
        "Location Description - Description of the location where the incident occurred.\n",
        "Arrest - Indicates whether an arrest was made.\n",
        "Domestic - Indicates whether the incident was domestic-related as defined by the Illinois Domestic Violence Act.\n",
        "Beat - Indicates the beat where the incident occurred. A beat is the smallest police geographic area – each beat has a dedicated police beat car. Three to five beats make up a police sector, and three sectors make up a police district. The Chicago Police Department has 22 police districts. See the beats at https://data.cityofchicago.org/d/aerh-rz74.\n",
        "District - Indicates the police district where the incident occurred. See the districts at https://data.cityofchicago.org/d/fthy-xz3r.\n",
        "Ward - The ward (City Council district) where the incident occurred. See the wards at https://data.cityofchicago.org/d/sp34-6z76.\n",
        "Community Area - Indicates the community area where the incident occurred. Chicago has 77 community areas. See the community areas at https://data.cityofchicago.org/d/cauq-8yn6.\n",
        "FBI Code - Indicates the crime classification as outlined in the FBI's National Incident-Based Reporting System (NIBRS). See the Chicago Police Department listing of these classifications at http://gis.chicagopolice.org/clearmap_crime_sums/crime_types.html.\n",
        "X Coordinate - The x coordinate of the location where the incident occurred in State Plane Illinois East NAD 1983 projection. This location is shifted from the actual location for partial redaction but falls on the same block.\n",
        "Y Coordinate - The y coordinate of the location where the incident occurred in State Plane Illinois East NAD 1983 projection. This location is shifted from the actual location for partial redaction but falls on the same block.\n",
        "Year - Year the incident occurred.\n",
        "Updated On - Date and time the record was last updated.\n",
        "Latitude - The latitude of the location where the incident occurred. This location is shifted from the actual location for partial redaction but falls on the same block.\n",
        "Longitude - The longitude of the location where the incident occurred. This location is shifted from the actual location for partial redaction but falls on the same block.\n",
        "Location - The location where the incident occurred in a format that allows for creation of maps and other geographic operations on this data portal. This location is shifted from the actual location for partial redaction but falls on the same block.'''"
      ]
    },
    {
      "cell_type": "code",
      "execution_count": 5,
      "metadata": {
        "id": "1g9qrmeVB11i"
      },
      "outputs": [],
      "source": [
        "def entry_dic(line):\n",
        "    \"\"\"\n",
        "    Convert a header - description line into a single dictionary that holds the original header as 'title', a corresponding field name as 'header', and a description.\n",
        "    \"\"\"\n",
        "    pair = line.split(' - ')\n",
        "    return {'title': pair[0], 'description': pair[1], 'header': pair[0].lower().replace(' ', '_')}"
      ]
    },
    {
      "cell_type": "markdown",
      "metadata": {
        "id": "5ce6HSbkB11j"
      },
      "source": [
        "Créer une liste de titres à partir de la fonction précédente"
      ]
    },
    {
      "cell_type": "code",
      "execution_count": 6,
      "metadata": {
        "id": "2SFbLzd4B11j"
      },
      "outputs": [],
      "source": [
        "header_dics = list(map(entry_dic, list(filter(lambda l: l != '', content_cols.split('\\n')))))"
      ]
    },
    {
      "cell_type": "code",
      "execution_count": 7,
      "metadata": {
        "id": "oBPjg3hvB11j",
        "colab": {
          "base_uri": "https://localhost:8080/"
        },
        "outputId": "d8c380ae-1e2b-48ef-8dd0-5d31c3cb481a"
      },
      "outputs": [
        {
          "output_type": "execute_result",
          "data": {
            "text/plain": [
              "[{'title': 'ID',\n",
              "  'description': 'Unique identifier for the record.',\n",
              "  'header': 'id'},\n",
              " {'title': 'Case Number',\n",
              "  'description': 'The Chicago Police Department RD Number (Records Division Number), which is unique to the incident.',\n",
              "  'header': 'case_number'}]"
            ]
          },
          "metadata": {},
          "execution_count": 7
        }
      ],
      "source": [
        "header_dics[:2]"
      ]
    },
    {
      "cell_type": "markdown",
      "metadata": {
        "id": "PEV6TMBnB11k"
      },
      "source": [
        "### Données\n",
        "\n",
        "Les données seront téléchargées et stockées dans `./data/`. Ce sont des fichiers .CSV.\n"
      ]
    },
    {
      "cell_type": "code",
      "execution_count": 8,
      "metadata": {
        "id": "9dzWdo_JWJgw"
      },
      "outputs": [],
      "source": [
        "!mkdir data"
      ]
    },
    {
      "cell_type": "code",
      "execution_count": 9,
      "metadata": {
        "id": "5q9V0tdZWvN5",
        "colab": {
          "base_uri": "https://localhost:8080/"
        },
        "outputId": "fd584cd3-e9c7-4579-f588-6876eada8329"
      },
      "outputs": [
        {
          "output_type": "stream",
          "name": "stdout",
          "text": [
            "Copying gs://angelo_crime_data/Chicago_Crimes_2005_to_2007.csv...\n",
            "/ [0/5 files][    0.0 B/  2.0 GiB]   0% Done                                    \rCopying gs://angelo_crime_data/Chicago_Crimes_2001_to_2004.csv...\n",
            "/ [0/5 files][    0.0 B/  2.0 GiB]   0% Done                                    \r==> NOTE: You are downloading one or more large file(s), which would\n",
            "run significantly faster if you enabled sliced object downloads. This\n",
            "feature is enabled by default but requires that compiled crcmod be\n",
            "installed (see \"gsutil help crcmod\").\n",
            "\n",
            "Copying gs://angelo_crime_data/Chicago_Crimes_2008_to_2011.csv...\n",
            "/ [0/5 files][    0.0 B/  2.0 GiB]   0% Done                                    \rCopying gs://angelo_crime_data/Chicago_Crimes_2012_to_2017.csv...\n",
            "Copying gs://angelo_crime_data/mini_data.csv...\n",
            "/ [5/5 files][  2.0 GiB/  2.0 GiB] 100% Done  81.1 MiB/s ETA 00:00:00           \n",
            "Operation completed over 5 objects/2.0 GiB.                                      \n"
          ]
        }
      ],
      "source": [
        "!gsutil -m cp -r gs://angelo_crime_data/*.csv ./data"
      ]
    },
    {
      "cell_type": "code",
      "execution_count": 10,
      "metadata": {
        "id": "fyafw6P0B11l",
        "outputId": "2b9d7a80-eefa-48fa-dea4-8f75737cdda1",
        "colab": {
          "base_uri": "https://localhost:8080/"
        }
      },
      "outputs": [
        {
          "output_type": "stream",
          "name": "stdout",
          "text": [
            "total 2.0G\n",
            "-rw-r--r-- 1 root root 454M Mar  9 20:07 Chicago_Crimes_2001_to_2004.csv\n",
            "-rw-r--r-- 1 root root 450M Mar  9 20:07 Chicago_Crimes_2005_to_2007.csv\n",
            "-rw-r--r-- 1 root root 647M Mar  9 20:07 Chicago_Crimes_2008_to_2011.csv\n",
            "-rw-r--r-- 1 root root 350M Mar  9 20:07 Chicago_Crimes_2012_to_2017.csv\n",
            "-rw-r--r-- 1 root root 130M Mar  9 20:07 mini_data.csv\n"
          ]
        }
      ],
      "source": [
        "!ls -lh data/"
      ]
    },
    {
      "cell_type": "markdown",
      "metadata": {
        "id": "4aYYYo3wB11l"
      },
      "source": [
        "---\n",
        "## Lecture des données\n",
        "\n",
        "Avec l'opération `csv read` de spark, nous allons lire et parser les fichiers. Le résultat sera un seul DataFrame :"
      ]
    },
    {
      "cell_type": "code",
      "execution_count": 11,
      "metadata": {
        "id": "jM8fs9TgB11l"
      },
      "outputs": [],
      "source": [
        "#df = spark.read.csv('./data/Chicago_*.csv', inferSchema=True, header=True)\n",
        "df = spark.read.csv('./data/mini_data.csv', inferSchema=True, header=True)"
      ]
    },
    {
      "cell_type": "markdown",
      "metadata": {
        "id": "Rz6WzWjsl1H1"
      },
      "source": [
        "Note : ce qui prend vraiment le temps est la découverte du schéma : on n'a pas tellement de lignes, après tout."
      ]
    },
    {
      "cell_type": "code",
      "execution_count": 12,
      "metadata": {
        "id": "x6Fm4rReB11m"
      },
      "outputs": [],
      "source": [
        "# Ce DataFrame sera mis en cache (gardé en mémoire) car il sera utilisé plusieurs fois.\n",
        "#df = df.cache()"
      ]
    },
    {
      "cell_type": "code",
      "execution_count": 13,
      "metadata": {
        "id": "3lSK8YawB11m",
        "colab": {
          "base_uri": "https://localhost:8080/"
        },
        "outputId": "16fbbe61-407e-4e83-b315-9579ea43a63c"
      },
      "outputs": [
        {
          "output_type": "stream",
          "name": "stdout",
          "text": [
            "root\n",
            " |-- _c0: integer (nullable = true)\n",
            " |-- id: integer (nullable = true)\n",
            " |-- case_number: string (nullable = true)\n",
            " |-- date: string (nullable = true)\n",
            " |-- block: string (nullable = true)\n",
            " |-- iucr: string (nullable = true)\n",
            " |-- primary_type: string (nullable = true)\n",
            " |-- description: string (nullable = true)\n",
            " |-- location_description: string (nullable = true)\n",
            " |-- arrest: boolean (nullable = true)\n",
            " |-- domestic: boolean (nullable = true)\n",
            " |-- beat: integer (nullable = true)\n",
            " |-- district: double (nullable = true)\n",
            " |-- ward: double (nullable = true)\n",
            " |-- community_area: double (nullable = true)\n",
            " |-- fbi_code: string (nullable = true)\n",
            " |-- x_coordinate: double (nullable = true)\n",
            " |-- y_coordinate: double (nullable = true)\n",
            " |-- year: integer (nullable = true)\n",
            " |-- updated_on: string (nullable = true)\n",
            " |-- latitude: double (nullable = true)\n",
            " |-- longitude: double (nullable = true)\n",
            " |-- location: string (nullable = true)\n",
            "\n"
          ]
        }
      ],
      "source": [
        "# Affichage du schéma (structure) du dataframe\n",
        "df.printSchema()"
      ]
    },
    {
      "cell_type": "markdown",
      "source": [
        "### Différences entre Pandas et Spark\n",
        "Pandas a des opérations telles que `info()` et `describe()`. Dans Spark, on n'a que `describe()`, qui n'est pas comparable à celle de Pandas : il affiche plutôt le type des données, un peu comme `printSchema()`."
      ],
      "metadata": {
        "id": "ri4XZLFrDMu-"
      }
    },
    {
      "cell_type": "code",
      "source": [
        "df.describe()"
      ],
      "metadata": {
        "colab": {
          "base_uri": "https://localhost:8080/"
        },
        "id": "_PjKFVEaDkY4",
        "outputId": "494b897c-f0da-4395-a234-b0c61135c25d"
      },
      "execution_count": 14,
      "outputs": [
        {
          "output_type": "execute_result",
          "data": {
            "text/plain": [
              "DataFrame[summary: string, _c0: string, id: string, case_number: string, date: string, block: string, iucr: string, primary_type: string, description: string, location_description: string, beat: string, district: string, ward: string, community_area: string, fbi_code: string, x_coordinate: string, y_coordinate: string, year: string, updated_on: string, latitude: string, longitude: string, location: string]"
            ]
          },
          "metadata": {},
          "execution_count": 14
        }
      ]
    },
    {
      "cell_type": "markdown",
      "metadata": {
        "id": "wi9n1CYaB11n"
      },
      "source": [
        "Certaines lignes de n'ont aucune valeur déclarée à la colonne `location_description` . C'est le moment de les supprimer.\n",
        "\n",
        "Pour cela, nous allons filtrer les entrées vides ('') en utilisant la fonction **`Dataset.filter`**."
      ]
    },
    {
      "cell_type": "code",
      "execution_count": 15,
      "metadata": {
        "id": "1LQyYPtcbtnQ"
      },
      "outputs": [],
      "source": [
        "df = df.filter(df['location_description'] != '')"
      ]
    },
    {
      "cell_type": "markdown",
      "metadata": {
        "id": "qr_YRLdkB11n"
      },
      "source": [
        "Un petit aperçu du début du dataframe :"
      ]
    },
    {
      "cell_type": "code",
      "execution_count": 16,
      "metadata": {
        "id": "ym9AaXn0B11n",
        "colab": {
          "base_uri": "https://localhost:8080/"
        },
        "outputId": "9037aa92-0103-4247-aaf3-e9d61deee1f7"
      },
      "outputs": [
        {
          "output_type": "stream",
          "name": "stdout",
          "text": [
            "+---+-------+-----------+----------------------+-----------------------+----+--------------------------+-----------------------------+--------------------+------+--------+----+--------+----+--------------+--------+------------+------------+----+----------------------+------------+-------------+-----------------------------+\n",
            "|_c0|id     |case_number|date                  |block                  |iucr|primary_type              |description                  |location_description|arrest|domestic|beat|district|ward|community_area|fbi_code|x_coordinate|y_coordinate|year|updated_on            |latitude    |longitude    |location                     |\n",
            "+---+-------+-----------+----------------------+-----------------------+----+--------------------------+-----------------------------+--------------------+------+--------+----+--------+----+--------------+--------+------------+------------+----+----------------------+------------+-------------+-----------------------------+\n",
            "|0  |4791194|HM403711   |01/01/2001 11:00:00 AM|114XX S ST LAWRENCE AVE|0266|CRIM SEXUAL ASSAULT       |PREDATORY                    |RESIDENCE           |true  |true    |531 |5.0     |9.0 |50.0          |02      |1182247.0   |1829375.0   |2001|08/29/2006 03:46:28 AM|41.687020002|-87.60844523 |(41.687020002, -87.60844523) |\n",
            "|1  |4803028|HM414773   |01/01/2001 12:00:00 AM|055XX S TRIPP AVE      |1753|OFFENSE INVOLVING CHILDREN|SEX ASSLT OF CHILD BY FAM MBR|RESIDENCE           |true  |false   |813 |8.0     |13.0|62.0          |02      |1149024.0   |1867199.0   |2001|10/03/2006 05:10:58 AM|41.791518681|-87.729098793|(41.791518681, -87.729098793)|\n",
            "|2  |4803606|HM417252   |01/01/2001 12:00:00 AM|032XX S OAKLEY AVE     |0840|THEFT                     |FINANCIAL ID THEFT: OVER $300|OTHER               |false |false   |913 |9.0     |12.0|59.0          |06      |1161574.0   |1882962.0   |2001|06/25/2006 04:27:37 AM|41.834522994|-87.682642417|(41.834522994, -87.682642417)|\n",
            "+---+-------+-----------+----------------------+-----------------------+----+--------------------------+-----------------------------+--------------------+------+--------+----+--------+----+--------------+--------+------------+------------+----+----------------------+------------+-------------+-----------------------------+\n",
            "only showing top 3 rows\n",
            "\n"
          ]
        }
      ],
      "source": [
        "df.show(n=3, truncate=False)"
      ]
    },
    {
      "cell_type": "markdown",
      "source": [
        "On a quand même plus de 560 mille entrées !! 😵"
      ],
      "metadata": {
        "id": "XhAVXvqjEuvu"
      }
    },
    {
      "cell_type": "code",
      "execution_count": 17,
      "metadata": {
        "id": "F-Ek_ORlB11o",
        "colab": {
          "base_uri": "https://localhost:8080/"
        },
        "outputId": "b3e84ab1-6ee7-4bd7-8d23-61c1754dac5a"
      },
      "outputs": [
        {
          "output_type": "stream",
          "name": "stdout",
          "text": [
            "568515\n"
          ]
        }
      ],
      "source": [
        "print(df.count())"
      ]
    },
    {
      "cell_type": "markdown",
      "metadata": {
        "id": "ykY8IxXaB11o"
      },
      "source": [
        "---\n",
        "## Comprendre les données"
      ]
    },
    {
      "cell_type": "markdown",
      "source": [
        "### Types de Crime\n",
        "\n",
        "On veut connaître combien de types de crime (catégories) existent dans le fichier."
      ],
      "metadata": {
        "id": "Mue99rjLC2-t"
      }
    },
    {
      "cell_type": "code",
      "execution_count": 18,
      "metadata": {
        "id": "o_8EqKGnB11o"
      },
      "outputs": [],
      "source": [
        "# crime types\n",
        "crime_type_groups = df.groupBy('primary_type').count()"
      ]
    },
    {
      "cell_type": "code",
      "execution_count": 19,
      "metadata": {
        "id": "sB7L2nGJB11o"
      },
      "outputs": [],
      "source": [
        "crime_type_counts = crime_type_groups.orderBy('count', ascending=False)"
      ]
    },
    {
      "cell_type": "markdown",
      "metadata": {
        "id": "cgrBK30fB11o"
      },
      "source": [
        "Jusqu'à ici ça a été rapide : Spark fait une exécution *lazy*, i.e., il n'a fait qu'enregistrer les *transformations* à applier. Il attendra pour lancer l'exécution uniquement lorsqu'une *action* est demandée (par exemple, afficher le résultat).\n",
        "\n",
        "Dans la ligne suivante on demande le nombre total de lignes, mais en fait il va appliquer les modifications, faire le filtrage, etc. Sur un grand dataset, ça peut prendre pas mal de temps (d'où l'intérêt de distribuer le travail entre plusieurs machines)."
      ]
    },
    {
      "cell_type": "markdown",
      "metadata": {
        "id": "5allZo4IB11p"
      },
      "source": [
        "\n",
        "\n",
        "La commande suivante affiche les 20 types de crime les plus fréquents :"
      ]
    },
    {
      "cell_type": "code",
      "execution_count": 20,
      "metadata": {
        "id": "I0G89nlsB11q",
        "colab": {
          "base_uri": "https://localhost:8080/"
        },
        "outputId": "e299ac03-7946-40f2-e0a4-7fbe65e59dcc"
      },
      "outputs": [
        {
          "output_type": "stream",
          "name": "stdout",
          "text": [
            "+--------------------------+------+\n",
            "|primary_type              |count |\n",
            "+--------------------------+------+\n",
            "|THEFT                     |115887|\n",
            "|BATTERY                   |108600|\n",
            "|CRIMINAL DAMAGE           |65050 |\n",
            "|NARCOTICS                 |59900 |\n",
            "|ASSAULT                   |36439 |\n",
            "|OTHER OFFENSE             |35538 |\n",
            "|MOTOR VEHICLE THEFT       |32082 |\n",
            "|BURGLARY                  |30218 |\n",
            "|ROBBERY                   |21504 |\n",
            "|DECEPTIVE PRACTICE        |17320 |\n",
            "|CRIMINAL TRESPASS         |15869 |\n",
            "|PROSTITUTION              |6977  |\n",
            "|WEAPONS VIOLATION         |5028  |\n",
            "|PUBLIC PEACE VIOLATION    |3167  |\n",
            "|OFFENSE INVOLVING CHILDREN|2619  |\n",
            "|SEX OFFENSE               |2616  |\n",
            "|CRIM SEXUAL ASSAULT       |2131  |\n",
            "|LIQUOR LAW VIOLATION      |1861  |\n",
            "|HOMICIDE                  |1334  |\n",
            "|ARSON                     |1177  |\n",
            "+--------------------------+------+\n",
            "only showing top 20 rows\n",
            "\n"
          ]
        }
      ],
      "source": [
        "crime_type_counts.show(truncate=False)"
      ]
    },
    {
      "cell_type": "markdown",
      "metadata": {
        "id": "1nX9DLuuB11q"
      },
      "source": [
        "On peut faire un affichage plus propre (et d'autres opérations) en transformant ce dataframe en Pandas :\n"
      ]
    },
    {
      "cell_type": "code",
      "execution_count": 21,
      "metadata": {
        "id": "om_CpQ58oV0v"
      },
      "outputs": [],
      "source": [
        "counts_pddf = crime_type_counts.toPandas()"
      ]
    },
    {
      "cell_type": "code",
      "execution_count": 22,
      "metadata": {
        "id": "8YMYfXn6obj0",
        "colab": {
          "base_uri": "https://localhost:8080/",
          "height": 363
        },
        "outputId": "0e72a9ab-3931-4a45-b86f-9168d17c53a1"
      },
      "outputs": [
        {
          "output_type": "execute_result",
          "data": {
            "text/plain": [
              "          primary_type   count\n",
              "0                THEFT  115887\n",
              "1              BATTERY  108600\n",
              "2      CRIMINAL DAMAGE   65050\n",
              "3            NARCOTICS   59900\n",
              "4              ASSAULT   36439\n",
              "5        OTHER OFFENSE   35538\n",
              "6  MOTOR VEHICLE THEFT   32082\n",
              "7             BURGLARY   30218\n",
              "8              ROBBERY   21504\n",
              "9   DECEPTIVE PRACTICE   17320"
            ],
            "text/html": [
              "\n",
              "  <div id=\"df-d42c6701-e2d1-4f63-b988-22a5bc3bbc36\" class=\"colab-df-container\">\n",
              "    <div>\n",
              "<style scoped>\n",
              "    .dataframe tbody tr th:only-of-type {\n",
              "        vertical-align: middle;\n",
              "    }\n",
              "\n",
              "    .dataframe tbody tr th {\n",
              "        vertical-align: top;\n",
              "    }\n",
              "\n",
              "    .dataframe thead th {\n",
              "        text-align: right;\n",
              "    }\n",
              "</style>\n",
              "<table border=\"1\" class=\"dataframe\">\n",
              "  <thead>\n",
              "    <tr style=\"text-align: right;\">\n",
              "      <th></th>\n",
              "      <th>primary_type</th>\n",
              "      <th>count</th>\n",
              "    </tr>\n",
              "  </thead>\n",
              "  <tbody>\n",
              "    <tr>\n",
              "      <th>0</th>\n",
              "      <td>THEFT</td>\n",
              "      <td>115887</td>\n",
              "    </tr>\n",
              "    <tr>\n",
              "      <th>1</th>\n",
              "      <td>BATTERY</td>\n",
              "      <td>108600</td>\n",
              "    </tr>\n",
              "    <tr>\n",
              "      <th>2</th>\n",
              "      <td>CRIMINAL DAMAGE</td>\n",
              "      <td>65050</td>\n",
              "    </tr>\n",
              "    <tr>\n",
              "      <th>3</th>\n",
              "      <td>NARCOTICS</td>\n",
              "      <td>59900</td>\n",
              "    </tr>\n",
              "    <tr>\n",
              "      <th>4</th>\n",
              "      <td>ASSAULT</td>\n",
              "      <td>36439</td>\n",
              "    </tr>\n",
              "    <tr>\n",
              "      <th>5</th>\n",
              "      <td>OTHER OFFENSE</td>\n",
              "      <td>35538</td>\n",
              "    </tr>\n",
              "    <tr>\n",
              "      <th>6</th>\n",
              "      <td>MOTOR VEHICLE THEFT</td>\n",
              "      <td>32082</td>\n",
              "    </tr>\n",
              "    <tr>\n",
              "      <th>7</th>\n",
              "      <td>BURGLARY</td>\n",
              "      <td>30218</td>\n",
              "    </tr>\n",
              "    <tr>\n",
              "      <th>8</th>\n",
              "      <td>ROBBERY</td>\n",
              "      <td>21504</td>\n",
              "    </tr>\n",
              "    <tr>\n",
              "      <th>9</th>\n",
              "      <td>DECEPTIVE PRACTICE</td>\n",
              "      <td>17320</td>\n",
              "    </tr>\n",
              "  </tbody>\n",
              "</table>\n",
              "</div>\n",
              "    <div class=\"colab-df-buttons\">\n",
              "\n",
              "  <div class=\"colab-df-container\">\n",
              "    <button class=\"colab-df-convert\" onclick=\"convertToInteractive('df-d42c6701-e2d1-4f63-b988-22a5bc3bbc36')\"\n",
              "            title=\"Convert this dataframe to an interactive table.\"\n",
              "            style=\"display:none;\">\n",
              "\n",
              "  <svg xmlns=\"http://www.w3.org/2000/svg\" height=\"24px\" viewBox=\"0 -960 960 960\">\n",
              "    <path d=\"M120-120v-720h720v720H120Zm60-500h600v-160H180v160Zm220 220h160v-160H400v160Zm0 220h160v-160H400v160ZM180-400h160v-160H180v160Zm440 0h160v-160H620v160ZM180-180h160v-160H180v160Zm440 0h160v-160H620v160Z\"/>\n",
              "  </svg>\n",
              "    </button>\n",
              "\n",
              "  <style>\n",
              "    .colab-df-container {\n",
              "      display:flex;\n",
              "      gap: 12px;\n",
              "    }\n",
              "\n",
              "    .colab-df-convert {\n",
              "      background-color: #E8F0FE;\n",
              "      border: none;\n",
              "      border-radius: 50%;\n",
              "      cursor: pointer;\n",
              "      display: none;\n",
              "      fill: #1967D2;\n",
              "      height: 32px;\n",
              "      padding: 0 0 0 0;\n",
              "      width: 32px;\n",
              "    }\n",
              "\n",
              "    .colab-df-convert:hover {\n",
              "      background-color: #E2EBFA;\n",
              "      box-shadow: 0px 1px 2px rgba(60, 64, 67, 0.3), 0px 1px 3px 1px rgba(60, 64, 67, 0.15);\n",
              "      fill: #174EA6;\n",
              "    }\n",
              "\n",
              "    .colab-df-buttons div {\n",
              "      margin-bottom: 4px;\n",
              "    }\n",
              "\n",
              "    [theme=dark] .colab-df-convert {\n",
              "      background-color: #3B4455;\n",
              "      fill: #D2E3FC;\n",
              "    }\n",
              "\n",
              "    [theme=dark] .colab-df-convert:hover {\n",
              "      background-color: #434B5C;\n",
              "      box-shadow: 0px 1px 3px 1px rgba(0, 0, 0, 0.15);\n",
              "      filter: drop-shadow(0px 1px 2px rgba(0, 0, 0, 0.3));\n",
              "      fill: #FFFFFF;\n",
              "    }\n",
              "  </style>\n",
              "\n",
              "    <script>\n",
              "      const buttonEl =\n",
              "        document.querySelector('#df-d42c6701-e2d1-4f63-b988-22a5bc3bbc36 button.colab-df-convert');\n",
              "      buttonEl.style.display =\n",
              "        google.colab.kernel.accessAllowed ? 'block' : 'none';\n",
              "\n",
              "      async function convertToInteractive(key) {\n",
              "        const element = document.querySelector('#df-d42c6701-e2d1-4f63-b988-22a5bc3bbc36');\n",
              "        const dataTable =\n",
              "          await google.colab.kernel.invokeFunction('convertToInteractive',\n",
              "                                                    [key], {});\n",
              "        if (!dataTable) return;\n",
              "\n",
              "        const docLinkHtml = 'Like what you see? Visit the ' +\n",
              "          '<a target=\"_blank\" href=https://colab.research.google.com/notebooks/data_table.ipynb>data table notebook</a>'\n",
              "          + ' to learn more about interactive tables.';\n",
              "        element.innerHTML = '';\n",
              "        dataTable['output_type'] = 'display_data';\n",
              "        await google.colab.output.renderOutput(dataTable, element);\n",
              "        const docLink = document.createElement('div');\n",
              "        docLink.innerHTML = docLinkHtml;\n",
              "        element.appendChild(docLink);\n",
              "      }\n",
              "    </script>\n",
              "  </div>\n",
              "\n",
              "\n",
              "<div id=\"df-d1bbaad1-157b-4137-9e14-8f9543db23f2\">\n",
              "  <button class=\"colab-df-quickchart\" onclick=\"quickchart('df-d1bbaad1-157b-4137-9e14-8f9543db23f2')\"\n",
              "            title=\"Suggest charts\"\n",
              "            style=\"display:none;\">\n",
              "\n",
              "<svg xmlns=\"http://www.w3.org/2000/svg\" height=\"24px\"viewBox=\"0 0 24 24\"\n",
              "     width=\"24px\">\n",
              "    <g>\n",
              "        <path d=\"M19 3H5c-1.1 0-2 .9-2 2v14c0 1.1.9 2 2 2h14c1.1 0 2-.9 2-2V5c0-1.1-.9-2-2-2zM9 17H7v-7h2v7zm4 0h-2V7h2v10zm4 0h-2v-4h2v4z\"/>\n",
              "    </g>\n",
              "</svg>\n",
              "  </button>\n",
              "\n",
              "<style>\n",
              "  .colab-df-quickchart {\n",
              "      --bg-color: #E8F0FE;\n",
              "      --fill-color: #1967D2;\n",
              "      --hover-bg-color: #E2EBFA;\n",
              "      --hover-fill-color: #174EA6;\n",
              "      --disabled-fill-color: #AAA;\n",
              "      --disabled-bg-color: #DDD;\n",
              "  }\n",
              "\n",
              "  [theme=dark] .colab-df-quickchart {\n",
              "      --bg-color: #3B4455;\n",
              "      --fill-color: #D2E3FC;\n",
              "      --hover-bg-color: #434B5C;\n",
              "      --hover-fill-color: #FFFFFF;\n",
              "      --disabled-bg-color: #3B4455;\n",
              "      --disabled-fill-color: #666;\n",
              "  }\n",
              "\n",
              "  .colab-df-quickchart {\n",
              "    background-color: var(--bg-color);\n",
              "    border: none;\n",
              "    border-radius: 50%;\n",
              "    cursor: pointer;\n",
              "    display: none;\n",
              "    fill: var(--fill-color);\n",
              "    height: 32px;\n",
              "    padding: 0;\n",
              "    width: 32px;\n",
              "  }\n",
              "\n",
              "  .colab-df-quickchart:hover {\n",
              "    background-color: var(--hover-bg-color);\n",
              "    box-shadow: 0 1px 2px rgba(60, 64, 67, 0.3), 0 1px 3px 1px rgba(60, 64, 67, 0.15);\n",
              "    fill: var(--button-hover-fill-color);\n",
              "  }\n",
              "\n",
              "  .colab-df-quickchart-complete:disabled,\n",
              "  .colab-df-quickchart-complete:disabled:hover {\n",
              "    background-color: var(--disabled-bg-color);\n",
              "    fill: var(--disabled-fill-color);\n",
              "    box-shadow: none;\n",
              "  }\n",
              "\n",
              "  .colab-df-spinner {\n",
              "    border: 2px solid var(--fill-color);\n",
              "    border-color: transparent;\n",
              "    border-bottom-color: var(--fill-color);\n",
              "    animation:\n",
              "      spin 1s steps(1) infinite;\n",
              "  }\n",
              "\n",
              "  @keyframes spin {\n",
              "    0% {\n",
              "      border-color: transparent;\n",
              "      border-bottom-color: var(--fill-color);\n",
              "      border-left-color: var(--fill-color);\n",
              "    }\n",
              "    20% {\n",
              "      border-color: transparent;\n",
              "      border-left-color: var(--fill-color);\n",
              "      border-top-color: var(--fill-color);\n",
              "    }\n",
              "    30% {\n",
              "      border-color: transparent;\n",
              "      border-left-color: var(--fill-color);\n",
              "      border-top-color: var(--fill-color);\n",
              "      border-right-color: var(--fill-color);\n",
              "    }\n",
              "    40% {\n",
              "      border-color: transparent;\n",
              "      border-right-color: var(--fill-color);\n",
              "      border-top-color: var(--fill-color);\n",
              "    }\n",
              "    60% {\n",
              "      border-color: transparent;\n",
              "      border-right-color: var(--fill-color);\n",
              "    }\n",
              "    80% {\n",
              "      border-color: transparent;\n",
              "      border-right-color: var(--fill-color);\n",
              "      border-bottom-color: var(--fill-color);\n",
              "    }\n",
              "    90% {\n",
              "      border-color: transparent;\n",
              "      border-bottom-color: var(--fill-color);\n",
              "    }\n",
              "  }\n",
              "</style>\n",
              "\n",
              "  <script>\n",
              "    async function quickchart(key) {\n",
              "      const quickchartButtonEl =\n",
              "        document.querySelector('#' + key + ' button');\n",
              "      quickchartButtonEl.disabled = true;  // To prevent multiple clicks.\n",
              "      quickchartButtonEl.classList.add('colab-df-spinner');\n",
              "      try {\n",
              "        const charts = await google.colab.kernel.invokeFunction(\n",
              "            'suggestCharts', [key], {});\n",
              "      } catch (error) {\n",
              "        console.error('Error during call to suggestCharts:', error);\n",
              "      }\n",
              "      quickchartButtonEl.classList.remove('colab-df-spinner');\n",
              "      quickchartButtonEl.classList.add('colab-df-quickchart-complete');\n",
              "    }\n",
              "    (() => {\n",
              "      let quickchartButtonEl =\n",
              "        document.querySelector('#df-d1bbaad1-157b-4137-9e14-8f9543db23f2 button');\n",
              "      quickchartButtonEl.style.display =\n",
              "        google.colab.kernel.accessAllowed ? 'block' : 'none';\n",
              "    })();\n",
              "  </script>\n",
              "</div>\n",
              "\n",
              "    </div>\n",
              "  </div>\n"
            ],
            "application/vnd.google.colaboratory.intrinsic+json": {
              "type": "dataframe",
              "variable_name": "counts_pddf",
              "summary": "{\n  \"name\": \"counts_pddf\",\n  \"rows\": 30,\n  \"fields\": [\n    {\n      \"column\": \"primary_type\",\n      \"properties\": {\n        \"dtype\": \"string\",\n        \"num_unique_values\": 30,\n        \"samples\": [\n          \"PUBLIC INDECENCY\",\n          \"SEX OFFENSE\",\n          \"INTIMIDATION\"\n        ],\n        \"semantic_type\": \"\",\n        \"description\": \"\"\n      }\n    },\n    {\n      \"column\": \"count\",\n      \"properties\": {\n        \"dtype\": \"number\",\n        \"std\": 31033,\n        \"min\": 2,\n        \"max\": 115887,\n        \"num_unique_values\": 30,\n        \"samples\": [\n          10,\n          2616,\n          323\n        ],\n        \"semantic_type\": \"\",\n        \"description\": \"\"\n      }\n    }\n  ]\n}"
            }
          },
          "metadata": {},
          "execution_count": 22
        }
      ],
      "source": [
        "counts_pddf.head(10)"
      ]
    },
    {
      "cell_type": "markdown",
      "source": [
        "Ce dataset Pandas peut être utilisé pour une petite visualisation :"
      ],
      "metadata": {
        "id": "wX93myvEF4X1"
      }
    },
    {
      "cell_type": "code",
      "execution_count": 23,
      "metadata": {
        "id": "eeJrB5AIB11r",
        "scrolled": false,
        "colab": {
          "base_uri": "https://localhost:8080/",
          "height": 500
        },
        "outputId": "7bed13b1-fdbf-40de-aea9-d642306ba840"
      },
      "outputs": [
        {
          "output_type": "execute_result",
          "data": {
            "text/plain": [
              "<Axes: ylabel='primary_type'>"
            ]
          },
          "metadata": {},
          "execution_count": 23
        },
        {
          "output_type": "display_data",
          "data": {
            "text/plain": [
              "<Figure size 1000x600 with 1 Axes>"
            ],
            "image/png": "[encoded data removed]"
          },
          "metadata": {}
        }
      ],
      "source": [
        "plt.rcParams[\"figure.figsize\"] = [10, 6]\n",
        "\n",
        "counts_pddf.sort_values('count').plot(kind='barh', x='primary_type', y='count')"
      ]
    },
    {
      "cell_type": "markdown",
      "metadata": {
        "id": "ya0LZ2NpB11r"
      },
      "source": [
        "### Convertir les dates"
      ]
    },
    {
      "cell_type": "markdown",
      "metadata": {
        "id": "tbEroH7VB11s"
      },
      "source": [
        "**Si vous avez été attentif**, vous avez remarqué que les colonnes avec des dates ont été lues comme du texte simple :"
      ]
    },
    {
      "cell_type": "code",
      "source": [
        "df.describe()"
      ],
      "metadata": {
        "colab": {
          "base_uri": "https://localhost:8080/"
        },
        "id": "kdlf1-KDGh9i",
        "outputId": "48797ec1-630d-4b73-f4b8-d901d14b1db6"
      },
      "execution_count": 24,
      "outputs": [
        {
          "output_type": "execute_result",
          "data": {
            "text/plain": [
              "DataFrame[summary: string, _c0: string, id: string, case_number: string, date: string, block: string, iucr: string, primary_type: string, description: string, location_description: string, beat: string, district: string, ward: string, community_area: string, fbi_code: string, x_coordinate: string, y_coordinate: string, year: string, updated_on: string, latitude: string, longitude: string, location: string]"
            ]
          },
          "metadata": {},
          "execution_count": 24
        }
      ]
    },
    {
      "cell_type": "markdown",
      "metadata": {
        "id": "o2QC39keB11s"
      },
      "source": [
        "---\n",
        "En effet, le schéma montrait que le champ `date` était de type `string`, ce qui n'est pas très utile.\n",
        "\n",
        "Nous allons convertir ces dates au format timestamp.\n",
        "\n",
        "Nous allons changer ce format afin de le lire sous la forme '02/23/2006 09:06:22 PM' , c'est à dire **`'MM/dd/yyyy hh:mm:ss a'`** (format américain).\n",
        "\n",
        "On va aussi rajouter une colonne `month` qui indique le premier jour du mois, sans l'heure."
      ]
    },
    {
      "cell_type": "code",
      "execution_count": 31,
      "metadata": {
        "id": "oYzZl6iiB11s"
      },
      "outputs": [],
      "source": [
        "from pyspark.sql.functions import to_timestamp, hour, trunc\n",
        "# d'abord, on convertit 'date' avec to_timestamp() et on enregistre cette valeur dans 'date_time'\n",
        "df = df.withColumn('date_time', to_timestamp('date', 'MM/dd/yyyy hh:mm:ss a'))\n",
        "# ensuite, on crée une colonne 'month' à partir de 'datetime')\n",
        "df = df.withColumn('month', trunc('date_time', 'month')) #adding a month column to be able to view stats on a monthly basis"
      ]
    },
    {
      "cell_type": "code",
      "execution_count": 27,
      "metadata": {
        "id": "u35zw7vgB11s",
        "colab": {
          "base_uri": "https://localhost:8080/"
        },
        "outputId": "2d62cefa-52d5-4a8b-df8a-02236647f27f"
      },
      "outputs": [
        {
          "output_type": "stream",
          "name": "stdout",
          "text": [
            "+----------------------+-------------------+----------+\n",
            "|date                  |date_time          |month     |\n",
            "+----------------------+-------------------+----------+\n",
            "|01/01/2001 11:00:00 AM|2001-01-01 11:00:00|2001-01-01|\n",
            "|01/01/2001 12:00:00 AM|2001-01-01 00:00:00|2001-01-01|\n",
            "|01/01/2001 12:00:00 AM|2001-01-01 00:00:00|2001-01-01|\n",
            "|06/16/2001 08:00:00 AM|2001-06-16 08:00:00|2001-06-01|\n",
            "|06/01/2001 08:00:00 AM|2001-06-01 08:00:00|2001-06-01|\n",
            "|07/25/2001 10:00:00 AM|2001-07-25 10:00:00|2001-07-01|\n",
            "|06/23/2001 08:00:00 PM|2001-06-23 20:00:00|2001-06-01|\n",
            "|01/01/2001 12:00:00 AM|2001-01-01 00:00:00|2001-01-01|\n",
            "|05/01/2001 12:01:00 AM|2001-05-01 00:01:00|2001-05-01|\n",
            "|10/01/2001 12:01:00 AM|2001-10-01 00:01:00|2001-10-01|\n",
            "|01/01/2001 12:01:00 AM|2001-01-01 00:01:00|2001-01-01|\n",
            "|10/01/2001 08:00:00 AM|2001-10-01 08:00:00|2001-10-01|\n",
            "|11/09/2001 09:00:00 AM|2001-11-09 09:00:00|2001-11-01|\n",
            "|05/30/2001 03:00:00 PM|2001-05-30 15:00:00|2001-05-01|\n",
            "|06/01/2001 12:00:00 PM|2001-06-01 12:00:00|2001-06-01|\n",
            "|01/01/2001 12:01:00 AM|2001-01-01 00:01:00|2001-01-01|\n",
            "|08/01/2001 12:00:00 PM|2001-08-01 12:00:00|2001-08-01|\n",
            "|08/31/2001 12:00:00 AM|2001-08-31 00:00:00|2001-08-01|\n",
            "|03/01/2001 09:00:00 AM|2001-03-01 09:00:00|2001-03-01|\n",
            "|07/01/2001 12:01:00 AM|2001-07-01 00:01:00|2001-07-01|\n",
            "+----------------------+-------------------+----------+\n",
            "only showing top 20 rows\n",
            "\n"
          ]
        }
      ],
      "source": [
        "df.select(['date','date_time', 'month'])\\\n",
        "  .show(n=20, truncate=False)"
      ]
    },
    {
      "cell_type": "markdown",
      "metadata": {
        "id": "qoeD7ctRB11s"
      },
      "source": [
        "### Combien d'arrestations ?\n",
        "\n",
        "Pas tous les crimes donnent lieu à des arrestations.\n",
        "Grâce à `groupBy`, nous allons afficher le nombre d'arrestations par mois (et le nombre de crimes sans arrestations)."
      ]
    },
    {
      "cell_type": "code",
      "execution_count": 28,
      "metadata": {
        "id": "2a-2HrFHB11s",
        "colab": {
          "base_uri": "https://localhost:8080/"
        },
        "outputId": "fde3637a-5bb1-4053-fc34-e01028e1fbcf"
      },
      "outputs": [
        {
          "output_type": "stream",
          "name": "stdout",
          "text": [
            "\n",
            "+------+----------+-----+\n",
            "|arrest|month     |count|\n",
            "+------+----------+-----+\n",
            "|false |2001-01-01|50720|\n",
            "|true  |2001-01-01|24275|\n",
            "|false |2001-02-01|44655|\n",
            "|true  |2001-02-01|21633|\n",
            "|false |2001-03-01|37706|\n",
            "|true  |2001-03-01|15413|\n",
            "|false |2001-04-01|28258|\n",
            "|true  |2001-04-01|11908|\n",
            "|false |2001-05-01|29796|\n",
            "|true  |2001-05-01|12080|\n",
            "|false |2001-06-01|29854|\n",
            "|true  |2001-06-01|11969|\n",
            "|false |2001-07-01|32838|\n",
            "|true  |2001-07-01|11963|\n",
            "|false |2001-08-01|31864|\n",
            "|true  |2001-08-01|12251|\n",
            "|false |2001-09-01|30162|\n",
            "|true  |2001-09-01|11440|\n",
            "|false |2001-10-01|31168|\n",
            "|true  |2001-10-01|11963|\n",
            "+------+----------+-----+\n",
            "only showing top 20 rows\n",
            "\n"
          ]
        }
      ],
      "source": [
        "# On peut utiliser la colonne month pour affiche les quantités d'arrestations au fil des années, groupées par mois :\n",
        "type_arrest_date = df.groupBy(['arrest', 'month'])\\\n",
        "                     .count()\\\n",
        "                     .orderBy(['month', 'count'], ascending=[True, False])\n",
        "print()\n",
        "type_arrest_date.show(truncate=False)"
      ]
    },
    {
      "cell_type": "markdown",
      "metadata": {
        "id": "ox4oZ41EB11u"
      },
      "source": [
        "### Comment le nombre d'arrestations a évolué sur l'année ?\n",
        "\n",
        "Pour l'afichage, nous allons encore une fois transformer notre dataset en Pandas. On transforme `type_arrest_date`, puis on utilise matplotlib pour l'affichage."
      ]
    },
    {
      "cell_type": "code",
      "source": [
        "# prompt: à partir de type_arrest_date, générer un graphique matplotlib affichant le nombre arrests true et false, par mois\n",
        "\n",
        "import matplotlib.pyplot as plt\n",
        "\n",
        "# Convert the Spark DataFrame to a Pandas DataFrame for easier plotting\n",
        "type_arrest_date_pandas = type_arrest_date.toPandas()\n",
        "\n",
        "# Create the plot\n",
        "plt.figure(figsize=(10, 6))\n",
        "for arrest_status in type_arrest_date_pandas['arrest'].unique():\n",
        "    subset = type_arrest_date_pandas[type_arrest_date_pandas['arrest'] == arrest_status]\n",
        "    plt.plot(subset['month'], subset['count'], label=f'Arrest: {arrest_status}')\n",
        "\n",
        "plt.xlabel('Month')\n",
        "plt.ylabel('Number of Arrests')\n",
        "plt.title('Number of Arrests (True/False) per Month')\n",
        "plt.xticks(rotation=45)\n",
        "plt.legend()\n",
        "plt.tight_layout()\n",
        "plt.show()\n"
      ],
      "metadata": {
        "colab": {
          "base_uri": "https://localhost:8080/",
          "height": 607
        },
        "id": "08Ja7Z_YI6aO",
        "outputId": "2d2caf57-4f50-44d9-b7c3-75e037498840"
      },
      "execution_count": 29,
      "outputs": [
        {
          "output_type": "display_data",
          "data": {
            "text/plain": [
              "<Figure size 1000x600 with 1 Axes>"
            ],
            "image/png": "[encoded data removed]"
          },
          "metadata": {}
        }
      ]
    },
    {
      "cell_type": "markdown",
      "metadata": {
        "id": "MVUmuvVIB11u"
      },
      "source": [
        "### À quel moment de la journée les criminels sont plus actifs ?\n",
        "\n",
        "Ici c'est à vous de refaire le même type d'opération. Je vais juste vous montrer comment créer une colonne avec les heures."
      ]
    },
    {
      "cell_type": "code",
      "execution_count": 32,
      "metadata": {
        "id": "zHDjY5bBB11v"
      },
      "outputs": [],
      "source": [
        "# Extract the \"hour\" field from the date into a separate column called \"hour\"\n",
        "df_hour = df.withColumn('hour', hour(df['date_time']))"
      ]
    },
    {
      "cell_type": "code",
      "execution_count": 33,
      "metadata": {
        "id": "JsZNEJXZB11v"
      },
      "outputs": [],
      "source": [
        "# Derive a data frame with crime counts per hour of the day:\n",
        "hourly_count = df_hour.groupBy(['primary_type', 'hour']).count()\n",
        "hourly_total_count = hourly_count.groupBy('hour').sum('count')"
      ]
    },
    {
      "cell_type": "code",
      "execution_count": 34,
      "metadata": {
        "id": "hVeHieTYB11v"
      },
      "outputs": [],
      "source": [
        "hourly_count_pddf = hourly_count.toPandas()\n",
        "hourly_total_count_pddf = hourly_total_count.toPandas()"
      ]
    },
    {
      "cell_type": "code",
      "execution_count": 35,
      "metadata": {
        "id": "vGf_KjlJB11v"
      },
      "outputs": [],
      "source": [
        "hourly_count_pddf = hourly_count_pddf.sort_values(by='hour')\n",
        "hourly_total_count_pddf = hourly_total_count_pddf.sort_values(by='hour')"
      ]
    },
    {
      "cell_type": "code",
      "source": [
        "hourly_count_pddf.head(10)"
      ],
      "metadata": {
        "colab": {
          "base_uri": "https://localhost:8080/",
          "height": 363
        },
        "id": "mu728Fx4LU3A",
        "outputId": "2a584dd7-a9b6-4f4f-e263-7b64016826d6"
      },
      "execution_count": 36,
      "outputs": [
        {
          "output_type": "execute_result",
          "data": {
            "text/plain": [
              "             primary_type  hour  count\n",
              "320  LIQUOR LAW VIOLATION     0     83\n",
              "339             NARCOTICS     0   1865\n",
              "580   MOTOR VEHICLE THEFT     0   2026\n",
              "151                 ARSON     0    109\n",
              "626               ASSAULT     0   1140\n",
              "298              HOMICIDE     0     80\n",
              "46                  THEFT     0   5741\n",
              "292               ROBBERY     0   1207\n",
              "241              STALKING     0      8\n",
              "584     WEAPONS VIOLATION     0    311"
            ],
            "text/html": [
              "\n",
              "  <div id=\"df-881e6535-25e0-4de8-a2b8-241ccb394782\" class=\"colab-df-container\">\n",
              "    <div>\n",
              "<style scoped>\n",
              "    .dataframe tbody tr th:only-of-type {\n",
              "        vertical-align: middle;\n",
              "    }\n",
              "\n",
              "    .dataframe tbody tr th {\n",
              "        vertical-align: top;\n",
              "    }\n",
              "\n",
              "    .dataframe thead th {\n",
              "        text-align: right;\n",
              "    }\n",
              "</style>\n",
              "<table border=\"1\" class=\"dataframe\">\n",
              "  <thead>\n",
              "    <tr style=\"text-align: right;\">\n",
              "      <th></th>\n",
              "      <th>primary_type</th>\n",
              "      <th>hour</th>\n",
              "      <th>count</th>\n",
              "    </tr>\n",
              "  </thead>\n",
              "  <tbody>\n",
              "    <tr>\n",
              "      <th>320</th>\n",
              "      <td>LIQUOR LAW VIOLATION</td>\n",
              "      <td>0</td>\n",
              "      <td>83</td>\n",
              "    </tr>\n",
              "    <tr>\n",
              "      <th>339</th>\n",
              "      <td>NARCOTICS</td>\n",
              "      <td>0</td>\n",
              "      <td>1865</td>\n",
              "    </tr>\n",
              "    <tr>\n",
              "      <th>580</th>\n",
              "      <td>MOTOR VEHICLE THEFT</td>\n",
              "      <td>0</td>\n",
              "      <td>2026</td>\n",
              "    </tr>\n",
              "    <tr>\n",
              "      <th>151</th>\n",
              "      <td>ARSON</td>\n",
              "      <td>0</td>\n",
              "      <td>109</td>\n",
              "    </tr>\n",
              "    <tr>\n",
              "      <th>626</th>\n",
              "      <td>ASSAULT</td>\n",
              "      <td>0</td>\n",
              "      <td>1140</td>\n",
              "    </tr>\n",
              "    <tr>\n",
              "      <th>298</th>\n",
              "      <td>HOMICIDE</td>\n",
              "      <td>0</td>\n",
              "      <td>80</td>\n",
              "    </tr>\n",
              "    <tr>\n",
              "      <th>46</th>\n",
              "      <td>THEFT</td>\n",
              "      <td>0</td>\n",
              "      <td>5741</td>\n",
              "    </tr>\n",
              "    <tr>\n",
              "      <th>292</th>\n",
              "      <td>ROBBERY</td>\n",
              "      <td>0</td>\n",
              "      <td>1207</td>\n",
              "    </tr>\n",
              "    <tr>\n",
              "      <th>241</th>\n",
              "      <td>STALKING</td>\n",
              "      <td>0</td>\n",
              "      <td>8</td>\n",
              "    </tr>\n",
              "    <tr>\n",
              "      <th>584</th>\n",
              "      <td>WEAPONS VIOLATION</td>\n",
              "      <td>0</td>\n",
              "      <td>311</td>\n",
              "    </tr>\n",
              "  </tbody>\n",
              "</table>\n",
              "</div>\n",
              "    <div class=\"colab-df-buttons\">\n",
              "\n",
              "  <div class=\"colab-df-container\">\n",
              "    <button class=\"colab-df-convert\" onclick=\"convertToInteractive('df-881e6535-25e0-4de8-a2b8-241ccb394782')\"\n",
              "            title=\"Convert this dataframe to an interactive table.\"\n",
              "            style=\"display:none;\">\n",
              "\n",
              "  <svg xmlns=\"http://www.w3.org/2000/svg\" height=\"24px\" viewBox=\"0 -960 960 960\">\n",
              "    <path d=\"M120-120v-720h720v720H120Zm60-500h600v-160H180v160Zm220 220h160v-160H400v160Zm0 220h160v-160H400v160ZM180-400h160v-160H180v160Zm440 0h160v-160H620v160ZM180-180h160v-160H180v160Zm440 0h160v-160H620v160Z\"/>\n",
              "  </svg>\n",
              "    </button>\n",
              "\n",
              "  <style>\n",
              "    .colab-df-container {\n",
              "      display:flex;\n",
              "      gap: 12px;\n",
              "    }\n",
              "\n",
              "    .colab-df-convert {\n",
              "      background-color: #E8F0FE;\n",
              "      border: none;\n",
              "      border-radius: 50%;\n",
              "      cursor: pointer;\n",
              "      display: none;\n",
              "      fill: #1967D2;\n",
              "      height: 32px;\n",
              "      padding: 0 0 0 0;\n",
              "      width: 32px;\n",
              "    }\n",
              "\n",
              "    .colab-df-convert:hover {\n",
              "      background-color: #E2EBFA;\n",
              "      box-shadow: 0px 1px 2px rgba(60, 64, 67, 0.3), 0px 1px 3px 1px rgba(60, 64, 67, 0.15);\n",
              "      fill: #174EA6;\n",
              "    }\n",
              "\n",
              "    .colab-df-buttons div {\n",
              "      margin-bottom: 4px;\n",
              "    }\n",
              "\n",
              "    [theme=dark] .colab-df-convert {\n",
              "      background-color: #3B4455;\n",
              "      fill: #D2E3FC;\n",
              "    }\n",
              "\n",
              "    [theme=dark] .colab-df-convert:hover {\n",
              "      background-color: #434B5C;\n",
              "      box-shadow: 0px 1px 3px 1px rgba(0, 0, 0, 0.15);\n",
              "      filter: drop-shadow(0px 1px 2px rgba(0, 0, 0, 0.3));\n",
              "      fill: #FFFFFF;\n",
              "    }\n",
              "  </style>\n",
              "\n",
              "    <script>\n",
              "      const buttonEl =\n",
              "        document.querySelector('#df-881e6535-25e0-4de8-a2b8-241ccb394782 button.colab-df-convert');\n",
              "      buttonEl.style.display =\n",
              "        google.colab.kernel.accessAllowed ? 'block' : 'none';\n",
              "\n",
              "      async function convertToInteractive(key) {\n",
              "        const element = document.querySelector('#df-881e6535-25e0-4de8-a2b8-241ccb394782');\n",
              "        const dataTable =\n",
              "          await google.colab.kernel.invokeFunction('convertToInteractive',\n",
              "                                                    [key], {});\n",
              "        if (!dataTable) return;\n",
              "\n",
              "        const docLinkHtml = 'Like what you see? Visit the ' +\n",
              "          '<a target=\"_blank\" href=https://colab.research.google.com/notebooks/data_table.ipynb>data table notebook</a>'\n",
              "          + ' to learn more about interactive tables.';\n",
              "        element.innerHTML = '';\n",
              "        dataTable['output_type'] = 'display_data';\n",
              "        await google.colab.output.renderOutput(dataTable, element);\n",
              "        const docLink = document.createElement('div');\n",
              "        docLink.innerHTML = docLinkHtml;\n",
              "        element.appendChild(docLink);\n",
              "      }\n",
              "    </script>\n",
              "  </div>\n",
              "\n",
              "\n",
              "<div id=\"df-bc87569d-af5e-473f-9271-f7b564673466\">\n",
              "  <button class=\"colab-df-quickchart\" onclick=\"quickchart('df-bc87569d-af5e-473f-9271-f7b564673466')\"\n",
              "            title=\"Suggest charts\"\n",
              "            style=\"display:none;\">\n",
              "\n",
              "<svg xmlns=\"http://www.w3.org/2000/svg\" height=\"24px\"viewBox=\"0 0 24 24\"\n",
              "     width=\"24px\">\n",
              "    <g>\n",
              "        <path d=\"M19 3H5c-1.1 0-2 .9-2 2v14c0 1.1.9 2 2 2h14c1.1 0 2-.9 2-2V5c0-1.1-.9-2-2-2zM9 17H7v-7h2v7zm4 0h-2V7h2v10zm4 0h-2v-4h2v4z\"/>\n",
              "    </g>\n",
              "</svg>\n",
              "  </button>\n",
              "\n",
              "<style>\n",
              "  .colab-df-quickchart {\n",
              "      --bg-color: #E8F0FE;\n",
              "      --fill-color: #1967D2;\n",
              "      --hover-bg-color: #E2EBFA;\n",
              "      --hover-fill-color: #174EA6;\n",
              "      --disabled-fill-color: #AAA;\n",
              "      --disabled-bg-color: #DDD;\n",
              "  }\n",
              "\n",
              "  [theme=dark] .colab-df-quickchart {\n",
              "      --bg-color: #3B4455;\n",
              "      --fill-color: #D2E3FC;\n",
              "      --hover-bg-color: #434B5C;\n",
              "      --hover-fill-color: #FFFFFF;\n",
              "      --disabled-bg-color: #3B4455;\n",
              "      --disabled-fill-color: #666;\n",
              "  }\n",
              "\n",
              "  .colab-df-quickchart {\n",
              "    background-color: var(--bg-color);\n",
              "    border: none;\n",
              "    border-radius: 50%;\n",
              "    cursor: pointer;\n",
              "    display: none;\n",
              "    fill: var(--fill-color);\n",
              "    height: 32px;\n",
              "    padding: 0;\n",
              "    width: 32px;\n",
              "  }\n",
              "\n",
              "  .colab-df-quickchart:hover {\n",
              "    background-color: var(--hover-bg-color);\n",
              "    box-shadow: 0 1px 2px rgba(60, 64, 67, 0.3), 0 1px 3px 1px rgba(60, 64, 67, 0.15);\n",
              "    fill: var(--button-hover-fill-color);\n",
              "  }\n",
              "\n",
              "  .colab-df-quickchart-complete:disabled,\n",
              "  .colab-df-quickchart-complete:disabled:hover {\n",
              "    background-color: var(--disabled-bg-color);\n",
              "    fill: var(--disabled-fill-color);\n",
              "    box-shadow: none;\n",
              "  }\n",
              "\n",
              "  .colab-df-spinner {\n",
              "    border: 2px solid var(--fill-color);\n",
              "    border-color: transparent;\n",
              "    border-bottom-color: var(--fill-color);\n",
              "    animation:\n",
              "      spin 1s steps(1) infinite;\n",
              "  }\n",
              "\n",
              "  @keyframes spin {\n",
              "    0% {\n",
              "      border-color: transparent;\n",
              "      border-bottom-color: var(--fill-color);\n",
              "      border-left-color: var(--fill-color);\n",
              "    }\n",
              "    20% {\n",
              "      border-color: transparent;\n",
              "      border-left-color: var(--fill-color);\n",
              "      border-top-color: var(--fill-color);\n",
              "    }\n",
              "    30% {\n",
              "      border-color: transparent;\n",
              "      border-left-color: var(--fill-color);\n",
              "      border-top-color: var(--fill-color);\n",
              "      border-right-color: var(--fill-color);\n",
              "    }\n",
              "    40% {\n",
              "      border-color: transparent;\n",
              "      border-right-color: var(--fill-color);\n",
              "      border-top-color: var(--fill-color);\n",
              "    }\n",
              "    60% {\n",
              "      border-color: transparent;\n",
              "      border-right-color: var(--fill-color);\n",
              "    }\n",
              "    80% {\n",
              "      border-color: transparent;\n",
              "      border-right-color: var(--fill-color);\n",
              "      border-bottom-color: var(--fill-color);\n",
              "    }\n",
              "    90% {\n",
              "      border-color: transparent;\n",
              "      border-bottom-color: var(--fill-color);\n",
              "    }\n",
              "  }\n",
              "</style>\n",
              "\n",
              "  <script>\n",
              "    async function quickchart(key) {\n",
              "      const quickchartButtonEl =\n",
              "        document.querySelector('#' + key + ' button');\n",
              "      quickchartButtonEl.disabled = true;  // To prevent multiple clicks.\n",
              "      quickchartButtonEl.classList.add('colab-df-spinner');\n",
              "      try {\n",
              "        const charts = await google.colab.kernel.invokeFunction(\n",
              "            'suggestCharts', [key], {});\n",
              "      } catch (error) {\n",
              "        console.error('Error during call to suggestCharts:', error);\n",
              "      }\n",
              "      quickchartButtonEl.classList.remove('colab-df-spinner');\n",
              "      quickchartButtonEl.classList.add('colab-df-quickchart-complete');\n",
              "    }\n",
              "    (() => {\n",
              "      let quickchartButtonEl =\n",
              "        document.querySelector('#df-bc87569d-af5e-473f-9271-f7b564673466 button');\n",
              "      quickchartButtonEl.style.display =\n",
              "        google.colab.kernel.accessAllowed ? 'block' : 'none';\n",
              "    })();\n",
              "  </script>\n",
              "</div>\n",
              "\n",
              "    </div>\n",
              "  </div>\n"
            ],
            "application/vnd.google.colaboratory.intrinsic+json": {
              "type": "dataframe",
              "variable_name": "hourly_count_pddf",
              "summary": "{\n  \"name\": \"hourly_count_pddf\",\n  \"rows\": 632,\n  \"fields\": [\n    {\n      \"column\": \"primary_type\",\n      \"properties\": {\n        \"dtype\": \"category\",\n        \"num_unique_values\": 30,\n        \"samples\": [\n          \"INTIMIDATION\",\n          \"CRIMINAL DAMAGE\",\n          \"OTHER OFFENSE\"\n        ],\n        \"semantic_type\": \"\",\n        \"description\": \"\"\n      }\n    },\n    {\n      \"column\": \"hour\",\n      \"properties\": {\n        \"dtype\": \"int32\",\n        \"num_unique_values\": 24,\n        \"samples\": [\n          8,\n          16,\n          0\n        ],\n        \"semantic_type\": \"\",\n        \"description\": \"\"\n      }\n    },\n    {\n      \"column\": \"count\",\n      \"properties\": {\n        \"dtype\": \"number\",\n        \"std\": 1497,\n        \"min\": 1,\n        \"max\": 8118,\n        \"num_unique_values\": 426,\n        \"samples\": [\n          3715,\n          5,\n          153\n        ],\n        \"semantic_type\": \"\",\n        \"description\": \"\"\n      }\n    }\n  ]\n}"
            }
          },
          "metadata": {},
          "execution_count": 36
        }
      ]
    },
    {
      "cell_type": "code",
      "source": [
        "hourly_total_count_pddf.head(10)"
      ],
      "metadata": {
        "colab": {
          "base_uri": "https://localhost:8080/",
          "height": 363
        },
        "id": "A4lzRYWNKKYu",
        "outputId": "22e105c8-de94-44c4-ce32-5227e92f8ac1"
      },
      "execution_count": 37,
      "outputs": [
        {
          "output_type": "execute_result",
          "data": {
            "text/plain": [
              "    hour  sum(count)\n",
              "22     0       28860\n",
              "2      1       18603\n",
              "21     2       15247\n",
              "6      3       12069\n",
              "13     4        9211\n",
              "8      5        7368\n",
              "4      6        7993\n",
              "16     7       11827\n",
              "14     8       18115\n",
              "11     9       22218"
            ],
            "text/html": [
              "\n",
              "  <div id=\"df-3e912ac8-7de1-4902-9ab2-92310159110f\" class=\"colab-df-container\">\n",
              "    <div>\n",
              "<style scoped>\n",
              "    .dataframe tbody tr th:only-of-type {\n",
              "        vertical-align: middle;\n",
              "    }\n",
              "\n",
              "    .dataframe tbody tr th {\n",
              "        vertical-align: top;\n",
              "    }\n",
              "\n",
              "    .dataframe thead th {\n",
              "        text-align: right;\n",
              "    }\n",
              "</style>\n",
              "<table border=\"1\" class=\"dataframe\">\n",
              "  <thead>\n",
              "    <tr style=\"text-align: right;\">\n",
              "      <th></th>\n",
              "      <th>hour</th>\n",
              "      <th>sum(count)</th>\n",
              "    </tr>\n",
              "  </thead>\n",
              "  <tbody>\n",
              "    <tr>\n",
              "      <th>22</th>\n",
              "      <td>0</td>\n",
              "      <td>28860</td>\n",
              "    </tr>\n",
              "    <tr>\n",
              "      <th>2</th>\n",
              "      <td>1</td>\n",
              "      <td>18603</td>\n",
              "    </tr>\n",
              "    <tr>\n",
              "      <th>21</th>\n",
              "      <td>2</td>\n",
              "      <td>15247</td>\n",
              "    </tr>\n",
              "    <tr>\n",
              "      <th>6</th>\n",
              "      <td>3</td>\n",
              "      <td>12069</td>\n",
              "    </tr>\n",
              "    <tr>\n",
              "      <th>13</th>\n",
              "      <td>4</td>\n",
              "      <td>9211</td>\n",
              "    </tr>\n",
              "    <tr>\n",
              "      <th>8</th>\n",
              "      <td>5</td>\n",
              "      <td>7368</td>\n",
              "    </tr>\n",
              "    <tr>\n",
              "      <th>4</th>\n",
              "      <td>6</td>\n",
              "      <td>7993</td>\n",
              "    </tr>\n",
              "    <tr>\n",
              "      <th>16</th>\n",
              "      <td>7</td>\n",
              "      <td>11827</td>\n",
              "    </tr>\n",
              "    <tr>\n",
              "      <th>14</th>\n",
              "      <td>8</td>\n",
              "      <td>18115</td>\n",
              "    </tr>\n",
              "    <tr>\n",
              "      <th>11</th>\n",
              "      <td>9</td>\n",
              "      <td>22218</td>\n",
              "    </tr>\n",
              "  </tbody>\n",
              "</table>\n",
              "</div>\n",
              "    <div class=\"colab-df-buttons\">\n",
              "\n",
              "  <div class=\"colab-df-container\">\n",
              "    <button class=\"colab-df-convert\" onclick=\"convertToInteractive('df-3e912ac8-7de1-4902-9ab2-92310159110f')\"\n",
              "            title=\"Convert this dataframe to an interactive table.\"\n",
              "            style=\"display:none;\">\n",
              "\n",
              "  <svg xmlns=\"http://www.w3.org/2000/svg\" height=\"24px\" viewBox=\"0 -960 960 960\">\n",
              "    <path d=\"M120-120v-720h720v720H120Zm60-500h600v-160H180v160Zm220 220h160v-160H400v160Zm0 220h160v-160H400v160ZM180-400h160v-160H180v160Zm440 0h160v-160H620v160ZM180-180h160v-160H180v160Zm440 0h160v-160H620v160Z\"/>\n",
              "  </svg>\n",
              "    </button>\n",
              "\n",
              "  <style>\n",
              "    .colab-df-container {\n",
              "      display:flex;\n",
              "      gap: 12px;\n",
              "    }\n",
              "\n",
              "    .colab-df-convert {\n",
              "      background-color: #E8F0FE;\n",
              "      border: none;\n",
              "      border-radius: 50%;\n",
              "      cursor: pointer;\n",
              "      display: none;\n",
              "      fill: #1967D2;\n",
              "      height: 32px;\n",
              "      padding: 0 0 0 0;\n",
              "      width: 32px;\n",
              "    }\n",
              "\n",
              "    .colab-df-convert:hover {\n",
              "      background-color: #E2EBFA;\n",
              "      box-shadow: 0px 1px 2px rgba(60, 64, 67, 0.3), 0px 1px 3px 1px rgba(60, 64, 67, 0.15);\n",
              "      fill: #174EA6;\n",
              "    }\n",
              "\n",
              "    .colab-df-buttons div {\n",
              "      margin-bottom: 4px;\n",
              "    }\n",
              "\n",
              "    [theme=dark] .colab-df-convert {\n",
              "      background-color: #3B4455;\n",
              "      fill: #D2E3FC;\n",
              "    }\n",
              "\n",
              "    [theme=dark] .colab-df-convert:hover {\n",
              "      background-color: #434B5C;\n",
              "      box-shadow: 0px 1px 3px 1px rgba(0, 0, 0, 0.15);\n",
              "      filter: drop-shadow(0px 1px 2px rgba(0, 0, 0, 0.3));\n",
              "      fill: #FFFFFF;\n",
              "    }\n",
              "  </style>\n",
              "\n",
              "    <script>\n",
              "      const buttonEl =\n",
              "        document.querySelector('#df-3e912ac8-7de1-4902-9ab2-92310159110f button.colab-df-convert');\n",
              "      buttonEl.style.display =\n",
              "        google.colab.kernel.accessAllowed ? 'block' : 'none';\n",
              "\n",
              "      async function convertToInteractive(key) {\n",
              "        const element = document.querySelector('#df-3e912ac8-7de1-4902-9ab2-92310159110f');\n",
              "        const dataTable =\n",
              "          await google.colab.kernel.invokeFunction('convertToInteractive',\n",
              "                                                    [key], {});\n",
              "        if (!dataTable) return;\n",
              "\n",
              "        const docLinkHtml = 'Like what you see? Visit the ' +\n",
              "          '<a target=\"_blank\" href=https://colab.research.google.com/notebooks/data_table.ipynb>data table notebook</a>'\n",
              "          + ' to learn more about interactive tables.';\n",
              "        element.innerHTML = '';\n",
              "        dataTable['output_type'] = 'display_data';\n",
              "        await google.colab.output.renderOutput(dataTable, element);\n",
              "        const docLink = document.createElement('div');\n",
              "        docLink.innerHTML = docLinkHtml;\n",
              "        element.appendChild(docLink);\n",
              "      }\n",
              "    </script>\n",
              "  </div>\n",
              "\n",
              "\n",
              "<div id=\"df-cc300b14-5e21-4f9c-95f2-6e1011d01fcb\">\n",
              "  <button class=\"colab-df-quickchart\" onclick=\"quickchart('df-cc300b14-5e21-4f9c-95f2-6e1011d01fcb')\"\n",
              "            title=\"Suggest charts\"\n",
              "            style=\"display:none;\">\n",
              "\n",
              "<svg xmlns=\"http://www.w3.org/2000/svg\" height=\"24px\"viewBox=\"0 0 24 24\"\n",
              "     width=\"24px\">\n",
              "    <g>\n",
              "        <path d=\"M19 3H5c-1.1 0-2 .9-2 2v14c0 1.1.9 2 2 2h14c1.1 0 2-.9 2-2V5c0-1.1-.9-2-2-2zM9 17H7v-7h2v7zm4 0h-2V7h2v10zm4 0h-2v-4h2v4z\"/>\n",
              "    </g>\n",
              "</svg>\n",
              "  </button>\n",
              "\n",
              "<style>\n",
              "  .colab-df-quickchart {\n",
              "      --bg-color: #E8F0FE;\n",
              "      --fill-color: #1967D2;\n",
              "      --hover-bg-color: #E2EBFA;\n",
              "      --hover-fill-color: #174EA6;\n",
              "      --disabled-fill-color: #AAA;\n",
              "      --disabled-bg-color: #DDD;\n",
              "  }\n",
              "\n",
              "  [theme=dark] .colab-df-quickchart {\n",
              "      --bg-color: #3B4455;\n",
              "      --fill-color: #D2E3FC;\n",
              "      --hover-bg-color: #434B5C;\n",
              "      --hover-fill-color: #FFFFFF;\n",
              "      --disabled-bg-color: #3B4455;\n",
              "      --disabled-fill-color: #666;\n",
              "  }\n",
              "\n",
              "  .colab-df-quickchart {\n",
              "    background-color: var(--bg-color);\n",
              "    border: none;\n",
              "    border-radius: 50%;\n",
              "    cursor: pointer;\n",
              "    display: none;\n",
              "    fill: var(--fill-color);\n",
              "    height: 32px;\n",
              "    padding: 0;\n",
              "    width: 32px;\n",
              "  }\n",
              "\n",
              "  .colab-df-quickchart:hover {\n",
              "    background-color: var(--hover-bg-color);\n",
              "    box-shadow: 0 1px 2px rgba(60, 64, 67, 0.3), 0 1px 3px 1px rgba(60, 64, 67, 0.15);\n",
              "    fill: var(--button-hover-fill-color);\n",
              "  }\n",
              "\n",
              "  .colab-df-quickchart-complete:disabled,\n",
              "  .colab-df-quickchart-complete:disabled:hover {\n",
              "    background-color: var(--disabled-bg-color);\n",
              "    fill: var(--disabled-fill-color);\n",
              "    box-shadow: none;\n",
              "  }\n",
              "\n",
              "  .colab-df-spinner {\n",
              "    border: 2px solid var(--fill-color);\n",
              "    border-color: transparent;\n",
              "    border-bottom-color: var(--fill-color);\n",
              "    animation:\n",
              "      spin 1s steps(1) infinite;\n",
              "  }\n",
              "\n",
              "  @keyframes spin {\n",
              "    0% {\n",
              "      border-color: transparent;\n",
              "      border-bottom-color: var(--fill-color);\n",
              "      border-left-color: var(--fill-color);\n",
              "    }\n",
              "    20% {\n",
              "      border-color: transparent;\n",
              "      border-left-color: var(--fill-color);\n",
              "      border-top-color: var(--fill-color);\n",
              "    }\n",
              "    30% {\n",
              "      border-color: transparent;\n",
              "      border-left-color: var(--fill-color);\n",
              "      border-top-color: var(--fill-color);\n",
              "      border-right-color: var(--fill-color);\n",
              "    }\n",
              "    40% {\n",
              "      border-color: transparent;\n",
              "      border-right-color: var(--fill-color);\n",
              "      border-top-color: var(--fill-color);\n",
              "    }\n",
              "    60% {\n",
              "      border-color: transparent;\n",
              "      border-right-color: var(--fill-color);\n",
              "    }\n",
              "    80% {\n",
              "      border-color: transparent;\n",
              "      border-right-color: var(--fill-color);\n",
              "      border-bottom-color: var(--fill-color);\n",
              "    }\n",
              "    90% {\n",
              "      border-color: transparent;\n",
              "      border-bottom-color: var(--fill-color);\n",
              "    }\n",
              "  }\n",
              "</style>\n",
              "\n",
              "  <script>\n",
              "    async function quickchart(key) {\n",
              "      const quickchartButtonEl =\n",
              "        document.querySelector('#' + key + ' button');\n",
              "      quickchartButtonEl.disabled = true;  // To prevent multiple clicks.\n",
              "      quickchartButtonEl.classList.add('colab-df-spinner');\n",
              "      try {\n",
              "        const charts = await google.colab.kernel.invokeFunction(\n",
              "            'suggestCharts', [key], {});\n",
              "      } catch (error) {\n",
              "        console.error('Error during call to suggestCharts:', error);\n",
              "      }\n",
              "      quickchartButtonEl.classList.remove('colab-df-spinner');\n",
              "      quickchartButtonEl.classList.add('colab-df-quickchart-complete');\n",
              "    }\n",
              "    (() => {\n",
              "      let quickchartButtonEl =\n",
              "        document.querySelector('#df-cc300b14-5e21-4f9c-95f2-6e1011d01fcb button');\n",
              "      quickchartButtonEl.style.display =\n",
              "        google.colab.kernel.accessAllowed ? 'block' : 'none';\n",
              "    })();\n",
              "  </script>\n",
              "</div>\n",
              "\n",
              "    </div>\n",
              "  </div>\n"
            ],
            "application/vnd.google.colaboratory.intrinsic+json": {
              "type": "dataframe",
              "variable_name": "hourly_total_count_pddf",
              "summary": "{\n  \"name\": \"hourly_total_count_pddf\",\n  \"rows\": 24,\n  \"fields\": [\n    {\n      \"column\": \"hour\",\n      \"properties\": {\n        \"dtype\": \"int32\",\n        \"num_unique_values\": 24,\n        \"samples\": [\n          8,\n          16,\n          0\n        ],\n        \"semantic_type\": \"\",\n        \"description\": \"\"\n      }\n    },\n    {\n      \"column\": \"sum(count)\",\n      \"properties\": {\n        \"dtype\": \"number\",\n        \"std\": 8886,\n        \"min\": 7368,\n        \"max\": 33614,\n        \"num_unique_values\": 24,\n        \"samples\": [\n          18115,\n          29219,\n          28860\n        ],\n        \"semantic_type\": \"\",\n        \"description\": \"\"\n      }\n    }\n  ]\n}"
            }
          },
          "metadata": {},
          "execution_count": 37
        }
      ]
    },
    {
      "cell_type": "code",
      "execution_count": 38,
      "metadata": {
        "id": "S08QHOlBB11v",
        "colab": {
          "base_uri": "https://localhost:8080/",
          "height": 582
        },
        "outputId": "70253431-877f-4111-de72-7d6699b0dc1a"
      },
      "outputs": [
        {
          "output_type": "execute_result",
          "data": {
            "text/plain": [
              "<matplotlib.legend.Legend at 0x7e1fcd8e6f90>"
            ]
          },
          "metadata": {},
          "execution_count": 38
        },
        {
          "output_type": "display_data",
          "data": {
            "text/plain": [
              "<Figure size 1000x600 with 1 Axes>"
            ],
            "image/png": "[encoded data removed]"
          },
          "metadata": {}
        }
      ],
      "source": [
        "fig, ax = plt.subplots()\n",
        "ax.plot(hourly_total_count_pddf['hour'], hourly_total_count_pddf['sum(count)'], label='Hourly Count')\n",
        "\n",
        "ax.set(xlabel='Hour of Day', ylabel='Total records',\n",
        "       title='Overall hourly crime numbers')\n",
        "ax.legend()"
      ]
    },
    {
      "cell_type": "markdown",
      "metadata": {
        "id": "bMZ2MN6dB11v"
      },
      "source": [
        "Il semble que c'est plus agité entre 18h et 22h... avec un pic à midi.\n",
        "\n",
        "Regardons le détail de chaque type de crime.\n",
        "\n"
      ]
    },
    {
      "cell_type": "code",
      "source": [
        "import matplotlib.pyplot as plt\n",
        "\n",
        "# Create the plot\n",
        "plt.figure(figsize=(10, 6))\n",
        "\n",
        "# Group data by hour and primary type and sum the counts\n",
        "hourly_counts_grouped = hourly_count_pddf.groupby(['hour', 'primary_type'])['count'].sum().unstack()\n",
        "\n",
        "# Plot stacked area chart\n",
        "hourly_counts_grouped.plot(kind='area', stacked=True, ax=plt.gca())\n",
        "\n",
        "plt.xlabel('Hour')\n",
        "plt.ylabel('Number of Crimes')\n",
        "plt.title('Hourly Crime Counts by Primary Type')\n",
        "plt.xticks(rotation=45)\n",
        "plt.legend(title='Primary Type', bbox_to_anchor=(1.05, 1), loc='upper left')\n",
        "plt.tight_layout()\n",
        "plt.show()\n"
      ],
      "metadata": {
        "colab": {
          "base_uri": "https://localhost:8080/",
          "height": 719
        },
        "id": "tGpzIUylLfCh",
        "outputId": "a9edf8db-aa6f-4478-d181-119e7353805c"
      },
      "execution_count": 39,
      "outputs": [
        {
          "output_type": "display_data",
          "data": {
            "text/plain": [
              "<Figure size 1000x600 with 1 Axes>"
            ],
            "image/png": "[encoded data removed]"
          },
          "metadata": {}
        }
      ]
    },
    {
      "cell_type": "markdown",
      "metadata": {
        "id": "I6rHrROiB11w"
      },
      "source": [
        "### Dans que type d'endroit les crimes sont commis ?\n",
        "\n",
        "Le dataset indique la \"classe\" de lieu où le crime a été commis : maison, rue, etc. Regardons ça en détails."
      ]
    },
    {
      "cell_type": "code",
      "execution_count": 40,
      "metadata": {
        "id": "mBdTg6GRB11w",
        "colab": {
          "base_uri": "https://localhost:8080/"
        },
        "outputId": "e6bc2087-63da-4fdd-9d1f-3a9730a9832e"
      },
      "outputs": [
        {
          "output_type": "execute_result",
          "data": {
            "text/plain": [
              "114"
            ]
          },
          "metadata": {},
          "execution_count": 40
        }
      ],
      "source": [
        "# Combien de types d'endroit sont recensés\n",
        "df.select('location_description').distinct().count()"
      ]
    },
    {
      "cell_type": "markdown",
      "metadata": {
        "id": "lsllA6BgB11w"
      },
      "source": [
        "Ok, il y a 114 types différents d'endroit qui sont recensés.\n",
        "\n",
        "Quels sont les 10 endroits les plus fréquents ?"
      ]
    },
    {
      "cell_type": "code",
      "execution_count": 41,
      "metadata": {
        "id": "8OpMDWEBB11w",
        "colab": {
          "base_uri": "https://localhost:8080/"
        },
        "outputId": "ce072b39-3ef9-4cae-e9e2-cb2101c1f216"
      },
      "outputs": [
        {
          "output_type": "stream",
          "name": "stdout",
          "text": [
            "+------------------------------+------+\n",
            "|location_description          |count |\n",
            "+------------------------------+------+\n",
            "|STREET                        |175545|\n",
            "|RESIDENCE                     |111318|\n",
            "|APARTMENT                     |33317 |\n",
            "|SIDEWALK                      |33153 |\n",
            "|OTHER                         |24645 |\n",
            "|PARKING LOT/GARAGE(NON.RESID.)|18938 |\n",
            "|SCHOOL, PUBLIC, BUILDING      |12615 |\n",
            "|ALLEY                         |12081 |\n",
            "|RESIDENCE-GARAGE              |11750 |\n",
            "|RESIDENCE PORCH/HALLWAY       |10383 |\n",
            "+------------------------------+------+\n",
            "only showing top 10 rows\n",
            "\n"
          ]
        }
      ],
      "source": [
        "df.groupBy(['location_description']).count().orderBy('count', ascending=False).show(10, truncate=False)"
      ]
    },
    {
      "cell_type": "markdown",
      "metadata": {
        "id": "Ey4LQDQWB11x"
      },
      "source": [
        "### Crimes \"domestiques\" :\n",
        "\n",
        "En dehors de la localité, le dataset indique aussi s'il s'agit d'une violence domestique (dispute familiale, harcélement, etc.) ou pas.\n",
        "\n",
        "Regardons ces types de violence plus en détails :"
      ]
    },
    {
      "cell_type": "code",
      "source": [
        "domestic_hour = df_hour.groupBy(['domestic', 'hour']).count().orderBy('hour').toPandas()"
      ],
      "metadata": {
        "id": "rtn14ImWNxC9"
      },
      "execution_count": 42,
      "outputs": []
    },
    {
      "cell_type": "code",
      "source": [
        "import matplotlib.pyplot as plt\n",
        "\n",
        "# Filter for domestic cases\n",
        "domestic_cases = df_hour.filter(df_hour['domestic'] == True)\n",
        "\n",
        "# Group by hour and count\n",
        "domestic_cases_by_hour = domestic_cases.groupBy('hour').count().orderBy('hour').toPandas()\n",
        "\n",
        "# Create the bar plot\n",
        "#plt.figure(figsize=(8, 4))\n",
        "domestic_cases_by_hour.plot(kind='bar', x='hour', y='count', ax=plt.gca())\n",
        "plt.xlabel('Hour of the Day')\n",
        "plt.ylabel('Number of Domestic Cases')\n",
        "plt.title('Number of Domestic Cases per Hour')\n",
        "plt.xticks(rotation=45)\n",
        "plt.show()\n"
      ],
      "metadata": {
        "colab": {
          "base_uri": "https://localhost:8080/",
          "height": 573
        },
        "id": "loniimIfPLKH",
        "outputId": "916f0462-9ede-41d6-cccb-76b05f330b6a"
      },
      "execution_count": 43,
      "outputs": [
        {
          "output_type": "display_data",
          "data": {
            "text/plain": [
              "<Figure size 1000x600 with 1 Axes>"
            ],
            "image/png": "[encoded data removed]"
          },
          "metadata": {}
        }
      ]
    },
    {
      "cell_type": "markdown",
      "source": [
        "Il y a une montée des violences domestiques le soir, avec un pic isolé à midi (disputes pendant le repas ?)"
      ],
      "metadata": {
        "id": "5f7-S4h5PjGU"
      }
    },
    {
      "cell_type": "markdown",
      "source": [
        "Et comment ça se situe par rapport aux crimes/violences \"non-domestiques\" ?"
      ],
      "metadata": {
        "id": "ozELYD2UPMKM"
      }
    },
    {
      "cell_type": "code",
      "source": [
        "import matplotlib.pyplot as plt\n",
        "# Create the plot\n",
        "plt.figure(figsize=(10, 4))\n",
        "\n",
        "# Group data by hour and domestic status and sum the counts\n",
        "domestic_counts_grouped = domestic_hour.groupby(['hour', 'domestic'])['count'].sum().unstack()\n",
        "\n",
        "# Plot stacked bar chart\n",
        "domestic_counts_grouped.plot(kind='bar', stacked=True, ax=plt.gca())\n",
        "\n",
        "plt.xlabel('Hour')\n",
        "plt.ylabel('Number of Crimes')\n",
        "plt.title('Hourly Crime Counts by Domestic Status')\n",
        "plt.xticks(rotation=45)\n",
        "plt.legend(title='Domestic', bbox_to_anchor=(1.05, 1), loc='upper left')\n",
        "plt.tight_layout()\n",
        "plt.show()\n"
      ],
      "metadata": {
        "colab": {
          "base_uri": "https://localhost:8080/",
          "height": 407
        },
        "id": "2qDAjdl7OSts",
        "outputId": "51707a8e-5a31-491e-e2fc-4586f74d422a"
      },
      "execution_count": 45,
      "outputs": [
        {
          "output_type": "display_data",
          "data": {
            "text/plain": [
              "<Figure size 1000x400 with 1 Axes>"
            ],
            "image/png": "[encoded data removed]"
          },
          "metadata": {}
        }
      ]
    },
    {
      "cell_type": "markdown",
      "metadata": {
        "id": "hm1PpuWiB11y"
      },
      "source": [
        "### Une analyse par rapport au temps\n",
        "\n",
        "Les données de type heure/date permettent d'obtenir plus d'information sur les types de crime et d'émettre des hypothèses sur leurs sursauts. Par ontre, d'autres facteurs externes comme le changement de garde ou les nouvelles politiques de sécurité peuvent avoir un impact non décrit ici.\n",
        "\n",
        "Néanmoins, si on a une idée de quand et où les crimes sont les plus fréquents, on peut s'aventurer à faire quelques prévisions..."
      ]
    },
    {
      "cell_type": "markdown",
      "metadata": {
        "id": "W8ZdrIGpB11y"
      },
      "source": [
        "On va rajouter quelques champs utiles :\n",
        "\n",
        " * l'heure du jour (déjà présent dans le champ 'hour')\n",
        " * le jour de la semaine (dimanche = 1, ..., samedi = 7)\n",
        " * le mois de l'année\n",
        " * le \"numéro du jour\" dans une séquence 1, 2...(on commence à compter à partir du 2001-01-01)."
      ]
    },
    {
      "cell_type": "code",
      "execution_count": 47,
      "metadata": {
        "id": "79-une_QB11y"
      },
      "outputs": [],
      "source": [
        "from pyspark.sql.functions import dayofweek, month, dayofmonth, datediff, to_date, lit\n",
        "\n",
        "df_dates = df_hour.withColumn('week_day', dayofweek(df_hour['date_time']))\\\n",
        "                 .withColumn('year_month', month(df_hour['date_time']))\\\n",
        "                 .withColumn('month_day', dayofmonth(df_hour['date_time']))\\\n",
        "                 .withColumn('date_number', datediff(df['date_time'], to_date(lit('2001-01-01'), format='yyyy-MM-dd')))\\\n",
        "                 .cache()"
      ]
    },
    {
      "cell_type": "code",
      "execution_count": 48,
      "metadata": {
        "id": "7RKdwEk5B11y",
        "colab": {
          "base_uri": "https://localhost:8080/"
        },
        "outputId": "9893553d-f269-4243-c22f-9682da0750af"
      },
      "outputs": [
        {
          "output_type": "stream",
          "name": "stdout",
          "text": [
            "+----------------------+----------+----+--------+----+----------+---------+-----------+\n",
            "|date                  |month     |hour|week_day|year|year_month|month_day|date_number|\n",
            "+----------------------+----------+----+--------+----+----------+---------+-----------+\n",
            "|01/01/2001 11:00:00 AM|2001-01-01|11  |2       |2001|1         |1        |0          |\n",
            "|01/01/2001 12:00:00 AM|2001-01-01|0   |2       |2001|1         |1        |0          |\n",
            "|01/01/2001 12:00:00 AM|2001-01-01|0   |2       |2001|1         |1        |0          |\n",
            "|06/16/2001 08:00:00 AM|2001-06-01|8   |7       |2001|6         |16       |166        |\n",
            "|06/01/2001 08:00:00 AM|2001-06-01|8   |6       |2001|6         |1        |151        |\n",
            "|07/25/2001 10:00:00 AM|2001-07-01|10  |4       |2001|7         |25       |205        |\n",
            "|06/23/2001 08:00:00 PM|2001-06-01|20  |7       |2001|6         |23       |173        |\n",
            "|01/01/2001 12:00:00 AM|2001-01-01|0   |2       |2001|1         |1        |0          |\n",
            "|05/01/2001 12:01:00 AM|2001-05-01|0   |3       |2001|5         |1        |120        |\n",
            "|10/01/2001 12:01:00 AM|2001-10-01|0   |2       |2001|10        |1        |273        |\n",
            "+----------------------+----------+----+--------+----+----------+---------+-----------+\n",
            "only showing top 10 rows\n",
            "\n"
          ]
        }
      ],
      "source": [
        "df_dates.select(['date', 'month', 'hour', 'week_day', 'year', 'year_month', 'month_day', 'date_number']).show(10, truncate=False)"
      ]
    },
    {
      "cell_type": "markdown",
      "metadata": {
        "id": "NmRBhvqaB11z"
      },
      "source": [
        "## Les crimes par rapport au jour de la semaine\n"
      ]
    },
    {
      "cell_type": "code",
      "execution_count": 49,
      "metadata": {
        "id": "Zl-mAsJWB11z"
      },
      "outputs": [],
      "source": [
        "week_day_crime_counts = df_dates.groupBy('week_day').count()"
      ]
    },
    {
      "cell_type": "code",
      "source": [
        "week_day_crime_counts_pddf = week_day_crime_counts.orderBy('week_day').toPandas()"
      ],
      "metadata": {
        "id": "eQWboGPbQToO"
      },
      "execution_count": 50,
      "outputs": []
    },
    {
      "cell_type": "code",
      "execution_count": 51,
      "metadata": {
        "id": "BIqgh5QZB11z",
        "colab": {
          "base_uri": "https://localhost:8080/",
          "height": 555
        },
        "outputId": "7382c105-3778-477e-f58c-b3d8d210a23d"
      },
      "outputs": [
        {
          "output_type": "execute_result",
          "data": {
            "text/plain": [
              "<Axes: xlabel='week_day'>"
            ]
          },
          "metadata": {},
          "execution_count": 51
        },
        {
          "output_type": "display_data",
          "data": {
            "text/plain": [
              "<Figure size 1000x600 with 1 Axes>"
            ],
            "image/png": "[encoded data removed]"
          },
          "metadata": {}
        }
      ],
      "source": [
        "week_day_crime_counts_pddf.plot(kind='bar', x='week_day', y='count')"
      ]
    },
    {
      "cell_type": "markdown",
      "source": [
        "On voit très peu de variance... D'un autre côté, les criminels restent \"méchants\" tous les jours. Et probablemnt il y a des crimes le dimanche qui ne sont signalés que le lundi !"
      ],
      "metadata": {
        "id": "bmSWboILXkFd"
      }
    },
    {
      "cell_type": "markdown",
      "metadata": {
        "id": "1POAD8TAB11z"
      },
      "source": [
        "## Mois de l'année\n",
        "\n"
      ]
    },
    {
      "cell_type": "code",
      "execution_count": 52,
      "metadata": {
        "id": "Uy7XMSlTB11z"
      },
      "outputs": [],
      "source": [
        "year_month_crime_counts = df_dates.groupBy('year_month').count()"
      ]
    },
    {
      "cell_type": "code",
      "source": [
        "year_month_crime_counts_pddf = year_month_crime_counts.orderBy('year_month').toPandas()"
      ],
      "metadata": {
        "id": "yil8heVQRXk6"
      },
      "execution_count": 53,
      "outputs": []
    },
    {
      "cell_type": "markdown",
      "metadata": {
        "id": "fIdsyEb-B110"
      },
      "source": [
        "Il semble que la période Mai-Août est la plus active pour les criminels. Des idées sur la cause ?\n"
      ]
    },
    {
      "cell_type": "code",
      "execution_count": 54,
      "metadata": {
        "id": "c_GjvI9lB110",
        "colab": {
          "base_uri": "https://localhost:8080/",
          "height": 564
        },
        "outputId": "42a381b2-5674-4be4-dcb1-0d29d241f831"
      },
      "outputs": [
        {
          "output_type": "execute_result",
          "data": {
            "text/plain": [
              "<Axes: xlabel='year_month'>"
            ]
          },
          "metadata": {},
          "execution_count": 54
        },
        {
          "output_type": "display_data",
          "data": {
            "text/plain": [
              "<Figure size 1000x600 with 1 Axes>"
            ],
            "image/png": "[encoded data removed]"
          },
          "metadata": {}
        }
      ],
      "source": [
        "year_month_crime_counts_pddf.plot(y='count', x='year_month', kind='bar')"
      ]
    },
    {
      "cell_type": "markdown",
      "source": [
        "AH, ça c'est intéressant ! On a beaucoup de crimes en janvier et février. Serait-ça lié à la déprim de l'hiver ? Regardons rapidement si ça a un impact sur les violences domestiques."
      ],
      "metadata": {
        "id": "xt5zHkF5SH3p"
      }
    },
    {
      "cell_type": "code",
      "source": [
        "domestic_month = df_dates.groupBy('domestic','year_month').count().orderBy('year_month').toPandas()"
      ],
      "metadata": {
        "id": "iS3NJuJ0StNl"
      },
      "execution_count": 55,
      "outputs": []
    },
    {
      "cell_type": "code",
      "source": [
        "domestic_month = domestic_month[domestic_month['domestic'] == True]"
      ],
      "metadata": {
        "id": "mhYUzcIHTFSo"
      },
      "execution_count": 56,
      "outputs": []
    },
    {
      "cell_type": "code",
      "source": [
        "year_month_crime_counts_pddf['domestic_count']=domestic_month['count']\n",
        "year_month_crime_counts_pddf['domestic_percent'] = domestic_month['count']/year_month_crime_counts_pddf['count']"
      ],
      "metadata": {
        "id": "U26Iz7Okkfhw"
      },
      "execution_count": 75,
      "outputs": []
    },
    {
      "cell_type": "code",
      "source": [
        "year_month_crime_counts_pddf.plot(x='year_month', y='domestic_percent', kind='bar', color='orange')"
      ],
      "metadata": {
        "colab": {
          "base_uri": "https://localhost:8080/",
          "height": 564
        },
        "id": "ixpsd_6OT1rR",
        "outputId": "cdc3bf25-4860-4259-db42-7264b069ca73"
      },
      "execution_count": 77,
      "outputs": [
        {
          "output_type": "execute_result",
          "data": {
            "text/plain": [
              "<Axes: xlabel='year_month'>"
            ]
          },
          "metadata": {},
          "execution_count": 77
        },
        {
          "output_type": "display_data",
          "data": {
            "text/plain": [
              "<Figure size 1000x600 with 1 Axes>"
            ],
            "image/png": "[encoded data removed]"
          },
          "metadata": {}
        }
      ]
    },
    {
      "cell_type": "markdown",
      "source": [
        "Bien que les mois d'hiver présentent un taux élevé de violences domestiques, le \"blues de l'hiver\" ne semble pas avoir une influence si grande que ça. 😯"
      ],
      "metadata": {
        "id": "Ecx7H6BhlSkU"
      }
    },
    {
      "cell_type": "markdown",
      "metadata": {
        "id": "uB_Qsm4qB118"
      },
      "source": [
        "---\n",
        "\n",
        "\n",
        "# Pouvons-nous prédire la catégorie de crime (`primary_type`) à partir de quelques caractéristiques (domestique, avec violence), l'endroit (district, community_area), etc. ?\n",
        "\n",
        "Afin de le faire, on va nettoyer un peu plus le dataset.\n",
        "\n",
        "Tout d'abord, essayons de supprimer quelques colonnes qui ne sont pas intéressantes ou qui risquent d'influencer trop le dataset :\n",
        "\n",
        " * 'id'\n",
        " * 'case_number'\n",
        " * 'date' - déjà présent dans les autres données de date/heure\n",
        " * 'block' - trop précis, peut ajouter du \"bruit\"\n",
        " * 'iucr' - c'est juste un code pour le type de crime\n",
        " * 'x_coordinate' - trop précis, peut ajouter du \"bruit\"\n",
        " * 'y_coordinate' - trop précis, peut ajouter du \"bruit\"\n",
        " * 'year' - déjà présent dans les autres données de date/heure\n",
        " * 'updated_on' - pas utile\n",
        " * 'latitude' - trop précis, peut ajouter du \"bruit\"\n",
        " * 'longitude' - trop précis, peut ajouter du \"bruit\"\n",
        " * 'location' - non inclus\n",
        " * 'date_time' - trop précis, peut ajouter du \"bruit\"\n",
        " * 'description' - Supprimé. On trouvera l'équivalent dans `primary type`, qui est **notre objectif**\n",
        "\n",
        " On pourrait faire ça avec des `drop()`, mais faisons différemment : avec Spark nous avons la fonction `select()`, donc essayons de passer plutôt la liste de features qu'on veut garder :\n",
        "\n",
        " * 'location_description'\n",
        " * 'arrest'\n",
        " * 'domestic'\n",
        " * 'beat'\n",
        " * 'district'\n",
        " * 'ward'\n",
        " * 'community_area'\n",
        " * 'fbi_code'\n",
        " * 'hour'\n",
        " * 'week_day'\n",
        " * 'year_month'\n",
        " * 'month_day'\n",
        " * 'date_number'\n",
        " * 'primary_type'\n"
      ]
    },
    {
      "cell_type": "code",
      "execution_count": 115,
      "metadata": {
        "id": "k7PAhZerB118"
      },
      "outputs": [],
      "source": [
        "selected_features = [\n",
        " 'location_description',\n",
        " 'arrest',\n",
        " 'domestic',\n",
        " 'beat',\n",
        " 'district',\n",
        " 'ward',\n",
        " 'community_area',\n",
        " 'fbi_code',\n",
        " 'hour',\n",
        " 'week_day',\n",
        " 'year_month',\n",
        " 'month_day',\n",
        " 'date_number',\n",
        " 'primary_type']"
      ]
    },
    {
      "cell_type": "code",
      "execution_count": 116,
      "metadata": {
        "id": "aoeTVTzFB118"
      },
      "outputs": [],
      "source": [
        "features_df = df_dates.select(selected_features)"
      ]
    },
    {
      "cell_type": "markdown",
      "source": [
        "Nous allons aussi identifier les types \"uniques\" pour les différents types de features (quels types de \"location_description\", quels types de \"arrest\"...). Ça sera utile pour la conversion des données catégoriques."
      ],
      "metadata": {
        "id": "Z4EL07LymN9z"
      }
    },
    {
      "cell_type": "code",
      "execution_count": 117,
      "metadata": {
        "id": "rAaaC4YIB118",
        "colab": {
          "base_uri": "https://localhost:8080/"
        },
        "outputId": "94ed43de-cbee-4fb8-a5fc-da41d948d182"
      },
      "outputs": [
        {
          "output_type": "stream",
          "name": "stdout",
          "text": [
            "Analysing location_description\n",
            "Analysing arrest\n",
            "Analysing domestic\n",
            "Analysing beat\n",
            "Analysing district\n",
            "Analysing ward\n",
            "Analysing community_area\n",
            "Analysing fbi_code\n",
            "Analysing hour\n",
            "Analysing week_day\n",
            "Analysing year_month\n",
            "Analysing month_day\n",
            "Analysing date_number\n",
            "Analysing primary_type\n"
          ]
        }
      ],
      "source": [
        "feature_level_count_dic = []\n",
        "\n",
        "for feature in selected_features:\n",
        "    print('Analysing %s' % feature)\n",
        "    levels_list_df = features_df.select(feature).distinct()\n",
        "    feature_level_count_dic.append({'feature': feature, 'level_count': levels_list_df.count()})\n"
      ]
    },
    {
      "cell_type": "code",
      "execution_count": 118,
      "metadata": {
        "id": "7rSiIDjeB119",
        "colab": {
          "base_uri": "https://localhost:8080/",
          "height": 488
        },
        "outputId": "9f9d2fa2-9c3a-4660-fde7-a041ff938c41"
      },
      "outputs": [
        {
          "output_type": "execute_result",
          "data": {
            "text/plain": [
              "                 feature  level_count\n",
              "12           date_number          365\n",
              "3                   beat          286\n",
              "0   location_description          114\n",
              "6         community_area           78\n",
              "5                   ward           51\n",
              "11             month_day           31\n",
              "13          primary_type           30\n",
              "7               fbi_code           25\n",
              "8                   hour           24\n",
              "4               district           22\n",
              "10            year_month           12\n",
              "9               week_day            7\n",
              "1                 arrest            2\n",
              "2               domestic            2"
            ],
            "text/html": [
              "\n",
              "  <div id=\"df-2b8bafa5-2a07-49c2-ac44-befb60cbbd06\" class=\"colab-df-container\">\n",
              "    <div>\n",
              "<style scoped>\n",
              "    .dataframe tbody tr th:only-of-type {\n",
              "        vertical-align: middle;\n",
              "    }\n",
              "\n",
              "    .dataframe tbody tr th {\n",
              "        vertical-align: top;\n",
              "    }\n",
              "\n",
              "    .dataframe thead th {\n",
              "        text-align: right;\n",
              "    }\n",
              "</style>\n",
              "<table border=\"1\" class=\"dataframe\">\n",
              "  <thead>\n",
              "    <tr style=\"text-align: right;\">\n",
              "      <th></th>\n",
              "      <th>feature</th>\n",
              "      <th>level_count</th>\n",
              "    </tr>\n",
              "  </thead>\n",
              "  <tbody>\n",
              "    <tr>\n",
              "      <th>12</th>\n",
              "      <td>date_number</td>\n",
              "      <td>365</td>\n",
              "    </tr>\n",
              "    <tr>\n",
              "      <th>3</th>\n",
              "      <td>beat</td>\n",
              "      <td>286</td>\n",
              "    </tr>\n",
              "    <tr>\n",
              "      <th>0</th>\n",
              "      <td>location_description</td>\n",
              "      <td>114</td>\n",
              "    </tr>\n",
              "    <tr>\n",
              "      <th>6</th>\n",
              "      <td>community_area</td>\n",
              "      <td>78</td>\n",
              "    </tr>\n",
              "    <tr>\n",
              "      <th>5</th>\n",
              "      <td>ward</td>\n",
              "      <td>51</td>\n",
              "    </tr>\n",
              "    <tr>\n",
              "      <th>11</th>\n",
              "      <td>month_day</td>\n",
              "      <td>31</td>\n",
              "    </tr>\n",
              "    <tr>\n",
              "      <th>13</th>\n",
              "      <td>primary_type</td>\n",
              "      <td>30</td>\n",
              "    </tr>\n",
              "    <tr>\n",
              "      <th>7</th>\n",
              "      <td>fbi_code</td>\n",
              "      <td>25</td>\n",
              "    </tr>\n",
              "    <tr>\n",
              "      <th>8</th>\n",
              "      <td>hour</td>\n",
              "      <td>24</td>\n",
              "    </tr>\n",
              "    <tr>\n",
              "      <th>4</th>\n",
              "      <td>district</td>\n",
              "      <td>22</td>\n",
              "    </tr>\n",
              "    <tr>\n",
              "      <th>10</th>\n",
              "      <td>year_month</td>\n",
              "      <td>12</td>\n",
              "    </tr>\n",
              "    <tr>\n",
              "      <th>9</th>\n",
              "      <td>week_day</td>\n",
              "      <td>7</td>\n",
              "    </tr>\n",
              "    <tr>\n",
              "      <th>1</th>\n",
              "      <td>arrest</td>\n",
              "      <td>2</td>\n",
              "    </tr>\n",
              "    <tr>\n",
              "      <th>2</th>\n",
              "      <td>domestic</td>\n",
              "      <td>2</td>\n",
              "    </tr>\n",
              "  </tbody>\n",
              "</table>\n",
              "</div>\n",
              "    <div class=\"colab-df-buttons\">\n",
              "\n",
              "  <div class=\"colab-df-container\">\n",
              "    <button class=\"colab-df-convert\" onclick=\"convertToInteractive('df-2b8bafa5-2a07-49c2-ac44-befb60cbbd06')\"\n",
              "            title=\"Convert this dataframe to an interactive table.\"\n",
              "            style=\"display:none;\">\n",
              "\n",
              "  <svg xmlns=\"http://www.w3.org/2000/svg\" height=\"24px\" viewBox=\"0 -960 960 960\">\n",
              "    <path d=\"M120-120v-720h720v720H120Zm60-500h600v-160H180v160Zm220 220h160v-160H400v160Zm0 220h160v-160H400v160ZM180-400h160v-160H180v160Zm440 0h160v-160H620v160ZM180-180h160v-160H180v160Zm440 0h160v-160H620v160Z\"/>\n",
              "  </svg>\n",
              "    </button>\n",
              "\n",
              "  <style>\n",
              "    .colab-df-container {\n",
              "      display:flex;\n",
              "      gap: 12px;\n",
              "    }\n",
              "\n",
              "    .colab-df-convert {\n",
              "      background-color: #E8F0FE;\n",
              "      border: none;\n",
              "      border-radius: 50%;\n",
              "      cursor: pointer;\n",
              "      display: none;\n",
              "      fill: #1967D2;\n",
              "      height: 32px;\n",
              "      padding: 0 0 0 0;\n",
              "      width: 32px;\n",
              "    }\n",
              "\n",
              "    .colab-df-convert:hover {\n",
              "      background-color: #E2EBFA;\n",
              "      box-shadow: 0px 1px 2px rgba(60, 64, 67, 0.3), 0px 1px 3px 1px rgba(60, 64, 67, 0.15);\n",
              "      fill: #174EA6;\n",
              "    }\n",
              "\n",
              "    .colab-df-buttons div {\n",
              "      margin-bottom: 4px;\n",
              "    }\n",
              "\n",
              "    [theme=dark] .colab-df-convert {\n",
              "      background-color: #3B4455;\n",
              "      fill: #D2E3FC;\n",
              "    }\n",
              "\n",
              "    [theme=dark] .colab-df-convert:hover {\n",
              "      background-color: #434B5C;\n",
              "      box-shadow: 0px 1px 3px 1px rgba(0, 0, 0, 0.15);\n",
              "      filter: drop-shadow(0px 1px 2px rgba(0, 0, 0, 0.3));\n",
              "      fill: #FFFFFF;\n",
              "    }\n",
              "  </style>\n",
              "\n",
              "    <script>\n",
              "      const buttonEl =\n",
              "        document.querySelector('#df-2b8bafa5-2a07-49c2-ac44-befb60cbbd06 button.colab-df-convert');\n",
              "      buttonEl.style.display =\n",
              "        google.colab.kernel.accessAllowed ? 'block' : 'none';\n",
              "\n",
              "      async function convertToInteractive(key) {\n",
              "        const element = document.querySelector('#df-2b8bafa5-2a07-49c2-ac44-befb60cbbd06');\n",
              "        const dataTable =\n",
              "          await google.colab.kernel.invokeFunction('convertToInteractive',\n",
              "                                                    [key], {});\n",
              "        if (!dataTable) return;\n",
              "\n",
              "        const docLinkHtml = 'Like what you see? Visit the ' +\n",
              "          '<a target=\"_blank\" href=https://colab.research.google.com/notebooks/data_table.ipynb>data table notebook</a>'\n",
              "          + ' to learn more about interactive tables.';\n",
              "        element.innerHTML = '';\n",
              "        dataTable['output_type'] = 'display_data';\n",
              "        await google.colab.output.renderOutput(dataTable, element);\n",
              "        const docLink = document.createElement('div');\n",
              "        docLink.innerHTML = docLinkHtml;\n",
              "        element.appendChild(docLink);\n",
              "      }\n",
              "    </script>\n",
              "  </div>\n",
              "\n",
              "\n",
              "<div id=\"df-1fb7a58b-bfa3-4bf5-ae25-30d39b85a5d4\">\n",
              "  <button class=\"colab-df-quickchart\" onclick=\"quickchart('df-1fb7a58b-bfa3-4bf5-ae25-30d39b85a5d4')\"\n",
              "            title=\"Suggest charts\"\n",
              "            style=\"display:none;\">\n",
              "\n",
              "<svg xmlns=\"http://www.w3.org/2000/svg\" height=\"24px\"viewBox=\"0 0 24 24\"\n",
              "     width=\"24px\">\n",
              "    <g>\n",
              "        <path d=\"M19 3H5c-1.1 0-2 .9-2 2v14c0 1.1.9 2 2 2h14c1.1 0 2-.9 2-2V5c0-1.1-.9-2-2-2zM9 17H7v-7h2v7zm4 0h-2V7h2v10zm4 0h-2v-4h2v4z\"/>\n",
              "    </g>\n",
              "</svg>\n",
              "  </button>\n",
              "\n",
              "<style>\n",
              "  .colab-df-quickchart {\n",
              "      --bg-color: #E8F0FE;\n",
              "      --fill-color: #1967D2;\n",
              "      --hover-bg-color: #E2EBFA;\n",
              "      --hover-fill-color: #174EA6;\n",
              "      --disabled-fill-color: #AAA;\n",
              "      --disabled-bg-color: #DDD;\n",
              "  }\n",
              "\n",
              "  [theme=dark] .colab-df-quickchart {\n",
              "      --bg-color: #3B4455;\n",
              "      --fill-color: #D2E3FC;\n",
              "      --hover-bg-color: #434B5C;\n",
              "      --hover-fill-color: #FFFFFF;\n",
              "      --disabled-bg-color: #3B4455;\n",
              "      --disabled-fill-color: #666;\n",
              "  }\n",
              "\n",
              "  .colab-df-quickchart {\n",
              "    background-color: var(--bg-color);\n",
              "    border: none;\n",
              "    border-radius: 50%;\n",
              "    cursor: pointer;\n",
              "    display: none;\n",
              "    fill: var(--fill-color);\n",
              "    height: 32px;\n",
              "    padding: 0;\n",
              "    width: 32px;\n",
              "  }\n",
              "\n",
              "  .colab-df-quickchart:hover {\n",
              "    background-color: var(--hover-bg-color);\n",
              "    box-shadow: 0 1px 2px rgba(60, 64, 67, 0.3), 0 1px 3px 1px rgba(60, 64, 67, 0.15);\n",
              "    fill: var(--button-hover-fill-color);\n",
              "  }\n",
              "\n",
              "  .colab-df-quickchart-complete:disabled,\n",
              "  .colab-df-quickchart-complete:disabled:hover {\n",
              "    background-color: var(--disabled-bg-color);\n",
              "    fill: var(--disabled-fill-color);\n",
              "    box-shadow: none;\n",
              "  }\n",
              "\n",
              "  .colab-df-spinner {\n",
              "    border: 2px solid var(--fill-color);\n",
              "    border-color: transparent;\n",
              "    border-bottom-color: var(--fill-color);\n",
              "    animation:\n",
              "      spin 1s steps(1) infinite;\n",
              "  }\n",
              "\n",
              "  @keyframes spin {\n",
              "    0% {\n",
              "      border-color: transparent;\n",
              "      border-bottom-color: var(--fill-color);\n",
              "      border-left-color: var(--fill-color);\n",
              "    }\n",
              "    20% {\n",
              "      border-color: transparent;\n",
              "      border-left-color: var(--fill-color);\n",
              "      border-top-color: var(--fill-color);\n",
              "    }\n",
              "    30% {\n",
              "      border-color: transparent;\n",
              "      border-left-color: var(--fill-color);\n",
              "      border-top-color: var(--fill-color);\n",
              "      border-right-color: var(--fill-color);\n",
              "    }\n",
              "    40% {\n",
              "      border-color: transparent;\n",
              "      border-right-color: var(--fill-color);\n",
              "      border-top-color: var(--fill-color);\n",
              "    }\n",
              "    60% {\n",
              "      border-color: transparent;\n",
              "      border-right-color: var(--fill-color);\n",
              "    }\n",
              "    80% {\n",
              "      border-color: transparent;\n",
              "      border-right-color: var(--fill-color);\n",
              "      border-bottom-color: var(--fill-color);\n",
              "    }\n",
              "    90% {\n",
              "      border-color: transparent;\n",
              "      border-bottom-color: var(--fill-color);\n",
              "    }\n",
              "  }\n",
              "</style>\n",
              "\n",
              "  <script>\n",
              "    async function quickchart(key) {\n",
              "      const quickchartButtonEl =\n",
              "        document.querySelector('#' + key + ' button');\n",
              "      quickchartButtonEl.disabled = true;  // To prevent multiple clicks.\n",
              "      quickchartButtonEl.classList.add('colab-df-spinner');\n",
              "      try {\n",
              "        const charts = await google.colab.kernel.invokeFunction(\n",
              "            'suggestCharts', [key], {});\n",
              "      } catch (error) {\n",
              "        console.error('Error during call to suggestCharts:', error);\n",
              "      }\n",
              "      quickchartButtonEl.classList.remove('colab-df-spinner');\n",
              "      quickchartButtonEl.classList.add('colab-df-quickchart-complete');\n",
              "    }\n",
              "    (() => {\n",
              "      let quickchartButtonEl =\n",
              "        document.querySelector('#df-1fb7a58b-bfa3-4bf5-ae25-30d39b85a5d4 button');\n",
              "      quickchartButtonEl.style.display =\n",
              "        google.colab.kernel.accessAllowed ? 'block' : 'none';\n",
              "    })();\n",
              "  </script>\n",
              "</div>\n",
              "\n",
              "    </div>\n",
              "  </div>\n"
            ],
            "application/vnd.google.colaboratory.intrinsic+json": {
              "type": "dataframe",
              "summary": "{\n  \"name\": \"pnd\",\n  \"rows\": 14,\n  \"fields\": [\n    {\n      \"column\": \"feature\",\n      \"properties\": {\n        \"dtype\": \"string\",\n        \"num_unique_values\": 14,\n        \"samples\": [\n          \"district\",\n          \"week_day\",\n          \"date_number\"\n        ],\n        \"semantic_type\": \"\",\n        \"description\": \"\"\n      }\n    },\n    {\n      \"column\": \"level_count\",\n      \"properties\": {\n        \"dtype\": \"number\",\n        \"std\": 111,\n        \"min\": 2,\n        \"max\": 365,\n        \"num_unique_values\": 13,\n        \"samples\": [\n          7,\n          22,\n          365\n        ],\n        \"semantic_type\": \"\",\n        \"description\": \"\"\n      }\n    }\n  ]\n}"
            }
          },
          "metadata": {},
          "execution_count": 118
        }
      ],
      "source": [
        "pnd.DataFrame(feature_level_count_dic).sort_values(by='level_count', ascending=False)"
      ]
    },
    {
      "cell_type": "markdown",
      "metadata": {
        "id": "RtCp6KhLB119"
      },
      "source": [
        "### Preparer le modèle"
      ]
    },
    {
      "cell_type": "markdown",
      "source": [
        "On fait un premier passage pour supprimer les \"cases vides\" :"
      ],
      "metadata": {
        "id": "oAwyH7Uyq69B"
      }
    },
    {
      "cell_type": "code",
      "source": [
        "df_dates_features = features_df.dropna(subset=selected_features)"
      ],
      "metadata": {
        "id": "IF-tR7RZq-Mc"
      },
      "execution_count": 119,
      "outputs": []
    },
    {
      "cell_type": "code",
      "source": [
        "df_dates_features.show(5)"
      ],
      "metadata": {
        "id": "SvGMBYRonDpt",
        "outputId": "2d22f404-8f26-4479-946d-3a749a231795",
        "colab": {
          "base_uri": "https://localhost:8080/"
        }
      },
      "execution_count": 120,
      "outputs": [
        {
          "output_type": "stream",
          "name": "stdout",
          "text": [
            "+--------------------+------+--------+----+--------+----+--------------+--------+----+--------+----------+---------+-----------+--------------------+\n",
            "|location_description|arrest|domestic|beat|district|ward|community_area|fbi_code|hour|week_day|year_month|month_day|date_number|        primary_type|\n",
            "+--------------------+------+--------+----+--------+----+--------------+--------+----+--------+----------+---------+-----------+--------------------+\n",
            "|           RESIDENCE|  true|    true| 531|     5.0| 9.0|          50.0|      02|  11|       2|         1|        1|          0| CRIM SEXUAL ASSAULT|\n",
            "|           RESIDENCE|  true|   false| 813|     8.0|13.0|          62.0|      02|   0|       2|         1|        1|          0|OFFENSE INVOLVING...|\n",
            "|               OTHER| false|   false| 913|     9.0|12.0|          59.0|      06|   0|       2|         1|        1|          0|               THEFT|\n",
            "|           RESIDENCE|  true|   false| 726|     7.0|15.0|          67.0|      02|   8|       7|         6|       16|        166|OFFENSE INVOLVING...|\n",
            "|           RESIDENCE| false|   false|1524|    15.0|37.0|          25.0|      17|   8|       6|         6|        1|        151|         SEX OFFENSE|\n",
            "+--------------------+------+--------+----+--------+----+--------------+--------+----+--------+----------+---------+-----------+--------------------+\n",
            "only showing top 5 rows\n",
            "\n"
          ]
        }
      ]
    },
    {
      "cell_type": "code",
      "source": [
        "df_dates_features.printSchema()"
      ],
      "metadata": {
        "id": "8noZltbOu8Th",
        "outputId": "943d0618-fc6d-497b-8f1d-914866971039",
        "colab": {
          "base_uri": "https://localhost:8080/"
        }
      },
      "execution_count": 121,
      "outputs": [
        {
          "output_type": "stream",
          "name": "stdout",
          "text": [
            "root\n",
            " |-- location_description: string (nullable = true)\n",
            " |-- arrest: boolean (nullable = true)\n",
            " |-- domestic: boolean (nullable = true)\n",
            " |-- beat: integer (nullable = true)\n",
            " |-- district: double (nullable = true)\n",
            " |-- ward: double (nullable = true)\n",
            " |-- community_area: double (nullable = true)\n",
            " |-- fbi_code: string (nullable = true)\n",
            " |-- hour: integer (nullable = true)\n",
            " |-- week_day: integer (nullable = true)\n",
            " |-- year_month: integer (nullable = true)\n",
            " |-- month_day: integer (nullable = true)\n",
            " |-- date_number: integer (nullable = true)\n",
            " |-- primary_type: string (nullable = true)\n",
            "\n"
          ]
        }
      ]
    },
    {
      "cell_type": "markdown",
      "source": [
        "Les features retenues sont des **catégories**, donc nous devons passer par un encodeur pour les transformer en valeurs numériques.\n",
        "\n",
        "Sur ScikitLearn on pourrait utiliser `OrdinalEncoder`ou `OneHotEncoder`, mais ça risque de ne pas fonctionner si on a beaucoup de données.\n",
        "\n",
        "Spark offre ses propres versions d'encodeurs. Ici, nous voulons utiliser `StringIndexer`, un encodeur qui fonctionne comme OrdinalEncoder de sklearn."
      ],
      "metadata": {
        "id": "h_pmxPb3p6nA"
      }
    },
    {
      "cell_type": "markdown",
      "source": [
        "Attention : StringIndexer ne reconnaît que les colonnes de format String (🙃). Il faudra transformer les colonnes *arrest* et *domestic* en string, car pour le moment elles sont de type booléen !"
      ],
      "metadata": {
        "id": "YNt6y-oIuiUe"
      }
    },
    {
      "cell_type": "code",
      "source": [
        "df_dates_features = df_dates_features.withColumn('arrest', df_dates_features['arrest'].cast('string'))\n",
        "df_dates_features = df_dates_features.withColumn('domestic', df_dates_features['domestic'].cast('string'))"
      ],
      "metadata": {
        "id": "HKTnduYpvIbk"
      },
      "execution_count": 122,
      "outputs": []
    },
    {
      "cell_type": "markdown",
      "metadata": {
        "id": "IzcDGH9xB119"
      },
      "source": [
        "Là ça doit être bon !\n",
        "\n",
        "Utilisons le string indexer de Spark pour transformer les catégories des features séléctionnées."
      ]
    },
    {
      "cell_type": "code",
      "execution_count": 124,
      "metadata": {
        "id": "BzIUmUKVB119"
      },
      "outputs": [],
      "source": [
        "from pyspark.ml.feature import StringIndexer, VectorAssembler\n"
      ]
    },
    {
      "cell_type": "code",
      "execution_count": 125,
      "metadata": {
        "id": "uv1HInedB119",
        "colab": {
          "base_uri": "https://localhost:8080/"
        },
        "outputId": "98b76f5f-e17e-4e64-c9b6-ad5a4d29173f"
      },
      "outputs": [
        {
          "output_type": "stream",
          "name": "stdout",
          "text": [
            "Fitting feature \"location_description\"\n",
            "Transforming \"location_description\"\n",
            "Fitting feature \"arrest\"\n",
            "Transforming \"arrest\"\n",
            "Fitting feature \"domestic\"\n",
            "Transforming \"domestic\"\n",
            "Fitting feature \"beat\"\n",
            "Transforming \"beat\"\n",
            "Fitting feature \"district\"\n",
            "Transforming \"district\"\n",
            "Fitting feature \"ward\"\n",
            "Transforming \"ward\"\n",
            "Fitting feature \"community_area\"\n",
            "Transforming \"community_area\"\n",
            "Fitting feature \"fbi_code\"\n",
            "Transforming \"fbi_code\"\n",
            "Fitting feature \"hour\"\n",
            "Transforming \"hour\"\n",
            "Fitting feature \"week_day\"\n",
            "Transforming \"week_day\"\n",
            "Fitting feature \"year_month\"\n",
            "Transforming \"year_month\"\n",
            "Fitting feature \"month_day\"\n",
            "Transforming \"month_day\"\n",
            "Fitting feature \"date_number\"\n",
            "Transforming \"date_number\"\n",
            "Fitting feature \"primary_type\"\n",
            "Transforming \"primary_type\"\n"
          ]
        }
      ],
      "source": [
        "for feature in feature_level_count_dic:\n",
        "    indexer = StringIndexer(inputCol=feature['feature'], outputCol='%s_indexed' % feature['feature'])\n",
        "    print('Fitting feature \"%s\"' % feature['feature'])\n",
        "    model = indexer.fit(df_dates_features)\n",
        "    print('Transforming \"%s\"' % feature['feature'])\n",
        "    df_dates_features = model.transform(df_dates_features)"
      ]
    },
    {
      "cell_type": "markdown",
      "source": [
        "Comme on peut voir, on vient de créer plusieurs colonnes suppélentaires (suffixe _indexed) qui contiennent des valeurs numériques."
      ],
      "metadata": {
        "id": "eFBEmO6kwSrA"
      }
    },
    {
      "cell_type": "code",
      "source": [
        "df_dates_features.show(5)"
      ],
      "metadata": {
        "id": "AX0EoVZxwA9S",
        "outputId": "14bd17cc-b691-49c2-aa9a-f0519c46f3f4",
        "colab": {
          "base_uri": "https://localhost:8080/"
        }
      },
      "execution_count": 126,
      "outputs": [
        {
          "output_type": "stream",
          "name": "stdout",
          "text": [
            "+--------------------+------+--------+----+--------+----+--------------+--------+----+--------+----------+---------+-----------+--------------------+----------------------------+--------------+----------------+------------+----------------+------------+----------------------+----------------+------------+----------------+------------------+-----------------+-------------------+--------------------+\n",
            "|location_description|arrest|domestic|beat|district|ward|community_area|fbi_code|hour|week_day|year_month|month_day|date_number|        primary_type|location_description_indexed|arrest_indexed|domestic_indexed|beat_indexed|district_indexed|ward_indexed|community_area_indexed|fbi_code_indexed|hour_indexed|week_day_indexed|year_month_indexed|month_day_indexed|date_number_indexed|primary_type_indexed|\n",
            "+--------------------+------+--------+----+--------+----+--------------+--------+----+--------+----------+---------+-----------+--------------------+----------------------------+--------------+----------------+------------+----------------+------------+----------------------+----------------+------------+----------------+------------------+-----------------+-------------------+--------------------+\n",
            "|           RESIDENCE|  true|    true| 531|     5.0| 9.0|          50.0|      02|  11|       2|         1|        1|          0| CRIM SEXUAL ASSAULT|                         0.0|           1.0|             1.0|       123.0|            13.0|        14.0|                  57.0|             3.0|        17.0|             0.0|               0.0|              0.0|                0.0|                 7.0|\n",
            "|           RESIDENCE|  true|   false| 813|     8.0|13.0|          62.0|      02|   0|       2|         1|        1|          0|OFFENSE INVOLVING...|                         0.0|           1.0|             0.0|        44.0|             2.0|        36.0|                  66.0|             3.0|         0.0|             0.0|               0.0|              0.0|                0.0|                 4.0|\n",
            "|               OTHER| false|   false| 913|     9.0|12.0|          59.0|      06|   0|       2|         1|        1|          0|               THEFT|                         3.0|           0.0|             0.0|        84.0|             7.0|        30.0|                  58.0|             0.0|         0.0|             0.0|               0.0|              0.0|                0.0|                 0.0|\n",
            "|           RESIDENCE|  true|   false| 726|     7.0|15.0|          67.0|      02|   8|       7|         6|       16|        166|OFFENSE INVOLVING...|                         0.0|           1.0|             0.0|       244.0|             5.0|        20.0|                  15.0|             3.0|         3.0|             1.0|               5.0|             22.0|              144.0|                 4.0|\n",
            "|           RESIDENCE| false|   false|1524|    15.0|37.0|          25.0|      17|   8|       6|         6|        1|        151|         SEX OFFENSE|                         0.0|           0.0|             0.0|        56.0|             9.0|         3.0|                   0.0|             5.0|         3.0|             3.0|               5.0|              0.0|                2.0|                 5.0|\n",
            "+--------------------+------+--------+----+--------+----+--------------+--------+----+--------+----------+---------+-----------+--------------------+----------------------------+--------------+----------------+------------+----------------+------------+----------------------+----------------+------------+----------------+------------------+-----------------+-------------------+--------------------+\n",
            "only showing top 5 rows\n",
            "\n"
          ]
        }
      ]
    },
    {
      "cell_type": "markdown",
      "metadata": {
        "id": "pTTRMWzvB11-"
      },
      "source": [
        "\n",
        "Maintenant, on va vectoriser les éléments pour les avoir dans une colonne `features`. En effet, Spark n'utilise pas des Dataframe directement mais a besoin qu'on transforme les données en vecteurs."
      ]
    },
    {
      "cell_type": "code",
      "execution_count": 127,
      "metadata": {
        "id": "yQlyvrqDB11-",
        "colab": {
          "base_uri": "https://localhost:8080/"
        },
        "outputId": "a149e4fc-9475-4a34-8e56-7472660451ca"
      },
      "outputs": [
        {
          "output_type": "execute_result",
          "data": {
            "text/plain": [
              "['location_description_indexed',\n",
              " 'arrest_indexed',\n",
              " 'domestic_indexed',\n",
              " 'beat_indexed',\n",
              " 'district_indexed',\n",
              " 'ward_indexed',\n",
              " 'community_area_indexed',\n",
              " 'fbi_code_indexed',\n",
              " 'hour_indexed',\n",
              " 'week_day_indexed',\n",
              " 'year_month_indexed',\n",
              " 'month_day_indexed',\n",
              " 'date_number_indexed',\n",
              " 'primary_type_indexed']"
            ]
          },
          "metadata": {},
          "execution_count": 127
        }
      ],
      "source": [
        "indexed_features = ['%s_indexed' % fc['feature'] for fc in feature_level_count_dic]\n",
        "indexed_features"
      ]
    },
    {
      "cell_type": "code",
      "execution_count": 128,
      "metadata": {
        "id": "hd7cHSaDB11-"
      },
      "outputs": [],
      "source": [
        "assembler = VectorAssembler(inputCols=indexed_features, outputCol='features')\n",
        "vectorized_df_dates = assembler.transform(df_dates_features)"
      ]
    },
    {
      "cell_type": "code",
      "execution_count": 129,
      "metadata": {
        "id": "8rjBaOvIB11-",
        "colab": {
          "base_uri": "https://localhost:8080/"
        },
        "outputId": "6354a46a-6bb5-41bc-fdcf-854094258616"
      },
      "outputs": [
        {
          "output_type": "execute_result",
          "data": {
            "text/plain": [
              "[Row(features=DenseVector([0.0, 1.0, 1.0, 123.0, 13.0, 14.0, 57.0, 3.0, 17.0, 0.0, 0.0, 0.0, 0.0, 7.0]))]"
            ]
          },
          "metadata": {},
          "execution_count": 129
        }
      ],
      "source": [
        "vectorized_df_dates.select('features').take(1)"
      ]
    },
    {
      "cell_type": "markdown",
      "metadata": {
        "id": "_VhRLNToB11_"
      },
      "source": [
        "### Et entraîner le modèle.\n",
        "\n",
        "Utiliser une répartition **60%**/**40%** entre les données train et test.\n",
        "\n",
        "Pour commencer, utilisons une régression logistique.\n",
        "On peut voir l'ensemble de méthodes supportées par [Spark ici.](https://spark.apache.org/docs/latest/ml-classification-regression.html)"
      ]
    },
    {
      "cell_type": "code",
      "execution_count": 131,
      "metadata": {
        "id": "V5o3nfGoB11_"
      },
      "outputs": [],
      "source": [
        "train, test = vectorized_df_dates.randomSplit([0.6, 0.4])"
      ]
    },
    {
      "cell_type": "code",
      "execution_count": 132,
      "metadata": {
        "id": "MAiOrrAxB11_"
      },
      "outputs": [],
      "source": [
        "from pyspark.ml.classification import LogisticRegression"
      ]
    },
    {
      "cell_type": "code",
      "execution_count": 133,
      "metadata": {
        "id": "mN_6tIczB12D"
      },
      "outputs": [],
      "source": [
        "logisticRegression = LogisticRegression(labelCol='primary_type_indexed', featuresCol='features', maxIter=10, family='multinomial')"
      ]
    },
    {
      "cell_type": "code",
      "execution_count": 134,
      "metadata": {
        "id": "r1POpewVB12D"
      },
      "outputs": [],
      "source": [
        "fittedModel = logisticRegression.fit(train)"
      ]
    },
    {
      "cell_type": "markdown",
      "metadata": {
        "id": "61Bp4ZAPB12D"
      },
      "source": [
        "## Quelle est la performance du modèle ?"
      ]
    },
    {
      "cell_type": "code",
      "execution_count": 135,
      "metadata": {
        "colab": {
          "base_uri": "https://localhost:8080/"
        },
        "id": "EUk1afIxB12D",
        "outputId": "56ab09c7-d669-4bec-c8e3-cb0687baca00"
      },
      "outputs": [
        {
          "output_type": "execute_result",
          "data": {
            "text/plain": [
              "0.8629543181060353"
            ]
          },
          "metadata": {},
          "execution_count": 135
        }
      ],
      "source": [
        "fittedModel.summary.accuracy"
      ]
    },
    {
      "cell_type": "markdown",
      "metadata": {
        "id": "hqVSfg5AB12I"
      },
      "source": [
        "#### Est-ce que ça semble un bon modèle pour prédire les crimes ?"
      ]
    },
    {
      "cell_type": "markdown",
      "metadata": {
        "id": "zia6icgeB12I"
      },
      "source": [
        "## À vous:\n",
        "\n",
        " * Exécuter le modèle sur l'ensemble de test"
      ]
    },
    {
      "cell_type": "code",
      "source": [
        "predictions = fittedModel.transform(test)\n",
        "from pyspark.ml.evaluation import MulticlassClassificationEvaluator\n",
        "evaluator = MulticlassClassificationEvaluator(labelCol=\"primary_type_indexed\", predictionCol=\"prediction\", metricName=\"accuracy\")\n",
        "accuracy = evaluator.evaluate(predictions)\n",
        "print(f\"Accuracy on test data = {accuracy}\")"
      ],
      "metadata": {
        "id": "Gv1zIVle17xZ",
        "outputId": "06047537-0122-4082-deaf-118311d1d453",
        "colab": {
          "base_uri": "https://localhost:8080/"
        }
      },
      "execution_count": 162,
      "outputs": [
        {
          "output_type": "stream",
          "name": "stdout",
          "text": [
            "Accuracy on test data = 0.8395540475036355\n"
          ]
        }
      ]
    },
    {
      "cell_type": "markdown",
      "source": [
        "On a environ 83% d'accuracy. Ceci dit, sur 30 catégories de `primary_index`, il y a certaines qui doivent être très bien prédites et d'autres pas."
      ],
      "metadata": {
        "id": "rqlqR-fY2p9j"
      }
    },
    {
      "cell_type": "code",
      "source": [],
      "metadata": {
        "id": "45O-77-s18Xg"
      },
      "execution_count": null,
      "outputs": []
    }
  ],
  "metadata": {
    "colab": {
      "name": "chicago-crime-data-on-spark.ipynb",
      "provenance": [],
      "include_colab_link": true
    },
    "kernelspec": {
      "display_name": "Python 3",
      "language": "python",
      "name": "python3"
    },
    "language_info": {
      "codemirror_mode": {
        "name": "ipython",
        "version": 3
      },
      "file_extension": ".py",
      "mimetype": "text/x-python",
      "name": "python",
      "nbconvert_exporter": "python",
      "pygments_lexer": "ipython3",
      "version": "3.6.4"
    }
  },
  "nbformat": 4,
  "nbformat_minor": 0
}