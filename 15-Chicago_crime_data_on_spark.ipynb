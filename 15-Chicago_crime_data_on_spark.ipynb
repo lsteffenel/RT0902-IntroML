{
  "cells": [
    {
      "cell_type": "markdown",
      "metadata": {
        "id": "view-in-github",
        "colab_type": "text"
      },
      "source": [
        "<a href=\"https://colab.research.google.com/github/lsteffenel/RT0902-IntroML/blob/main/15-Chicago_crime_data_on_spark.ipynb\" target=\"_parent\"><img src=\"https://colab.research.google.com/assets/colab-badge.svg\" alt=\"Open In Colab\"/></a>"
      ]
    },
    {
      "cell_type": "markdown",
      "metadata": {
        "id": "l5NGFmN8B11c"
      },
      "source": [
        "# Chicago crime dataset analysis\n",
        "---\n",
        "\n",
        "Ce notebook permet d'appliquer un peu de vos connaissances à la découverte d'un vrai dataset.\n",
        "\n",
        "Vous allez effectuer :\n",
        " * Lecture, transformation et requêtage avec Apache Spark\n",
        " * Visualisation avec des bibliothèques Python (Matplotlib et Seaborn).\n",
        " * Parfois, transformer les données en Pandas ou Numpy pour une meilleure visualisation.\n"
      ]
    },
    {
      "cell_type": "markdown",
      "metadata": {
        "id": "orsg3O-SB11e"
      },
      "source": [
        "---\n",
        "\n",
        "## Quelques Import\n",
        "\n"
      ]
    },
    {
      "cell_type": "markdown",
      "metadata": {
        "id": "1zbNyaRuB11f"
      },
      "source": [
        "Standard python data analysis imports"
      ]
    },
    {
      "cell_type": "code",
      "execution_count": null,
      "metadata": {
        "id": "DQft1Nw1B11g"
      },
      "outputs": [],
      "source": [
        "## standard imports\n",
        "import numpy as np\n",
        "import pandas as pd\n",
        "import seaborn as sns\n",
        "import matplotlib.pyplot as plt"
      ]
    },
    {
      "cell_type": "markdown",
      "metadata": {
        "id": "ZWzoN7XpB11e"
      },
      "source": [
        "Spark imports"
      ]
    },
    {
      "cell_type": "code",
      "execution_count": null,
      "metadata": {
        "id": "pG1K0VaslXFL"
      },
      "outputs": [],
      "source": [
        "import os\n",
        "memory = '8g'\n",
        "pyspark_submit_args = ' --driver-memory ' + memory + ' pyspark-shell'\n",
        "os.environ[\"PYSPARK_SUBMIT_ARGS\"] = pyspark_submit_args"
      ]
    },
    {
      "cell_type": "code",
      "execution_count": null,
      "metadata": {
        "id": "ewSQBpTqB11f"
      },
      "outputs": [],
      "source": [
        "## spark imports\n",
        "from pyspark.sql import Row, SparkSession\n",
        "import pyspark.sql.functions as pyf\n",
        "\n",
        "spark = SparkSession.builder.master(\"local[1]\").appName(\"RT0902\").getOrCreate()"
      ]
    },
    {
      "cell_type": "markdown",
      "metadata": {
        "id": "IjLpUfihB11g"
      },
      "source": [
        "Jupyter visualization options"
      ]
    },
    {
      "cell_type": "code",
      "execution_count": null,
      "metadata": {
        "id": "N19-9_ddB11g"
      },
      "outputs": [],
      "source": [
        "%matplotlib inline\n",
        "\n",
        "#Not too sure the following 2 work. This is a TODO\n",
        "sns.set_color_codes(\"pastel\")\n",
        "plt.rcParams[\"figure.figsize\"] = [20, 8]"
      ]
    },
    {
      "cell_type": "markdown",
      "metadata": {
        "id": "TkJN_E5AB11h"
      },
      "source": [
        "---\n",
        "## Dataset\n",
        "On va d'abord nettoyer le dataset et son entête, car ça aide l'accès aux colonnes (pas d'espaces, par exemple).\n",
        "\n",
        "Les données originales viennent de Kaggle (https://www.kaggle.com/djonafegnem/chicago-crime-data-analysis)"
      ]
    },
    {
      "cell_type": "code",
      "execution_count": null,
      "metadata": {
        "id": "j2F-rS7vB11h"
      },
      "outputs": [],
      "source": [
        "content_cols = '''\n",
        "ID - Unique identifier for the record.\n",
        "Case Number - The Chicago Police Department RD Number (Records Division Number), which is unique to the incident.\n",
        "Date - Date when the incident occurred. this is sometimes a best estimate.\n",
        "Block - The partially redacted address where the incident occurred, placing it on the same block as the actual address.\n",
        "IUCR - The Illinois Unifrom Crime Reporting code. This is directly linked to the Primary Type and Description. See the list of IUCR codes at https://data.cityofchicago.org/d/c7ck-438e.\n",
        "Primary Type - The primary description of the IUCR code.\n",
        "Description - The secondary description of the IUCR code, a subcategory of the primary description.\n",
        "Location Description - Description of the location where the incident occurred.\n",
        "Arrest - Indicates whether an arrest was made.\n",
        "Domestic - Indicates whether the incident was domestic-related as defined by the Illinois Domestic Violence Act.\n",
        "Beat - Indicates the beat where the incident occurred. A beat is the smallest police geographic area – each beat has a dedicated police beat car. Three to five beats make up a police sector, and three sectors make up a police district. The Chicago Police Department has 22 police districts. See the beats at https://data.cityofchicago.org/d/aerh-rz74.\n",
        "District - Indicates the police district where the incident occurred. See the districts at https://data.cityofchicago.org/d/fthy-xz3r.\n",
        "Ward - The ward (City Council district) where the incident occurred. See the wards at https://data.cityofchicago.org/d/sp34-6z76.\n",
        "Community Area - Indicates the community area where the incident occurred. Chicago has 77 community areas. See the community areas at https://data.cityofchicago.org/d/cauq-8yn6.\n",
        "FBI Code - Indicates the crime classification as outlined in the FBI's National Incident-Based Reporting System (NIBRS). See the Chicago Police Department listing of these classifications at http://gis.chicagopolice.org/clearmap_crime_sums/crime_types.html.\n",
        "X Coordinate - The x coordinate of the location where the incident occurred in State Plane Illinois East NAD 1983 projection. This location is shifted from the actual location for partial redaction but falls on the same block.\n",
        "Y Coordinate - The y coordinate of the location where the incident occurred in State Plane Illinois East NAD 1983 projection. This location is shifted from the actual location for partial redaction but falls on the same block.\n",
        "Year - Year the incident occurred.\n",
        "Updated On - Date and time the record was last updated.\n",
        "Latitude - The latitude of the location where the incident occurred. This location is shifted from the actual location for partial redaction but falls on the same block.\n",
        "Longitude - The longitude of the location where the incident occurred. This location is shifted from the actual location for partial redaction but falls on the same block.\n",
        "Location - The location where the incident occurred in a format that allows for creation of maps and other geographic operations on this data portal. This location is shifted from the actual location for partial redaction but falls on the same block.'''"
      ]
    },
    {
      "cell_type": "code",
      "execution_count": null,
      "metadata": {
        "id": "1g9qrmeVB11i"
      },
      "outputs": [],
      "source": [
        "def entry_dic(line):\n",
        "    \"\"\"\n",
        "    Convert a header - description line into a single dictionary that holds the original header as 'title', a corresponding field name as 'header', and a description.\n",
        "    \"\"\"\n",
        "    pair = line.split(' - ')\n",
        "    return {'title': pair[0], 'description': pair[1], 'header': pair[0].lower().replace(' ', '_')}"
      ]
    },
    {
      "cell_type": "markdown",
      "metadata": {
        "id": "5ce6HSbkB11j"
      },
      "source": [
        "Créer une liste de titres à partir de la fonction précédente"
      ]
    },
    {
      "cell_type": "code",
      "execution_count": null,
      "metadata": {
        "id": "2SFbLzd4B11j"
      },
      "outputs": [],
      "source": [
        "header_dics = list(map(entry_dic, list(filter(lambda l: l != '', content_cols.split('\\n')))))"
      ]
    },
    {
      "cell_type": "code",
      "execution_count": null,
      "metadata": {
        "id": "oBPjg3hvB11j"
      },
      "outputs": [],
      "source": [
        "header_dics[:2]"
      ]
    },
    {
      "cell_type": "markdown",
      "metadata": {
        "id": "PEV6TMBnB11k"
      },
      "source": [
        "### Données\n",
        "\n",
        "Les données seront téléchargées et stockées dans `./data/`. Ce sont des fichiers .CSV.\n"
      ]
    },
    {
      "cell_type": "code",
      "execution_count": null,
      "metadata": {
        "id": "9dzWdo_JWJgw"
      },
      "outputs": [],
      "source": [
        "!mkdir data"
      ]
    },
    {
      "cell_type": "code",
      "execution_count": null,
      "metadata": {
        "id": "5q9V0tdZWvN5"
      },
      "outputs": [],
      "source": [
        "!gsutil -m cp -r gs://angelo_crime_data/*.csv ./data"
      ]
    },
    {
      "cell_type": "code",
      "execution_count": null,
      "metadata": {
        "id": "fyafw6P0B11l",
        "outputId": "371a82a3-13a9-4ad2-9554-f4f110fd6b62",
        "colab": {
          "base_uri": "https://localhost:8080/"
        }
      },
      "outputs": [
        {
          "output_type": "stream",
          "name": "stdout",
          "text": [
            "total 1.9G\n",
            "-rw-r--r-- 1 root root 454M Mar  8 17:02 Chicago_Crimes_2001_to_2004.csv\n",
            "-rw-r--r-- 1 root root 450M Mar  8 17:02 Chicago_Crimes_2005_to_2007.csv\n",
            "-rw-r--r-- 1 root root 647M Mar  8 17:02 Chicago_Crimes_2008_to_2011.csv\n",
            "-rw-r--r-- 1 root root 350M Mar  8 17:02 Chicago_Crimes_2012_to_2017.csv\n"
          ]
        }
      ],
      "source": [
        "!ls -lh data/"
      ]
    },
    {
      "cell_type": "markdown",
      "metadata": {
        "id": "4aYYYo3wB11l"
      },
      "source": [
        "---\n",
        "## Lecture des données\n",
        "\n",
        "Avec l'opération `csv read` de spark, nous allons lire et parser les fichiers. Le résultat sera un seul DataFrame :"
      ]
    },
    {
      "cell_type": "code",
      "execution_count": null,
      "metadata": {
        "id": "jM8fs9TgB11l"
      },
      "outputs": [],
      "source": [
        "df = spark.read.csv('./data/*.csv', inferSchema=True, header=True)"
      ]
    },
    {
      "cell_type": "markdown",
      "metadata": {
        "id": "Rz6WzWjsl1H1"
      },
      "source": [
        "Note : ce qui prend vraiment le temps est la découverte du schéma : on n'a pas tellement de lignes, après tout."
      ]
    },
    {
      "cell_type": "code",
      "execution_count": null,
      "metadata": {
        "id": "x6Fm4rReB11m"
      },
      "outputs": [],
      "source": [
        "# Ce DataFrame sera mis en cache (gardé en mémoire) car il sera utilisé plusieurs fois.\n",
        "df = df.cache()"
      ]
    },
    {
      "cell_type": "code",
      "execution_count": null,
      "metadata": {
        "id": "3lSK8YawB11m"
      },
      "outputs": [],
      "source": [
        "# Affichage du schéma (structure) du dataframe\n",
        "df.printSchema()"
      ]
    },
    {
      "cell_type": "markdown",
      "metadata": {
        "id": "mMrTfRz_B11m"
      },
      "source": [
        "---\n",
        "**Nous allons renommer les colonnes pour permettre l'utilisation de la notation \"point\" (ex : df.colonne)**"
      ]
    },
    {
      "cell_type": "code",
      "execution_count": null,
      "metadata": {
        "id": "nuhDY6DyB11m"
      },
      "outputs": [],
      "source": [
        "for h in header_dics:\n",
        "    df = df.withColumnRenamed(h['title'], h['header'])"
      ]
    },
    {
      "cell_type": "markdown",
      "metadata": {
        "id": "wi9n1CYaB11n"
      },
      "source": [
        "Certaines lignes de n'ont aucune valeur déclarée à la colonne `location_description` . C'est le moment de les supprimer.\n",
        "\n",
        "Ici, vous avez l'example en utilisant l'appel `rdd.filter` call. Votre première *mission* est de faire ma même chose mais en utilisant la fonction **`Dataset.filter`**."
      ]
    },
    {
      "cell_type": "code",
      "execution_count": null,
      "metadata": {
        "id": "CW8QQHgPB11n"
      },
      "outputs": [],
      "source": [
        "#df = df.rdd.filter(lambda rec: rec.arrest.find('Location Description') < 0).toDF().cache()"
      ]
    },
    {
      "cell_type": "code",
      "execution_count": null,
      "metadata": {
        "id": "1LQyYPtcbtnQ"
      },
      "outputs": [],
      "source": [
        "# à vous de jouer\n",
        "df = df.filter(df['location_description'] != '')"
      ]
    },
    {
      "cell_type": "markdown",
      "metadata": {
        "id": "qr_YRLdkB11n"
      },
      "source": [
        "Un petit aperçu du début du dataframe :"
      ]
    },
    {
      "cell_type": "code",
      "execution_count": null,
      "metadata": {
        "id": "ym9AaXn0B11n"
      },
      "outputs": [],
      "source": [
        "df.show(n=3, truncate=False)"
      ]
    },
    {
      "cell_type": "markdown",
      "metadata": {
        "id": "ykY8IxXaB11o"
      },
      "source": [
        "---\n",
        "## Comprendre les données"
      ]
    },
    {
      "cell_type": "code",
      "execution_count": null,
      "metadata": {
        "id": "o_8EqKGnB11o"
      },
      "outputs": [],
      "source": [
        "# crime types\n",
        "crime_type_groups = df.groupBy('primary_type').count()"
      ]
    },
    {
      "cell_type": "code",
      "execution_count": null,
      "metadata": {
        "id": "sB7L2nGJB11o"
      },
      "outputs": [],
      "source": [
        "crime_type_counts = crime_type_groups.orderBy('count', ascending=False)"
      ]
    },
    {
      "cell_type": "markdown",
      "metadata": {
        "id": "cgrBK30fB11o"
      },
      "source": [
        "Jusqu'à ici ça a été rapide : Spark fait une exécution *lazy*, i.e., il n'a fait qu'enregistrer les *transformations* à applier. Il attendra pour lancer l'exécution uniquement lorsqu'une *action* est demandée (par exemple, afficher le résultat).\n",
        "\n",
        "Dans la ligne suivante on demande le nombre total de lignes, mais en fait il va appliquer les modifications, faire le filtrage, etc. Ça prendra un certain temps, au moins 7 minutes."
      ]
    },
    {
      "cell_type": "code",
      "execution_count": null,
      "metadata": {
        "id": "F-Ek_ORlB11o"
      },
      "outputs": [],
      "source": [
        "print(df.count())"
      ]
    },
    {
      "cell_type": "markdown",
      "metadata": {
        "id": "wcAH2U26B11p"
      },
      "source": [
        "Et si on affiche les colonnes (nos futures `features`) ?"
      ]
    },
    {
      "cell_type": "code",
      "execution_count": null,
      "metadata": {
        "id": "IAioKeduB11p"
      },
      "outputs": [],
      "source": [
        "df.columns"
      ]
    },
    {
      "cell_type": "code",
      "execution_count": null,
      "metadata": {
        "id": "RS7fhXJ0B11p"
      },
      "outputs": [],
      "source": [
        "#Encore une fois, quel est le schéma (cette fois-ci, avec les noms \"harmonisés\") ?\n",
        "df.printSchema()"
      ]
    },
    {
      "cell_type": "markdown",
      "metadata": {
        "id": "5allZo4IB11p"
      },
      "source": [
        "### Types de Crime\n",
        "\n",
        "La commande suivante affiche les 20 types de crime les plus fréquents :"
      ]
    },
    {
      "cell_type": "code",
      "execution_count": null,
      "metadata": {
        "id": "I0G89nlsB11q"
      },
      "outputs": [],
      "source": [
        "crime_type_counts.show(truncate=False)"
      ]
    },
    {
      "cell_type": "markdown",
      "metadata": {
        "id": "1nX9DLuuB11q"
      },
      "source": [
        "On peut faire un affichage plus propre (et d'autres opérations) en transformant ce dataframe en Pandas :\n",
        "\n",
        "``\n",
        "crime_type_counts.toPandas()\n",
        "``"
      ]
    },
    {
      "cell_type": "code",
      "execution_count": null,
      "metadata": {
        "id": "om_CpQ58oV0v"
      },
      "outputs": [],
      "source": [
        "counts_pddf = crime_type_counts.toPandas()"
      ]
    },
    {
      "cell_type": "code",
      "execution_count": null,
      "metadata": {
        "id": "8YMYfXn6obj0"
      },
      "outputs": [],
      "source": [
        "counts_pddf.head(10)"
      ]
    },
    {
      "cell_type": "code",
      "execution_count": null,
      "metadata": {
        "id": "eeJrB5AIB11r",
        "scrolled": false
      },
      "outputs": [],
      "source": [
        "plt.rcParams[\"figure.figsize\"] = [20, 8]\n",
        "\n",
        "sns.set(style=\"whitegrid\")\n",
        "sns.set_color_codes(\"pastel\")\n",
        "\n",
        "#sns.despine(left=True, bottom=True)\n",
        "type_graph = sns.barplot(x='count', y='primary_type', data=counts_pddf)\n",
        "type_graph.set(ylabel=\"Primary Type\", xlabel=\"Crimes Record Count\")"
      ]
    },
    {
      "cell_type": "markdown",
      "metadata": {
        "id": "ya0LZ2NpB11r"
      },
      "source": [
        "### Période couverte"
      ]
    },
    {
      "cell_type": "code",
      "execution_count": null,
      "metadata": {
        "id": "rYgM2EwoB11r"
      },
      "outputs": [],
      "source": [
        "import datetime\n",
        "from pyspark.sql.functions import *"
      ]
    },
    {
      "cell_type": "code",
      "execution_count": null,
      "metadata": {
        "id": "6BlpR0ybB11r"
      },
      "outputs": [],
      "source": [
        "df.select(min('date').alias('first_record_date'), max('date').alias('latest_record_date')).show(truncate=False)"
      ]
    },
    {
      "cell_type": "markdown",
      "metadata": {
        "id": "tbEroH7VB11s"
      },
      "source": [
        "Ici, on voir que les fichiers couvrent la période entre le **2001-01-01** et le **2016-12-31**"
      ]
    },
    {
      "cell_type": "markdown",
      "metadata": {
        "id": "o2QC39keB11s"
      },
      "source": [
        "---\n",
        "Nous allons convertir les dates au format timestamp. En effet, le schéma montrait que le champ `date` était de type `string`, ce qui n'est pas très utile.\n",
        "\n",
        "Nous allons changer ce format afin de le lire sous la forme '02/23/2006 09:06:22 PM' , c'est à dire **`'MM/dd/yyyy hh:mm:ss a'`** (format américain).\n",
        "\n",
        "On va aussi rajouter une colonne `month` qui n'a pas les champs pour l'heure."
      ]
    },
    {
      "cell_type": "code",
      "execution_count": null,
      "metadata": {
        "id": "oYzZl6iiB11s"
      },
      "outputs": [],
      "source": [
        "df = df.withColumn('date_time', to_timestamp('date', 'MM/dd/yyyy hh:mm:ss a'))\\\n",
        "       .withColumn('month', trunc('date_time', 'YYYY')) #adding a month column to be able to view stats on a monthly basis"
      ]
    },
    {
      "cell_type": "code",
      "execution_count": null,
      "metadata": {
        "id": "u35zw7vgB11s"
      },
      "outputs": [],
      "source": [
        "df.select(['date','date_time', 'month'])\\\n",
        "  .show(n=2, truncate=False)"
      ]
    },
    {
      "cell_type": "markdown",
      "metadata": {
        "id": "qoeD7ctRB11s"
      },
      "source": [
        "### Combien d'arrestations ?"
      ]
    },
    {
      "cell_type": "code",
      "execution_count": null,
      "metadata": {
        "id": "2a-2HrFHB11s"
      },
      "outputs": [],
      "source": [
        "# On peut utiliser la colonne month pour affiche les quantités d'arrestations au fil des années, groupées par mois :\n",
        "type_arrest_date = df.groupBy(['arrest', 'month'])\\\n",
        "                     .count()\\\n",
        "                     .orderBy(['month', 'count'], ascending=[True, False])\n",
        "print()\n",
        "type_arrest_date.show(3, truncate=False)"
      ]
    },
    {
      "cell_type": "code",
      "execution_count": null,
      "metadata": {
        "id": "7UaqAX9WB11t"
      },
      "outputs": [],
      "source": [
        "# Une petite note sur le fonctionnement du type datetime\n",
        "import datetime"
      ]
    },
    {
      "cell_type": "code",
      "execution_count": null,
      "metadata": {
        "id": "FwfmYvcgB11t"
      },
      "outputs": [],
      "source": [
        "datetime.datetime.now()\n",
        "datetime.datetime.strftime(datetime.datetime.now(), '%H')"
      ]
    },
    {
      "cell_type": "code",
      "execution_count": null,
      "metadata": {
        "id": "qg_kr995B11t"
      },
      "outputs": [],
      "source": [
        "# Ici on crée un dataframe Pandas à partir des informations ci-dessous :\n",
        "type_arrest_pddf = pd.DataFrame(type_arrest_date.rdd.map(lambda l: l.asDict()).collect())"
      ]
    },
    {
      "cell_type": "markdown",
      "metadata": {
        "id": "keJ4m_7eB11t"
      },
      "source": [
        "Encore une fois, nous allons convertir les types de jour/temps pour Pandas\n",
        "\n",
        "*Certaines choses ne sont pas nécessaires, mais bon...*"
      ]
    },
    {
      "cell_type": "code",
      "execution_count": null,
      "metadata": {
        "id": "Li4fZcYoB11t"
      },
      "outputs": [],
      "source": [
        "type_arrest_pddf['yearpd'] = type_arrest_pddf['month'].apply(lambda dt: datetime.datetime.strftime(pd.Timestamp(dt), '%Y'))"
      ]
    },
    {
      "cell_type": "code",
      "execution_count": null,
      "metadata": {
        "id": "FbwbSdY6B11u"
      },
      "outputs": [],
      "source": [
        "type_arrest_pddf['arrest'] = type_arrest_pddf['arrest'].apply(lambda l: l=='True')\n",
        "type_arrest_pddf.head(5)"
      ]
    },
    {
      "cell_type": "markdown",
      "metadata": {
        "id": "ox4oZ41EB11u"
      },
      "source": [
        "### Comment le nombre d'emprisonnements a évolué au fil des 16 ans de collecte de données ?"
      ]
    },
    {
      "cell_type": "code",
      "execution_count": null,
      "metadata": {
        "id": "Fv7WIGYJB11u"
      },
      "outputs": [],
      "source": [
        "# Data for plotting\n",
        "t = type_arrest_pddf['count'] - 20 # np.arange(0.0, 2.0, 0.01)\n",
        "s = type_arrest_pddf['month']\n",
        "\n",
        "arrested = type_arrest_pddf[type_arrest_pddf['arrest'] == True]\n",
        "not_arrested = type_arrest_pddf[type_arrest_pddf['arrest'] == False]\n",
        "\n",
        "# Note that using plt.subplots below is equivalent to using\n",
        "# fig = plt.figure() and then ax = fig.add_subplot(111)\n",
        "fig, ax = plt.subplots()\n",
        "ax.plot(arrested['month'], arrested['count'], label='Arrested')\n",
        "ax.plot(not_arrested['month'], not_arrested['count'], label='Not Arrested')\n",
        "\n",
        "ax.set(xlabel='Year - 2001-2017', ylabel='Total records',\n",
        "       title='Year-on-year crime records')\n",
        "ax.grid(b=True, which='both', axis='y')\n",
        "ax.legend()"
      ]
    },
    {
      "cell_type": "markdown",
      "metadata": {
        "id": "1Nzqu3l3B11u"
      },
      "source": [
        "Mis à part la fin de 2016, la \"distance\" relative entre arrestations et non-arrestations est plus ou moins constante."
      ]
    },
    {
      "cell_type": "markdown",
      "metadata": {
        "id": "MVUmuvVIB11u"
      },
      "source": [
        "### À quel moment de la journée les criminels sont plus actifs ?\n",
        "\n",
        "Ici c'est à vous de refaire le même type d'opération. Je vais juste vous montrer comment créer une colonne avec les heures."
      ]
    },
    {
      "cell_type": "code",
      "execution_count": null,
      "metadata": {
        "id": "zHDjY5bBB11v"
      },
      "outputs": [],
      "source": [
        "# Extract the \"hour\" field from the date into a separate column called \"hour\"\n",
        "df_hour = df.withColumn('hour', hour(df['date_time']))"
      ]
    },
    {
      "cell_type": "code",
      "execution_count": null,
      "metadata": {
        "id": "JsZNEJXZB11v"
      },
      "outputs": [],
      "source": [
        "# Derive a data frame with crime counts per hour of the day:\n",
        "hourly_count = df_hour.groupBy(['primary_type', 'hour']).count().cache()\n",
        "hourly_total_count = hourly_count.groupBy('hour').sum('count')"
      ]
    },
    {
      "cell_type": "code",
      "execution_count": null,
      "metadata": {
        "id": "hVeHieTYB11v"
      },
      "outputs": [],
      "source": [
        "hourly_count_pddf = pd.DataFrame(hourly_total_count.select(hourly_total_count['hour'], hourly_total_count['sum(count)'].alias('count'))\\\n",
        "                                .rdd.map(lambda l: l.asDict())\\\n",
        "                                 .collect())"
      ]
    },
    {
      "cell_type": "code",
      "execution_count": null,
      "metadata": {
        "id": "vGf_KjlJB11v"
      },
      "outputs": [],
      "source": [
        "hourly_count_pddf = hourly_count_pddf.sort_values(by='hour')"
      ]
    },
    {
      "cell_type": "code",
      "execution_count": null,
      "metadata": {
        "id": "S08QHOlBB11v"
      },
      "outputs": [],
      "source": [
        "fig, ax = plt.subplots()\n",
        "ax.plot(hourly_count_pddf['hour'], hourly_count_pddf['count'], label='Hourly Count')\n",
        "\n",
        "ax.set(xlabel='Hour of Day', ylabel='Total records',\n",
        "       title='Overall hourly crime numbers')\n",
        "ax.grid(b=True, which='both', axis='y')\n",
        "ax.legend()"
      ]
    },
    {
      "cell_type": "markdown",
      "metadata": {
        "id": "bMZ2MN6dB11v"
      },
      "source": [
        "Il semble que c'est plus agité entre 18h et 22h... avec un pic à minuit et autre à midi.\n",
        "\n"
      ]
    },
    {
      "cell_type": "markdown",
      "metadata": {
        "id": "I6rHrROiB11w"
      },
      "source": [
        "### Dans que type d'endroit les crimes sont commis ?"
      ]
    },
    {
      "cell_type": "code",
      "execution_count": null,
      "metadata": {
        "id": "mBdTg6GRB11w"
      },
      "outputs": [],
      "source": [
        "# Combien de types d'endroit sont recensés\n",
        "df.select('location_description').distinct().count()"
      ]
    },
    {
      "cell_type": "markdown",
      "metadata": {
        "id": "lsllA6BgB11w"
      },
      "source": [
        "Quels sont les top 10 endroits ?"
      ]
    },
    {
      "cell_type": "code",
      "execution_count": null,
      "metadata": {
        "id": "8OpMDWEBB11w"
      },
      "outputs": [],
      "source": [
        "df.groupBy(['location_description']).count().orderBy('count', ascending=False).show(10)"
      ]
    },
    {
      "cell_type": "markdown",
      "metadata": {
        "id": "Ey4LQDQWB11x"
      },
      "source": [
        "### Crimes \"domestiques\" :"
      ]
    },
    {
      "cell_type": "code",
      "execution_count": null,
      "metadata": {
        "id": "dQDWislWB11x"
      },
      "outputs": [],
      "source": [
        "domestic_hour = pd.DataFrame(df_hour.groupBy(['domestic', 'hour']).count().orderBy('hour').rdd.map(lambda row: row.asDict()).collect())"
      ]
    },
    {
      "cell_type": "code",
      "execution_count": null,
      "metadata": {
        "id": "WZh_59qwB11x"
      },
      "outputs": [],
      "source": [
        "dom = domestic_hour[domestic_hour['domestic'] == 'True']['count']\n",
        "non_dom = domestic_hour[domestic_hour['domestic'] == 'False']['count']\n",
        "\n",
        "either_dom = domestic_hour.groupby(by=['hour']).sum()['count']\n",
        "\n",
        "dom_keys = domestic_hour[domestic_hour['domestic'] == 'False']['hour']"
      ]
    },
    {
      "cell_type": "markdown",
      "metadata": {
        "id": "4B3ZPcQWB11y"
      },
      "source": [
        "#### Comment ce type de crime (domestic) se compare aux autres types de crimes ?"
      ]
    },
    {
      "cell_type": "code",
      "execution_count": null,
      "metadata": {
        "id": "ZFlLFczPB11y"
      },
      "outputs": [],
      "source": [
        "figure, axes = plt.subplots()\n",
        "\n",
        "axes.plot(dom_keys, either_dom, label='Total hourly count')\n",
        "axes.plot(dom_keys, dom, label='Domestic crime count')\n",
        "axes.plot(dom_keys, non_dom, label='Non-Domestic hourly count')\n",
        "\n",
        "axes.legend()\n",
        "#axes.grid(which='b', b=True)"
      ]
    },
    {
      "cell_type": "markdown",
      "metadata": {
        "id": "hm1PpuWiB11y"
      },
      "source": [
        "### Une analyse par rapport au temps\n",
        "\n",
        "Les données de type heure/date permettent d'obtenir plus d'information sur les types de crime et d'émettre des hypothèses sur leurs sursauts. Par ontre, d'autres facteurs externes comme le changement de garde ou les nouvelles politiques de sécurité peuvent avoir un impact non décrit ici.\n",
        "\n",
        "Néanmoins, si on a une idée de quand et où les crimes sont les plus fréquents, on peut s'aventurer à faire quelques prévisions..."
      ]
    },
    {
      "cell_type": "markdown",
      "metadata": {
        "id": "W8ZdrIGpB11y"
      },
      "source": [
        "On va rajouter quelques champs utiles :\n",
        "\n",
        " * l'heure du jour (déjà présent dans le champ 'hour')\n",
        " * le jour de la semaine\n",
        " * le mois de l'année\n",
        " * le \"numéro du jour\" dans une séquence 1, 2...(on commence à compter à partir du 2001-01-01)."
      ]
    },
    {
      "cell_type": "code",
      "execution_count": null,
      "metadata": {
        "id": "79-une_QB11y"
      },
      "outputs": [],
      "source": [
        "df_dates = df_hour.withColumn('week_day', dayofweek(df_hour['date_time']))\\\n",
        "                 .withColumn('year_month', month(df_hour['date_time']))\\\n",
        "                 .withColumn('month_day', dayofmonth(df_hour['date_time']))\\\n",
        "                 .withColumn('date_number', datediff(df['date_time'], to_date(lit('2001-01-01'), format='yyyy-MM-dd')))\\\n",
        "                 .cache()"
      ]
    },
    {
      "cell_type": "code",
      "execution_count": null,
      "metadata": {
        "id": "7RKdwEk5B11y"
      },
      "outputs": [],
      "source": [
        "df_dates.select(['date', 'month', 'hour', 'week_day', 'year', 'year_month', 'month_day', 'date_number']).show(20, truncate=False)"
      ]
    },
    {
      "cell_type": "markdown",
      "metadata": {
        "id": "NmRBhvqaB11z"
      },
      "source": [
        "## Les crimes par rapport au jour de la semaine\n"
      ]
    },
    {
      "cell_type": "code",
      "execution_count": null,
      "metadata": {
        "id": "Zl-mAsJWB11z"
      },
      "outputs": [],
      "source": [
        "week_day_crime_counts = df_dates.groupBy('week_day').count()"
      ]
    },
    {
      "cell_type": "code",
      "execution_count": null,
      "metadata": {
        "id": "3KSUHQv7B11z"
      },
      "outputs": [],
      "source": [
        "week_day_crime_counts_pddf = pd.DataFrame(week_day_crime_counts.orderBy('week_day').rdd.map(lambda e: e.asDict()).collect())"
      ]
    },
    {
      "cell_type": "code",
      "execution_count": null,
      "metadata": {
        "id": "BIqgh5QZB11z"
      },
      "outputs": [],
      "source": [
        "sns.barplot(data=week_day_crime_counts_pddf, x='week_day', y='count')"
      ]
    },
    {
      "cell_type": "markdown",
      "source": [
        "On voit très peu de variance... D'un autre côté, les criminels restent \"méchants\" tous les jours."
      ],
      "metadata": {
        "id": "bmSWboILXkFd"
      }
    },
    {
      "cell_type": "markdown",
      "metadata": {
        "id": "1POAD8TAB11z"
      },
      "source": [
        "## Mois de l'année\n",
        "\n"
      ]
    },
    {
      "cell_type": "code",
      "execution_count": null,
      "metadata": {
        "id": "Uy7XMSlTB11z"
      },
      "outputs": [],
      "source": [
        "year_month_crime_counts = df_dates.groupBy('year_month').count()"
      ]
    },
    {
      "cell_type": "code",
      "execution_count": null,
      "metadata": {
        "id": "wEkU_VsRB110"
      },
      "outputs": [],
      "source": [
        "year_month_crime_counts_pddf = pd.DataFrame(year_month_crime_counts.orderBy('year_month').rdd.map(lambda e: e.asDict()).collect())"
      ]
    },
    {
      "cell_type": "code",
      "execution_count": null,
      "metadata": {
        "id": "Oa8ai64PB110"
      },
      "outputs": [],
      "source": [
        "year_month_crime_counts_pddf"
      ]
    },
    {
      "cell_type": "markdown",
      "metadata": {
        "id": "fIdsyEb-B110"
      },
      "source": [
        "Il semble que la période Mai-Août est la plus active pour les criminels. Des idées sur la cause ?\n"
      ]
    },
    {
      "cell_type": "code",
      "execution_count": null,
      "metadata": {
        "id": "c_GjvI9lB110"
      },
      "outputs": [],
      "source": [
        "sns.barplot(data=year_month_crime_counts_pddf, y='count', x='year_month')"
      ]
    },
    {
      "cell_type": "markdown",
      "metadata": {
        "id": "p_XMZP6wB110"
      },
      "source": [
        "## Jour du mois"
      ]
    },
    {
      "cell_type": "code",
      "execution_count": null,
      "metadata": {
        "id": "QL9BoMqQB110"
      },
      "outputs": [],
      "source": [
        "month_day_crime_counts = df_dates.groupBy('month_day').count()"
      ]
    },
    {
      "cell_type": "code",
      "execution_count": null,
      "metadata": {
        "id": "FIw6B9l0B111"
      },
      "outputs": [],
      "source": [
        "month_day_crime_counts_pddf = pd.DataFrame(month_day_crime_counts.orderBy('month_day').rdd.map(lambda e: e.asDict()).collect())"
      ]
    },
    {
      "cell_type": "markdown",
      "metadata": {
        "id": "nyZ3bHm-B111"
      },
      "source": [
        "#### Les 10 pire jours du mois"
      ]
    },
    {
      "cell_type": "code",
      "execution_count": null,
      "metadata": {
        "id": "HbG76B1dB111"
      },
      "outputs": [],
      "source": [
        "month_day_crime_counts_pddf.sort_values(by='count', ascending=False).head(10)"
      ]
    },
    {
      "cell_type": "code",
      "execution_count": null,
      "metadata": {
        "id": "4RVgcC5rB111"
      },
      "outputs": [],
      "source": [
        "month_day_crime_counts_pddf = month_day_crime_counts_pddf.sort_values(by='month_day', ascending=True)"
      ]
    },
    {
      "cell_type": "code",
      "execution_count": null,
      "metadata": {
        "id": "JF3Xa5DsB111"
      },
      "outputs": [],
      "source": [
        "fg, ax = plt.subplots()\n",
        "\n",
        "ax.plot(month_day_crime_counts_pddf['month_day'], month_day_crime_counts_pddf['count'], label='Crimes over the month')\n",
        "\n",
        "ax.grid(b=True, which='both')\n",
        "ax.legend()"
      ]
    },
    {
      "cell_type": "markdown",
      "source": [
        "Que se passe-t-il le 31 de chaque mois ? Est-ce vraiment une baisse ou juste un problème statistique ?"
      ],
      "metadata": {
        "id": "WLMEyOnxYNMl"
      }
    },
    {
      "cell_type": "markdown",
      "metadata": {
        "id": "MeQ9sdiCB111"
      },
      "source": [
        "### Et les quartiers ?\n",
        "\n",
        "Chicago compte 77 quartiers (community areas). Comment le crime est distribuée entre eux ?"
      ]
    },
    {
      "cell_type": "code",
      "execution_count": null,
      "metadata": {
        "id": "GiYyZbcRB112"
      },
      "outputs": [],
      "source": [
        "df_dates_community_areas = df_dates.na.drop(subset=['community_area']).groupBy('community_area').count()"
      ]
    },
    {
      "cell_type": "markdown",
      "metadata": {
        "id": "OoKpRL3gB112"
      },
      "source": [
        "Quelles sont les 10 quartiers avec plus de crime ?"
      ]
    },
    {
      "cell_type": "code",
      "execution_count": null,
      "metadata": {
        "id": "WTmIMnDYB112",
        "scrolled": true
      },
      "outputs": [],
      "source": [
        "df_dates_community_areas.orderBy('count', ascending=False).show(10)"
      ]
    },
    {
      "cell_type": "code",
      "execution_count": null,
      "metadata": {
        "id": "Li_Ok5JuB112"
      },
      "outputs": [],
      "source": [
        "## Et quel est le type de crime le plus commun par quartier ?\n",
        "top_crime_types = df_dates.select('primary_type').groupBy('primary_type').count().rdd.map(lambda row: row.asDict()).takeOrdered(10, key=lambda l: 1/l['count'])\n",
        "top_busy_areas =  df_dates_community_areas.rdd.map(lambda row: row.asDict()).takeOrdered(10, key=lambda l: 1/l['count'])"
      ]
    },
    {
      "cell_type": "code",
      "execution_count": null,
      "metadata": {
        "id": "jVfWfiO9B112"
      },
      "outputs": [],
      "source": [
        "top_crime_types_lst = [dc['primary_type'] for dc in top_crime_types]\n",
        "top_busy_areas_lst = [dc['community_area'] for dc in top_busy_areas]"
      ]
    },
    {
      "cell_type": "code",
      "execution_count": null,
      "metadata": {
        "id": "MFANfPp3B113"
      },
      "outputs": [],
      "source": [
        "top_crime_types_lst"
      ]
    },
    {
      "cell_type": "code",
      "execution_count": null,
      "metadata": {
        "id": "ESmFS3ArB113"
      },
      "outputs": [],
      "source": [
        "top_busy_areas_lst"
      ]
    },
    {
      "cell_type": "markdown",
      "metadata": {
        "id": "cI5ET7ZEB113"
      },
      "source": [
        "Afficher les 10 crimes les plus courants, dans les 10 quartiers les plus chauds..."
      ]
    },
    {
      "cell_type": "code",
      "execution_count": null,
      "metadata": {
        "id": "scAvDF3kB113"
      },
      "outputs": [],
      "source": [
        "q1 = \"instr('\" + ' '.join(top_busy_areas_lst) + \"', community_area) > 0\"\n",
        "q2 = \"instr('\" + ' '.join(top_crime_types_lst) + \"', primary_type) > 0\"\n",
        "print(q1)"
      ]
    },
    {
      "cell_type": "code",
      "execution_count": null,
      "metadata": {
        "id": "QugERa7zB113"
      },
      "outputs": [],
      "source": [
        "## Construct a data frame filtered on these top community areas and top crime types:\n",
        "df_dates_tops = df_dates.filter(q1).filter(q2)"
      ]
    },
    {
      "cell_type": "code",
      "execution_count": null,
      "metadata": {
        "id": "GhbiaOi2B114"
      },
      "outputs": [],
      "source": [
        "df_dates_tops.count()"
      ]
    },
    {
      "cell_type": "code",
      "execution_count": null,
      "metadata": {
        "id": "N3sJacsVB114"
      },
      "outputs": [],
      "source": [
        "tops_of_tops = df_dates_tops.groupBy(['primary_type', 'community_area']).count().orderBy(['primary_type', 'count', 'community_area'], ascending=[True, False, True]).cache()"
      ]
    },
    {
      "cell_type": "code",
      "execution_count": null,
      "metadata": {
        "id": "meCU-utBB114"
      },
      "outputs": [],
      "source": [
        "tops_of_tops.show(20)"
      ]
    },
    {
      "cell_type": "markdown",
      "metadata": {
        "id": "Zf9P0H42B114"
      },
      "source": [
        "#### Les noms des quartiers\n",
        "\n",
        "Pour l'instant on avait juste les numéros, on peut croiser cela avec le nom des quartiers.\n",
        "\n",
        "La source se trouve dans le journal Chicago Tribune  http://www.chicagotribune.com/chi-community-areas-htmlstory.html\n"
      ]
    },
    {
      "cell_type": "code",
      "execution_count": null,
      "metadata": {
        "id": "aPgTg0R1B115"
      },
      "outputs": [],
      "source": [
        "area_names = \"\"\"\n",
        "01\tRogers Park\n",
        "40\tWashington Park\n",
        "02\tWest Ridge\n",
        "41\tHyde Park\n",
        "03\tUptown\n",
        "42\tWoodlawn\n",
        "04\tLincoln Square\n",
        "43\tSouth Shore\n",
        "05\tNorth Center\n",
        "44\tChatham\n",
        "06\tLakeview\n",
        "45\tAvalon Park\n",
        "07\tLincoln Park\n",
        "46\tSouth Chicago\n",
        "08\tNear North Side\n",
        "47\tBurnside\n",
        "09\tEdison Park\n",
        "48\tCalumet Heights\n",
        "10\tNorwood Park\n",
        "49\tRoseland\n",
        "11\tJefferson Park\n",
        "50\tPullman\n",
        "12\tForest Glen\n",
        "51\tSouth Deering\n",
        "13\tNorth Park\n",
        "52\tEast Side\n",
        "14\tAlbany Park\n",
        "53\tWest Pullman\n",
        "15\tPortage Park\n",
        "54\tRiverdale\n",
        "16\tIrving Park\n",
        "55\tHegewisch\n",
        "17\tDunning\n",
        "56\tGarfield Ridge\n",
        "18\tMontclare\n",
        "57\tArcher Heights\n",
        "19\tBelmont Cragin\n",
        "58\tBrighton Park\n",
        "20\tHermosa\n",
        "59\tMcKinley Park\n",
        "21\tAvondale\n",
        "60\tBridgeport\n",
        "22\tLogan Square\n",
        "61\tNew City\n",
        "23\tHumboldt Park\n",
        "62\tWest Elsdon\n",
        "24\tWest Town\n",
        "63\tGage Park\n",
        "25\tAustin\n",
        "64\tClearing\n",
        "26\tWest Garfield Park\n",
        "65\tWest Lawn\n",
        "27\tEast Garfield Park\n",
        "66\tChicago Lawn\n",
        "28\tNear West Side\n",
        "67\tWest Englewood\n",
        "29\tNorth Lawndale\n",
        "68\tEnglewood\n",
        "30\tSouth Lawndale\n",
        "69\tGreater Grand Crossing\n",
        "31\tLower West Side\n",
        "70\tAshburn\n",
        "32\tLoop\n",
        "71\tAuburn Gresham\n",
        "33\tNear South Side\n",
        "72\tBeverly\n",
        "34\tArmour Square\n",
        "73\tWashington Heights\n",
        "35\tDouglas\n",
        "74\tMount Greenwood\n",
        "36\tOakland\n",
        "75\tMorgan Park\n",
        "37\tFuller Park\n",
        "76\tO'Hare\n",
        "38\tGrand Boulevard\n",
        "77\tEdgewater\n",
        "39\tKenwood\n",
        "\"\"\""
      ]
    },
    {
      "cell_type": "code",
      "execution_count": null,
      "metadata": {
        "id": "6z4aiMeLB115"
      },
      "outputs": [],
      "source": [
        "code_pairs = [[float(p[0]), p[1]] for p in [pair.strip().split('\\t') for pair in area_names.strip().split('\\n')]]"
      ]
    },
    {
      "cell_type": "code",
      "execution_count": null,
      "metadata": {
        "id": "spQhVUNzB115"
      },
      "outputs": [],
      "source": [
        "code_pairs[:5]"
      ]
    },
    {
      "cell_type": "markdown",
      "metadata": {
        "id": "ser5IQwMB115"
      },
      "source": [
        "#### Une vue de la criminalité par quartier"
      ]
    },
    {
      "cell_type": "code",
      "execution_count": null,
      "metadata": {
        "id": "Nim4cZsaB115"
      },
      "outputs": [],
      "source": [
        "community_area_counts = pd.DataFrame(df_dates_community_areas.rdd.map(lambda row: row.asDict()).collect())"
      ]
    },
    {
      "cell_type": "code",
      "execution_count": null,
      "metadata": {
        "id": "Ca_tu8RtB116"
      },
      "outputs": [],
      "source": [
        "# Create a dictionary of area code to names\n",
        "area_name_dic = {float(k[0]):k[1] for k in code_pairs}"
      ]
    },
    {
      "cell_type": "code",
      "execution_count": null,
      "metadata": {
        "id": "b-740WEtB116"
      },
      "outputs": [],
      "source": [
        "community_area_counts['community_area_name'] = community_area_counts['community_area'].apply(lambda area: area_name_dic.get(float(area),  'unknown_%s'%area))"
      ]
    },
    {
      "cell_type": "code",
      "execution_count": null,
      "metadata": {
        "id": "xDMwFrSKB116"
      },
      "outputs": [],
      "source": [
        "community_area_counts = community_area_counts.sort_values(by='count')\n",
        "community_area_counts.head(5)"
      ]
    },
    {
      "cell_type": "code",
      "execution_count": null,
      "metadata": {
        "id": "A67CcFiyOXJc"
      },
      "outputs": [],
      "source": [
        "plt.rcParams[\"figure.figsize\"] = [32, 32]\n",
        "\n",
        "sns.set(style=\"whitegrid\")\n",
        "sns.set_color_codes(\"pastel\")\n",
        "\n",
        "sns.despine(left=True, bottom=True)\n",
        "area_chart = sns.barplot(x='count', y='community_area_name', data=community_area_counts)\n",
        "area_chart.set(ylabel=\"Community Area Name\", xlabel=\"Overall Crimes Record Count\")"
      ]
    },
    {
      "cell_type": "markdown",
      "metadata": {
        "id": "gIVRe2DvB116"
      },
      "source": [
        "**Que se passe-t-il dans le quartier Austin ?**"
      ]
    },
    {
      "cell_type": "code",
      "execution_count": null,
      "metadata": {
        "id": "msy66qy5B117"
      },
      "outputs": [],
      "source": [
        "code_pairs_df = spark.createDataFrame(code_pairs, ['community_area', 'area_name'])"
      ]
    },
    {
      "cell_type": "code",
      "execution_count": null,
      "metadata": {
        "id": "GfDl0DTTB117"
      },
      "outputs": [],
      "source": [
        "named_tops_of_tops = code_pairs_df.join(tops_of_tops, on='community_area', how='right')"
      ]
    },
    {
      "cell_type": "code",
      "execution_count": null,
      "metadata": {
        "id": "2IllTtJCB117",
        "scrolled": true
      },
      "outputs": [],
      "source": [
        "named_tops_of_tops.show(10)"
      ]
    },
    {
      "cell_type": "code",
      "execution_count": null,
      "metadata": {
        "id": "8cvFMx_lB117"
      },
      "outputs": [],
      "source": [
        "tops_of_tops_dff = pd.DataFrame(named_tops_of_tops.rdd.map(lambda l: l.asDict()).collect() )"
      ]
    },
    {
      "cell_type": "code",
      "execution_count": null,
      "metadata": {
        "id": "FNuMzeIcB117",
        "scrolled": false
      },
      "outputs": [],
      "source": [
        "plt.rcParams[\"figure.figsize\"] = [64, 16]\n",
        "sns.barplot(data=tops_of_tops_dff, x='area_name', y='count', hue='primary_type', palette='pastel')"
      ]
    },
    {
      "cell_type": "markdown",
      "metadata": {
        "id": "uB_Qsm4qB118"
      },
      "source": [
        "---\n",
        "\n",
        "\n",
        "# Pouvons-nous prédire le crime le plus probable à un moment/endroit ?\n",
        "\n",
        "Afin de le faire, on va nettoyer un peu plus le dataset\n",
        "\n",
        "### retirer ces variables :\n",
        "\n",
        " * 'id' - Random information that isn't a predictor of crime type\n",
        " * 'case_number' - Random information that isn't a predictor of crime type\n",
        " * 'date' - Removed because it's been re-featurized in other features generated above\n",
        " * 'block' - Excluded as this may simply mean noise\n",
        " * 'iucr' - Excluded as correlated with crime type. No point.\n",
        " * 'x_coordinate' - Not included\n",
        " * 'y_coordinate' - Not included\n",
        " * 'year' - Not included (already otherwise featurized)\n",
        " * 'updated_on' - not included\n",
        " * 'latitude' - not included\n",
        " * 'longitude' - not included\n",
        " * 'location' - not included\n",
        " * 'date_time' - Taken into account in other time-related features\n",
        " * 'description' - Excluded. I want to see this as associated with the response (primary type)\n",
        "\n",
        "\n",
        "### Garder ces variables :\n",
        "\n",
        " * 'location_description'\n",
        " * 'arrest'\n",
        " * 'domestic'\n",
        " * 'beat'\n",
        " * 'district'\n",
        " * 'ward'\n",
        " * 'community_area'\n",
        " * 'fbi_code'\n",
        " * 'hour'\n",
        " * 'week_day'\n",
        " * 'year_month'\n",
        " * 'month_day'\n",
        " * 'date_number'"
      ]
    },
    {
      "cell_type": "code",
      "execution_count": null,
      "metadata": {
        "id": "k7PAhZerB118"
      },
      "outputs": [],
      "source": [
        "selected_features = [\n",
        " 'location_description',\n",
        " 'arrest',\n",
        " 'domestic',\n",
        " 'beat',\n",
        " 'district',\n",
        " 'ward',\n",
        " 'community_area',\n",
        " 'fbi_code',\n",
        " 'hour',\n",
        " 'week_day',\n",
        " 'year_month',\n",
        " 'month_day',\n",
        " 'date_number']"
      ]
    },
    {
      "cell_type": "code",
      "execution_count": null,
      "metadata": {
        "id": "aoeTVTzFB118"
      },
      "outputs": [],
      "source": [
        "#Let's see the schema of these selected features:\n",
        "features_df = df_dates.select(selected_features)\n",
        "features_df.printSchema()"
      ]
    },
    {
      "cell_type": "code",
      "execution_count": null,
      "metadata": {
        "id": "rAaaC4YIB118"
      },
      "outputs": [],
      "source": [
        "feature_level_count_dic = []\n",
        "\n",
        "for feature in selected_features:\n",
        "    print('Analysing %s' % feature)\n",
        "    levels_list_df = features_df.select(feature).distinct()\n",
        "    feature_level_count_dic.append({'feature': feature, 'level_count': levels_list_df.count()})\n"
      ]
    },
    {
      "cell_type": "code",
      "execution_count": null,
      "metadata": {
        "id": "7rSiIDjeB119"
      },
      "outputs": [],
      "source": [
        "pd.DataFrame(feature_level_count_dic).sort_values(by='level_count', ascending=False)"
      ]
    },
    {
      "cell_type": "markdown",
      "metadata": {
        "id": "RtCp6KhLB119"
      },
      "source": [
        "### Preparer le modèle"
      ]
    },
    {
      "cell_type": "code",
      "execution_count": null,
      "metadata": {
        "id": "BzIUmUKVB119"
      },
      "outputs": [],
      "source": [
        "from pyspark.ml.feature import StringIndexer, VectorAssembler\n",
        "df_dates_features = df_dates.na.drop(subset=selected_features)"
      ]
    },
    {
      "cell_type": "markdown",
      "metadata": {
        "id": "IzcDGH9xB119"
      },
      "source": [
        "\n",
        "\n",
        "Utilisons le string indexer de Spark pour les variables séléctionnées"
      ]
    },
    {
      "cell_type": "code",
      "execution_count": null,
      "metadata": {
        "id": "uv1HInedB119"
      },
      "outputs": [],
      "source": [
        "for feature in feature_level_count_dic:\n",
        "    indexer = StringIndexer(inputCol=feature['feature'], outputCol='%s_indexed' % feature['feature'])\n",
        "    print('Fitting feature \"%s\"' % feature['feature'])\n",
        "    model = indexer.fit(df_dates_features)\n",
        "    print('Transforming \"%s\"' % feature['feature'])\n",
        "    df_dates_features = model.transform(df_dates_features)"
      ]
    },
    {
      "cell_type": "markdown",
      "metadata": {
        "id": "QuWNaj23B119"
      },
      "source": [
        "Même chose avec les labels"
      ]
    },
    {
      "cell_type": "code",
      "execution_count": null,
      "metadata": {
        "id": "nC66RKOIB11-"
      },
      "outputs": [],
      "source": [
        "## String-index the response variable:\n",
        "response_indexer = StringIndexer(inputCol='primary_type', outputCol='primary_type_indexed')\n",
        "response_model = response_indexer.fit(df_dates_features)\n",
        "df_dates_features = response_model.transform(df_dates_features)"
      ]
    },
    {
      "cell_type": "code",
      "execution_count": null,
      "metadata": {
        "id": "qkDJrAlZB11-"
      },
      "outputs": [],
      "source": [
        "#What does it look like now...\n",
        "df_dates_features.show(1)"
      ]
    },
    {
      "cell_type": "markdown",
      "metadata": {
        "id": "pTTRMWzvB11-"
      },
      "source": [
        "\n",
        "Maintenant, on va vectoriser les éléments pour les avoir dans une colonne `features`"
      ]
    },
    {
      "cell_type": "code",
      "execution_count": null,
      "metadata": {
        "id": "yQlyvrqDB11-"
      },
      "outputs": [],
      "source": [
        "indexed_features = ['%s_indexed' % fc['feature'] for fc in feature_level_count_dic]\n",
        "indexed_features"
      ]
    },
    {
      "cell_type": "code",
      "execution_count": null,
      "metadata": {
        "id": "hd7cHSaDB11-"
      },
      "outputs": [],
      "source": [
        "assembler = VectorAssembler(inputCols=indexed_features, outputCol='features')\n",
        "vectorized_df_dates = assembler.transform(df_dates_features)"
      ]
    },
    {
      "cell_type": "code",
      "execution_count": null,
      "metadata": {
        "id": "8rjBaOvIB11-"
      },
      "outputs": [],
      "source": [
        "vectorized_df_dates.select('features').take(1)"
      ]
    },
    {
      "cell_type": "markdown",
      "metadata": {
        "id": "_VhRLNToB11_"
      },
      "source": [
        "### Et entraîner le modèle.\n",
        "\n",
        "Utiliser une répartition **60%**/**40%** entre les données train et test.\n",
        "\n",
        "Pour commencer, utilisons une régression logistique."
      ]
    },
    {
      "cell_type": "code",
      "execution_count": null,
      "metadata": {
        "id": "V5o3nfGoB11_"
      },
      "outputs": [],
      "source": [
        "train, test = vectorized_df_dates.randomSplit([0.6, 0.4])"
      ]
    },
    {
      "cell_type": "code",
      "execution_count": null,
      "metadata": {
        "id": "MAiOrrAxB11_"
      },
      "outputs": [],
      "source": [
        "from pyspark.ml.classification import LogisticRegression"
      ]
    },
    {
      "cell_type": "code",
      "execution_count": null,
      "metadata": {
        "id": "mN_6tIczB12D"
      },
      "outputs": [],
      "source": [
        "logisticRegression = LogisticRegression(labelCol='primary_type_indexed', featuresCol='features', maxIter=10, family='multinomial')"
      ]
    },
    {
      "cell_type": "code",
      "execution_count": null,
      "metadata": {
        "colab": {
          "background_save": true
        },
        "id": "r1POpewVB12D"
      },
      "outputs": [],
      "source": [
        "fittedModel = logisticRegression.fit(train)"
      ]
    },
    {
      "cell_type": "markdown",
      "metadata": {
        "id": "61Bp4ZAPB12D"
      },
      "source": [
        "## Quelle est la performance du modèle ?"
      ]
    },
    {
      "cell_type": "code",
      "execution_count": null,
      "metadata": {
        "colab": {
          "background_save": true
        },
        "id": "EUk1afIxB12D"
      },
      "outputs": [],
      "source": [
        "fittedModel.summary.accuracy"
      ]
    },
    {
      "cell_type": "code",
      "execution_count": null,
      "metadata": {
        "colab": {
          "background_save": true
        },
        "id": "EaUuQzqgB12E"
      },
      "outputs": [],
      "source": [
        "model_summary = fittedModel.summary"
      ]
    },
    {
      "cell_type": "code",
      "execution_count": null,
      "metadata": {
        "colab": {
          "background_save": true
        },
        "id": "OtiUfTfEB12E"
      },
      "outputs": [],
      "source": [
        "fittedModel.coefficientMatrix"
      ]
    },
    {
      "cell_type": "markdown",
      "metadata": {
        "id": "Z1waEhnaB12E"
      },
      "source": [
        "#### Pourquoi nous avons une forme 34x13 ?\n",
        "\n",
        "Comme on faut une regressions logistique multinomial logistic, elle est entraînée sur **chaque classe** des labels. Ainsi, une probabilité pour chaque classe est identifiée."
      ]
    },
    {
      "cell_type": "code",
      "execution_count": null,
      "metadata": {
        "colab": {
          "background_save": true
        },
        "id": "7foJ6gSZB12E"
      },
      "outputs": [],
      "source": [
        "print(fittedModel.coefficientMatrix)"
      ]
    },
    {
      "cell_type": "code",
      "execution_count": null,
      "metadata": {
        "colab": {
          "background_save": true
        },
        "id": "21BT-leoB12E"
      },
      "outputs": [],
      "source": [
        "print('Coefficient matrix:\\nRow count = %s\\nCol count = %s' % (fittedModel.coefficientMatrix.numRows, fittedModel.coefficientMatrix.numCols))"
      ]
    },
    {
      "cell_type": "code",
      "execution_count": null,
      "metadata": {
        "colab": {
          "background_save": true
        },
        "id": "vDsTIPWQB12F"
      },
      "outputs": [],
      "source": [
        "print('Model:\\nNum Classes = %s\\nNum Features = %s' % (fittedModel.numClasses, fittedModel.numFeatures))"
      ]
    },
    {
      "cell_type": "code",
      "execution_count": null,
      "metadata": {
        "colab": {
          "background_save": true
        },
        "id": "RI1PAVf6B12F"
      },
      "outputs": [],
      "source": [
        "print('Training \"primary_type\" factor level count = %s' % train.select('primary_type_indexed').distinct().count())"
      ]
    },
    {
      "cell_type": "code",
      "execution_count": null,
      "metadata": {
        "colab": {
          "background_save": true
        },
        "id": "I0BaXvqwB12F"
      },
      "outputs": [],
      "source": [
        "vectorized_df_dates.select('features').show(2, truncate=False)"
      ]
    },
    {
      "cell_type": "code",
      "execution_count": null,
      "metadata": {
        "colab": {
          "background_save": true
        },
        "id": "WU8VQVboB12F"
      },
      "outputs": [],
      "source": [
        "fittedModel.numClasses"
      ]
    },
    {
      "cell_type": "code",
      "execution_count": null,
      "metadata": {
        "colab": {
          "background_save": true
        },
        "id": "6FUrKeSdB12G"
      },
      "outputs": [],
      "source": [
        "fittedModel.numFeatures"
      ]
    },
    {
      "cell_type": "code",
      "execution_count": null,
      "metadata": {
        "colab": {
          "background_save": true
        },
        "id": "1k86EnvlB12G"
      },
      "outputs": [],
      "source": [
        "train.select('primary_type_indexed').distinct().count()"
      ]
    },
    {
      "cell_type": "code",
      "execution_count": null,
      "metadata": {
        "colab": {
          "background_save": true
        },
        "id": "Vogn3CyRB12G"
      },
      "outputs": [],
      "source": [
        "df_dates.select('primary_type').distinct().count()"
      ]
    },
    {
      "cell_type": "code",
      "execution_count": null,
      "metadata": {
        "colab": {
          "background_save": true
        },
        "id": "LGXk-pOrB12G"
      },
      "outputs": [],
      "source": [
        "fittedModel.interceptVector.values.size"
      ]
    },
    {
      "cell_type": "code",
      "execution_count": null,
      "metadata": {
        "colab": {
          "background_save": true
        },
        "id": "AWcI2uQrB12G"
      },
      "outputs": [],
      "source": [
        "print(model_summary.objectiveHistory)\n",
        "print()\n",
        "print('Objective history size ', len(model_summary.objectiveHistory))"
      ]
    },
    {
      "cell_type": "code",
      "execution_count": null,
      "metadata": {
        "colab": {
          "background_save": true
        },
        "id": "K-6dY3JEB12H"
      },
      "outputs": [],
      "source": [
        "sns.barplot(y=model_summary.objectiveHistory, x=list(range(len(model_summary.objectiveHistory))))"
      ]
    },
    {
      "cell_type": "code",
      "execution_count": null,
      "metadata": {
        "id": "sW10pcjnB12H",
        "scrolled": false
      },
      "outputs": [],
      "source": [
        "label_stats = {float(i):{'index': float(i)} for i in range(34)}\n",
        "print(label_stats)"
      ]
    },
    {
      "cell_type": "code",
      "execution_count": null,
      "metadata": {
        "id": "9oOH0i_QB12H"
      },
      "outputs": [],
      "source": [
        "print(\"False positive rate by label:\")\n",
        "for i, rate in enumerate(model_summary.falsePositiveRateByLabel):\n",
        "    label_stats[i]['false_positive_rate'] = rate\n",
        "\n",
        "for i, rate in enumerate(model_summary.truePositiveRateByLabel):\n",
        "    label_stats[i]['true_positive_rate'] = rate\n",
        "\n",
        "for i, rate in enumerate(model_summary.precisionByLabel):\n",
        "    label_stats[i]['precision_rate'] = rate\n",
        "\n",
        "for i, rate in enumerate(model_summary.recallByLabel):\n",
        "    label_stats[i]['recall_rate'] = rate\n",
        "\n",
        "for i, rate in enumerate(model_summary.fMeasureByLabel()):\n",
        "    label_stats[i]['f_measure'] = rate"
      ]
    },
    {
      "cell_type": "code",
      "execution_count": null,
      "metadata": {
        "id": "iPaH4kKFB12H"
      },
      "outputs": [],
      "source": [
        "train_rdd = train.select(['primary_type', 'primary_type_indexed']).distinct().orderBy('primary_type_indexed').rdd.map(lambda l: l.asDict()).collect()\n"
      ]
    },
    {
      "cell_type": "code",
      "execution_count": null,
      "metadata": {
        "id": "8qQVcsc6B12H"
      },
      "outputs": [],
      "source": [
        "for l in train_rdd:\n",
        "    print(l)\n",
        "    label_stats[l['primary_type_indexed']]['primary_type'] = l['primary_type']"
      ]
    },
    {
      "cell_type": "code",
      "execution_count": null,
      "metadata": {
        "id": "ISbDXKiWB12H"
      },
      "outputs": [],
      "source": [
        "rates_pddf = pd.DataFrame(list(label_stats.values()))"
      ]
    },
    {
      "cell_type": "code",
      "execution_count": null,
      "metadata": {
        "id": "kJkFjRnGB12I"
      },
      "outputs": [],
      "source": [
        "rates_pddf = rates_pddf.sort_values(by='precision_rate', ascending=False)"
      ]
    },
    {
      "cell_type": "markdown",
      "metadata": {
        "id": "hqVSfg5AB12I"
      },
      "source": [
        "#### Est-ce que ça semble un bon modèle pour prédire les crimes ?"
      ]
    },
    {
      "cell_type": "code",
      "execution_count": null,
      "metadata": {
        "id": "fhXjzli0B12I"
      },
      "outputs": [],
      "source": [
        "rates_pddf"
      ]
    },
    {
      "cell_type": "markdown",
      "metadata": {
        "id": "zia6icgeB12I"
      },
      "source": [
        "## À vous:\n",
        "\n",
        " * Exécuter le modèle sur l'ensemble de test"
      ]
    },
    {
      "cell_type": "code",
      "execution_count": null,
      "metadata": {
        "id": "GufhVXMAB12I"
      },
      "outputs": [],
      "source": []
    }
  ],
  "metadata": {
    "colab": {
      "name": "chicago-crime-data-on-spark.ipynb",
      "provenance": [],
      "include_colab_link": true
    },
    "kernelspec": {
      "display_name": "Python 3",
      "language": "python",
      "name": "python3"
    },
    "language_info": {
      "codemirror_mode": {
        "name": "ipython",
        "version": 3
      },
      "file_extension": ".py",
      "mimetype": "text/x-python",
      "name": "python",
      "nbconvert_exporter": "python",
      "pygments_lexer": "ipython3",
      "version": "3.6.4"
    }
  },
  "nbformat": 4,
  "nbformat_minor": 0
}